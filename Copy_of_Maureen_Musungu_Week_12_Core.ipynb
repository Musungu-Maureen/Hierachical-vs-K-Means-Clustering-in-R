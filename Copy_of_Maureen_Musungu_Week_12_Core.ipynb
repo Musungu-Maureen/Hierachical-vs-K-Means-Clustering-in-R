{
  "nbformat": 4,
  "nbformat_minor": 0,
  "metadata": {
    "colab": {
      "name": "Copy of Maureen_Musungu_Week_12_Core.ipynb",
      "provenance": [],
      "collapsed_sections": [],
      "toc_visible": true,
      "include_colab_link": true
    },
    "kernelspec": {
      "display_name": "R",
      "name": "ir"
    },
    "language_info": {
      "name": "R"
    }
  },
  "cells": [
    {
      "cell_type": "markdown",
      "metadata": {
        "id": "view-in-github",
        "colab_type": "text"
      },
      "source": [
        "<a href=\"https://colab.research.google.com/github/Musungu-Maureen/IP_WEEK_13/blob/main/Copy_of_Maureen_Musungu_Week_12_Core.ipynb\" target=\"_parent\"><img src=\"https://colab.research.google.com/assets/colab-badge.svg\" alt=\"Open In Colab\"/></a>"
      ]
    },
    {
      "cell_type": "markdown",
      "metadata": {
        "id": "75Q01K-cohAI"
      },
      "source": [
        "#Ad Click Analysis"
      ]
    },
    {
      "cell_type": "markdown",
      "metadata": {
        "id": "TF-ok53jFPa5"
      },
      "source": [
        "## Defining the Question"
      ]
    },
    {
      "cell_type": "markdown",
      "metadata": {
        "id": "gqgwHdJOFX08"
      },
      "source": [
        "### a) Specifying the Data Analytic Question"
      ]
    },
    {
      "cell_type": "markdown",
      "metadata": {
        "id": "JqUeLXzNFijs"
      },
      "source": [
        "Identifying which individuals are most likely to click on the cryptography course ads on the blog. \n",
        "\n",
        "\n"
      ]
    },
    {
      "cell_type": "markdown",
      "metadata": {
        "id": "GbkWvQiRF8Z0"
      },
      "source": [
        "### b) Defining the Metric for Success"
      ]
    },
    {
      "cell_type": "markdown",
      "metadata": {
        "id": "vO2r8Q8EGFhm"
      },
      "source": [
        "The project will be deemed successful if it is able to identify the customers that are most likely to click on the cryptography course ads. "
      ]
    },
    {
      "cell_type": "markdown",
      "metadata": {
        "id": "aJyX60JBGSgo"
      },
      "source": [
        "### c) Understanding the Context"
      ]
    },
    {
      "cell_type": "markdown",
      "metadata": {
        "id": "zsxJxbz_GbvM"
      },
      "source": [
        "A Kenyan entrepreneur has created an online cryptography course and would want to advertise it on her blog. She currently targets audiences originating from various countries. In the past, she ran ads to advertise a related course on the same blog and collected data in the process. She would now like to employ your services as a Data Science Consultant to help her identify which individuals are most likely to click on her ads. "
      ]
    },
    {
      "cell_type": "markdown",
      "metadata": {
        "id": "eJG6PyJ3Gq4f"
      },
      "source": [
        "### d) Experimental Design"
      ]
    },
    {
      "cell_type": "markdown",
      "metadata": {
        "id": "guSn4eA7GyNA"
      },
      "source": [
        "1. Data Cleaning by \n",
        "2. Perform  univariate and bivariate analysis.\n",
        "3. Providing a conclusion and recommendation"
      ]
    },
    {
      "cell_type": "markdown",
      "metadata": {
        "id": "EvOCqnsQG2st"
      },
      "source": [
        "### e) Data Relevance"
      ]
    },
    {
      "cell_type": "markdown",
      "metadata": {
        "id": "kcoAL9DvG68j"
      },
      "source": [
        "The data availed is relevant for this study. "
      ]
    },
    {
      "cell_type": "markdown",
      "metadata": {
        "id": "bV-1t4xQinr7"
      },
      "source": [
        "## Loading Relevant packages"
      ]
    },
    {
      "cell_type": "code",
      "metadata": {
        "id": "AEeM_BbsUvcS",
        "colab": {
          "base_uri": "https://localhost:8080/"
        },
        "outputId": "52fe1da2-5edc-4009-c1ec-fcaf9712ced0"
      },
      "source": [
        "# load data.table package\n",
        "library(\"data.table\")\n",
        "# load tidyverse package\n",
        "library(\"tidyverse\")\n",
        "# install cutr package from github\n",
        "devtools::install_github(\"moodymudskipper/cutr\")\n",
        "# load cutr package\n",
        "library(cutr)\n",
        "# install modeest package form github\n",
        "devtools::install_github(\"paulponcet/modeest\")\n",
        "# load modeest package\n",
        "library(modeest)\n",
        "# install moments package\n",
        "install.packages('moments')\n",
        "# load moments package\n",
        "library(moments)\n",
        "# install janitor package\n",
        "install.packages('janitor')\n",
        "# load janitor package \n",
        "library(janitor)\n"
      ],
      "execution_count": 3,
      "outputs": [
        {
          "output_type": "stream",
          "name": "stderr",
          "text": [
            "Skipping install of 'cutr' from a github remote, the SHA1 (7b8e9cdc) has not changed since last install.\n",
            "  Use `force = TRUE` to force installation\n",
            "\n",
            "Skipping install of 'modeest' from a github remote, the SHA1 (a168f944) has not changed since last install.\n",
            "  Use `force = TRUE` to force installation\n",
            "\n",
            "Installing package into ‘/usr/local/lib/R/site-library’\n",
            "(as ‘lib’ is unspecified)\n",
            "\n",
            "Installing package into ‘/usr/local/lib/R/site-library’\n",
            "(as ‘lib’ is unspecified)\n",
            "\n"
          ]
        }
      ]
    },
    {
      "cell_type": "markdown",
      "metadata": {
        "id": "7GCm9v8vbsCX"
      },
      "source": [
        "## Reading the data"
      ]
    },
    {
      "cell_type": "code",
      "metadata": {
        "id": "CApSwdtSKZQJ"
      },
      "source": [
        "# loading the csv file \n",
        "data <- read.csv(file = '/content/advertising.csv')"
      ],
      "execution_count": 5,
      "outputs": []
    },
    {
      "cell_type": "code",
      "metadata": {
        "colab": {
          "base_uri": "https://localhost:8080/",
          "height": 382
        },
        "id": "Nn3x5zU3bzNS",
        "outputId": "5e857dc3-c83f-4104-d27f-67551b4190ce"
      },
      "source": [
        "# preview the first six records in the dataset\n",
        "head(data)"
      ],
      "execution_count": 6,
      "outputs": [
        {
          "output_type": "display_data",
          "data": {
            "text/plain": [
              "  Daily.Time.Spent.on.Site Age Area.Income Daily.Internet.Usage\n",
              "1 68.95                    35  61833.90    256.09              \n",
              "2 80.23                    31  68441.85    193.77              \n",
              "3 69.47                    26  59785.94    236.50              \n",
              "4 74.15                    29  54806.18    245.89              \n",
              "5 68.37                    35  73889.99    225.58              \n",
              "6 59.99                    23  59761.56    226.74              \n",
              "  Ad.Topic.Line                         City           Male Country   \n",
              "1 Cloned 5thgeneration orchestration    Wrightburgh    0    Tunisia   \n",
              "2 Monitored national standardization    West Jodi      1    Nauru     \n",
              "3 Organic bottom-line service-desk      Davidton       0    San Marino\n",
              "4 Triple-buffered reciprocal time-frame West Terrifurt 1    Italy     \n",
              "5 Robust logistical utilization         South Manuel   0    Iceland   \n",
              "6 Sharable client-driven software       Jamieberg      1    Norway    \n",
              "  Timestamp           Clicked.on.Ad\n",
              "1 2016-03-27 00:53:11 0            \n",
              "2 2016-04-04 01:39:02 0            \n",
              "3 2016-03-13 20:35:42 0            \n",
              "4 2016-01-10 02:31:19 0            \n",
              "5 2016-06-03 03:36:18 0            \n",
              "6 2016-05-19 14:30:17 0            "
            ],
            "text/latex": "A data.frame: 6 × 10\n\\begin{tabular}{r|llllllllll}\n  & Daily.Time.Spent.on.Site & Age & Area.Income & Daily.Internet.Usage & Ad.Topic.Line & City & Male & Country & Timestamp & Clicked.on.Ad\\\\\n  & <dbl> & <int> & <dbl> & <dbl> & <chr> & <chr> & <int> & <chr> & <chr> & <int>\\\\\n\\hline\n\t1 & 68.95 & 35 & 61833.90 & 256.09 & Cloned 5thgeneration orchestration    & Wrightburgh    & 0 & Tunisia    & 2016-03-27 00:53:11 & 0\\\\\n\t2 & 80.23 & 31 & 68441.85 & 193.77 & Monitored national standardization    & West Jodi      & 1 & Nauru      & 2016-04-04 01:39:02 & 0\\\\\n\t3 & 69.47 & 26 & 59785.94 & 236.50 & Organic bottom-line service-desk      & Davidton       & 0 & San Marino & 2016-03-13 20:35:42 & 0\\\\\n\t4 & 74.15 & 29 & 54806.18 & 245.89 & Triple-buffered reciprocal time-frame & West Terrifurt & 1 & Italy      & 2016-01-10 02:31:19 & 0\\\\\n\t5 & 68.37 & 35 & 73889.99 & 225.58 & Robust logistical utilization         & South Manuel   & 0 & Iceland    & 2016-06-03 03:36:18 & 0\\\\\n\t6 & 59.99 & 23 & 59761.56 & 226.74 & Sharable client-driven software       & Jamieberg      & 1 & Norway     & 2016-05-19 14:30:17 & 0\\\\\n\\end{tabular}\n",
            "text/markdown": "\nA data.frame: 6 × 10\n\n| <!--/--> | Daily.Time.Spent.on.Site &lt;dbl&gt; | Age &lt;int&gt; | Area.Income &lt;dbl&gt; | Daily.Internet.Usage &lt;dbl&gt; | Ad.Topic.Line &lt;chr&gt; | City &lt;chr&gt; | Male &lt;int&gt; | Country &lt;chr&gt; | Timestamp &lt;chr&gt; | Clicked.on.Ad &lt;int&gt; |\n|---|---|---|---|---|---|---|---|---|---|---|\n| 1 | 68.95 | 35 | 61833.90 | 256.09 | Cloned 5thgeneration orchestration    | Wrightburgh    | 0 | Tunisia    | 2016-03-27 00:53:11 | 0 |\n| 2 | 80.23 | 31 | 68441.85 | 193.77 | Monitored national standardization    | West Jodi      | 1 | Nauru      | 2016-04-04 01:39:02 | 0 |\n| 3 | 69.47 | 26 | 59785.94 | 236.50 | Organic bottom-line service-desk      | Davidton       | 0 | San Marino | 2016-03-13 20:35:42 | 0 |\n| 4 | 74.15 | 29 | 54806.18 | 245.89 | Triple-buffered reciprocal time-frame | West Terrifurt | 1 | Italy      | 2016-01-10 02:31:19 | 0 |\n| 5 | 68.37 | 35 | 73889.99 | 225.58 | Robust logistical utilization         | South Manuel   | 0 | Iceland    | 2016-06-03 03:36:18 | 0 |\n| 6 | 59.99 | 23 | 59761.56 | 226.74 | Sharable client-driven software       | Jamieberg      | 1 | Norway     | 2016-05-19 14:30:17 | 0 |\n\n",
            "text/html": [
              "<table class=\"dataframe\">\n",
              "<caption>A data.frame: 6 × 10</caption>\n",
              "<thead>\n",
              "\t<tr><th></th><th scope=col>Daily.Time.Spent.on.Site</th><th scope=col>Age</th><th scope=col>Area.Income</th><th scope=col>Daily.Internet.Usage</th><th scope=col>Ad.Topic.Line</th><th scope=col>City</th><th scope=col>Male</th><th scope=col>Country</th><th scope=col>Timestamp</th><th scope=col>Clicked.on.Ad</th></tr>\n",
              "\t<tr><th></th><th scope=col>&lt;dbl&gt;</th><th scope=col>&lt;int&gt;</th><th scope=col>&lt;dbl&gt;</th><th scope=col>&lt;dbl&gt;</th><th scope=col>&lt;chr&gt;</th><th scope=col>&lt;chr&gt;</th><th scope=col>&lt;int&gt;</th><th scope=col>&lt;chr&gt;</th><th scope=col>&lt;chr&gt;</th><th scope=col>&lt;int&gt;</th></tr>\n",
              "</thead>\n",
              "<tbody>\n",
              "\t<tr><th scope=row>1</th><td>68.95</td><td>35</td><td>61833.90</td><td>256.09</td><td>Cloned 5thgeneration orchestration   </td><td>Wrightburgh   </td><td>0</td><td>Tunisia   </td><td>2016-03-27 00:53:11</td><td>0</td></tr>\n",
              "\t<tr><th scope=row>2</th><td>80.23</td><td>31</td><td>68441.85</td><td>193.77</td><td>Monitored national standardization   </td><td>West Jodi     </td><td>1</td><td>Nauru     </td><td>2016-04-04 01:39:02</td><td>0</td></tr>\n",
              "\t<tr><th scope=row>3</th><td>69.47</td><td>26</td><td>59785.94</td><td>236.50</td><td>Organic bottom-line service-desk     </td><td>Davidton      </td><td>0</td><td>San Marino</td><td>2016-03-13 20:35:42</td><td>0</td></tr>\n",
              "\t<tr><th scope=row>4</th><td>74.15</td><td>29</td><td>54806.18</td><td>245.89</td><td>Triple-buffered reciprocal time-frame</td><td>West Terrifurt</td><td>1</td><td>Italy     </td><td>2016-01-10 02:31:19</td><td>0</td></tr>\n",
              "\t<tr><th scope=row>5</th><td>68.37</td><td>35</td><td>73889.99</td><td>225.58</td><td>Robust logistical utilization        </td><td>South Manuel  </td><td>0</td><td>Iceland   </td><td>2016-06-03 03:36:18</td><td>0</td></tr>\n",
              "\t<tr><th scope=row>6</th><td>59.99</td><td>23</td><td>59761.56</td><td>226.74</td><td>Sharable client-driven software      </td><td>Jamieberg     </td><td>1</td><td>Norway    </td><td>2016-05-19 14:30:17</td><td>0</td></tr>\n",
              "</tbody>\n",
              "</table>\n"
            ]
          },
          "metadata": {}
        }
      ]
    },
    {
      "cell_type": "code",
      "metadata": {
        "colab": {
          "base_uri": "https://localhost:8080/",
          "height": 34
        },
        "id": "5Nxi4l7QdnSb",
        "outputId": "ab4b6d7b-8350-4b6d-d052-5ca626a0b39a"
      },
      "source": [
        "# Checking the number of rows and columns in our data\n",
        "\n",
        "dim(data)"
      ],
      "execution_count": 7,
      "outputs": [
        {
          "output_type": "display_data",
          "data": {
            "text/plain": [
              "[1] 1000   10"
            ],
            "text/latex": "\\begin{enumerate*}\n\\item 1000\n\\item 10\n\\end{enumerate*}\n",
            "text/markdown": "1. 1000\n2. 10\n\n\n",
            "text/html": [
              "<style>\n",
              ".list-inline {list-style: none; margin:0; padding: 0}\n",
              ".list-inline>li {display: inline-block}\n",
              ".list-inline>li:not(:last-child)::after {content: \"\\00b7\"; padding: 0 .5ex}\n",
              "</style>\n",
              "<ol class=list-inline><li>1000</li><li>10</li></ol>\n"
            ]
          },
          "metadata": {}
        }
      ]
    },
    {
      "cell_type": "markdown",
      "metadata": {
        "id": "vJewrDF_ermq"
      },
      "source": [
        "There are 1000 rows and 10 columns in our data."
      ]
    },
    {
      "cell_type": "code",
      "metadata": {
        "colab": {
          "base_uri": "https://localhost:8080/"
        },
        "id": "Y3uaeCfaYilQ",
        "outputId": "046a1ffc-1585-46b0-9f33-5fac89199690"
      },
      "source": [
        "# Checking the data types of the columns\n",
        "str(data)"
      ],
      "execution_count": 8,
      "outputs": [
        {
          "output_type": "stream",
          "name": "stdout",
          "text": [
            "'data.frame':\t1000 obs. of  10 variables:\n",
            " $ Daily.Time.Spent.on.Site: num  69 80.2 69.5 74.2 68.4 ...\n",
            " $ Age                     : int  35 31 26 29 35 23 33 48 30 20 ...\n",
            " $ Area.Income             : num  61834 68442 59786 54806 73890 ...\n",
            " $ Daily.Internet.Usage    : num  256 194 236 246 226 ...\n",
            " $ Ad.Topic.Line           : chr  \"Cloned 5thgeneration orchestration\" \"Monitored national standardization\" \"Organic bottom-line service-desk\" \"Triple-buffered reciprocal time-frame\" ...\n",
            " $ City                    : chr  \"Wrightburgh\" \"West Jodi\" \"Davidton\" \"West Terrifurt\" ...\n",
            " $ Male                    : int  0 1 0 1 0 1 0 1 1 1 ...\n",
            " $ Country                 : chr  \"Tunisia\" \"Nauru\" \"San Marino\" \"Italy\" ...\n",
            " $ Timestamp               : chr  \"2016-03-27 00:53:11\" \"2016-04-04 01:39:02\" \"2016-03-13 20:35:42\" \"2016-01-10 02:31:19\" ...\n",
            " $ Clicked.on.Ad           : int  0 0 0 0 0 0 0 1 0 0 ...\n"
          ]
        }
      ]
    },
    {
      "cell_type": "markdown",
      "metadata": {
        "id": "zjwPLwlre1rh"
      },
      "source": [
        "\"Clicked on Ad\" and \"Male\" are categorical variables even though they have numeric values. Their data types will be changed in the data cleaning section. "
      ]
    },
    {
      "cell_type": "markdown",
      "metadata": {
        "id": "U8ToHFmsgwQI"
      },
      "source": [
        "## Tidying the Data"
      ]
    },
    {
      "cell_type": "code",
      "metadata": {
        "colab": {
          "base_uri": "https://localhost:8080/",
          "height": 192
        },
        "id": "VavhuDeML9oR",
        "outputId": "67d6caea-f4f4-46f3-9ca7-462119b8be4a"
      },
      "source": [
        "head(data, 2)"
      ],
      "execution_count": 9,
      "outputs": [
        {
          "output_type": "display_data",
          "data": {
            "text/plain": [
              "  Daily.Time.Spent.on.Site Age Area.Income Daily.Internet.Usage\n",
              "1 68.95                    35  61833.90    256.09              \n",
              "2 80.23                    31  68441.85    193.77              \n",
              "  Ad.Topic.Line                      City        Male Country\n",
              "1 Cloned 5thgeneration orchestration Wrightburgh 0    Tunisia\n",
              "2 Monitored national standardization West Jodi   1    Nauru  \n",
              "  Timestamp           Clicked.on.Ad\n",
              "1 2016-03-27 00:53:11 0            \n",
              "2 2016-04-04 01:39:02 0            "
            ],
            "text/latex": "A data.frame: 2 × 10\n\\begin{tabular}{r|llllllllll}\n  & Daily.Time.Spent.on.Site & Age & Area.Income & Daily.Internet.Usage & Ad.Topic.Line & City & Male & Country & Timestamp & Clicked.on.Ad\\\\\n  & <dbl> & <int> & <dbl> & <dbl> & <chr> & <chr> & <int> & <chr> & <chr> & <int>\\\\\n\\hline\n\t1 & 68.95 & 35 & 61833.90 & 256.09 & Cloned 5thgeneration orchestration & Wrightburgh & 0 & Tunisia & 2016-03-27 00:53:11 & 0\\\\\n\t2 & 80.23 & 31 & 68441.85 & 193.77 & Monitored national standardization & West Jodi   & 1 & Nauru   & 2016-04-04 01:39:02 & 0\\\\\n\\end{tabular}\n",
            "text/markdown": "\nA data.frame: 2 × 10\n\n| <!--/--> | Daily.Time.Spent.on.Site &lt;dbl&gt; | Age &lt;int&gt; | Area.Income &lt;dbl&gt; | Daily.Internet.Usage &lt;dbl&gt; | Ad.Topic.Line &lt;chr&gt; | City &lt;chr&gt; | Male &lt;int&gt; | Country &lt;chr&gt; | Timestamp &lt;chr&gt; | Clicked.on.Ad &lt;int&gt; |\n|---|---|---|---|---|---|---|---|---|---|---|\n| 1 | 68.95 | 35 | 61833.90 | 256.09 | Cloned 5thgeneration orchestration | Wrightburgh | 0 | Tunisia | 2016-03-27 00:53:11 | 0 |\n| 2 | 80.23 | 31 | 68441.85 | 193.77 | Monitored national standardization | West Jodi   | 1 | Nauru   | 2016-04-04 01:39:02 | 0 |\n\n",
            "text/html": [
              "<table class=\"dataframe\">\n",
              "<caption>A data.frame: 2 × 10</caption>\n",
              "<thead>\n",
              "\t<tr><th></th><th scope=col>Daily.Time.Spent.on.Site</th><th scope=col>Age</th><th scope=col>Area.Income</th><th scope=col>Daily.Internet.Usage</th><th scope=col>Ad.Topic.Line</th><th scope=col>City</th><th scope=col>Male</th><th scope=col>Country</th><th scope=col>Timestamp</th><th scope=col>Clicked.on.Ad</th></tr>\n",
              "\t<tr><th></th><th scope=col>&lt;dbl&gt;</th><th scope=col>&lt;int&gt;</th><th scope=col>&lt;dbl&gt;</th><th scope=col>&lt;dbl&gt;</th><th scope=col>&lt;chr&gt;</th><th scope=col>&lt;chr&gt;</th><th scope=col>&lt;int&gt;</th><th scope=col>&lt;chr&gt;</th><th scope=col>&lt;chr&gt;</th><th scope=col>&lt;int&gt;</th></tr>\n",
              "</thead>\n",
              "<tbody>\n",
              "\t<tr><th scope=row>1</th><td>68.95</td><td>35</td><td>61833.90</td><td>256.09</td><td>Cloned 5thgeneration orchestration</td><td>Wrightburgh</td><td>0</td><td>Tunisia</td><td>2016-03-27 00:53:11</td><td>0</td></tr>\n",
              "\t<tr><th scope=row>2</th><td>80.23</td><td>31</td><td>68441.85</td><td>193.77</td><td>Monitored national standardization</td><td>West Jodi  </td><td>1</td><td>Nauru  </td><td>2016-04-04 01:39:02</td><td>0</td></tr>\n",
              "</tbody>\n",
              "</table>\n"
            ]
          },
          "metadata": {}
        }
      ]
    },
    {
      "cell_type": "markdown",
      "metadata": {
        "id": "5ay_eZmyQQeU"
      },
      "source": [
        "**Column names**"
      ]
    },
    {
      "cell_type": "code",
      "metadata": {
        "colab": {
          "base_uri": "https://localhost:8080/",
          "height": 34
        },
        "id": "fKFAsV2eMSzX",
        "outputId": "6931c0a3-4dbb-456d-90e8-71ed21c34112"
      },
      "source": [
        "# Changing the column names to lower case\n",
        "names(data) <- tolower(names(data))\n",
        "colnames(data)"
      ],
      "execution_count": 8,
      "outputs": [
        {
          "output_type": "display_data",
          "data": {
            "text/plain": [
              " [1] \"daily.time.spent.on.site\" \"age\"                     \n",
              " [3] \"area.income\"              \"daily.internet.usage\"    \n",
              " [5] \"ad.topic.line\"            \"city\"                    \n",
              " [7] \"male\"                     \"country\"                 \n",
              " [9] \"timestamp\"                \"clicked.on.ad\"           "
            ],
            "text/latex": "\\begin{enumerate*}\n\\item 'daily.time.spent.on.site'\n\\item 'age'\n\\item 'area.income'\n\\item 'daily.internet.usage'\n\\item 'ad.topic.line'\n\\item 'city'\n\\item 'male'\n\\item 'country'\n\\item 'timestamp'\n\\item 'clicked.on.ad'\n\\end{enumerate*}\n",
            "text/markdown": "1. 'daily.time.spent.on.site'\n2. 'age'\n3. 'area.income'\n4. 'daily.internet.usage'\n5. 'ad.topic.line'\n6. 'city'\n7. 'male'\n8. 'country'\n9. 'timestamp'\n10. 'clicked.on.ad'\n\n\n",
            "text/html": [
              "<style>\n",
              ".list-inline {list-style: none; margin:0; padding: 0}\n",
              ".list-inline>li {display: inline-block}\n",
              ".list-inline>li:not(:last-child)::after {content: \"\\00b7\"; padding: 0 .5ex}\n",
              "</style>\n",
              "<ol class=list-inline><li>'daily.time.spent.on.site'</li><li>'age'</li><li>'area.income'</li><li>'daily.internet.usage'</li><li>'ad.topic.line'</li><li>'city'</li><li>'male'</li><li>'country'</li><li>'timestamp'</li><li>'clicked.on.ad'</li></ol>\n"
            ]
          },
          "metadata": {}
        }
      ]
    },
    {
      "cell_type": "code",
      "metadata": {
        "id": "i_lzSa09T4pY"
      },
      "source": [
        "# renaming the 'male' column to 'gender'\n",
        "names(data)[names(data) == \"male\"] <- \"gender\"\n",
        "\n",
        "# replacing the ones and zeros in 'gender' column with 'male' and 'female' using the ifelse() function\n",
        "data$gender <- ifelse(data$gender == 1,\"Male\", 'Female')"
      ],
      "execution_count": 9,
      "outputs": []
    },
    {
      "cell_type": "markdown",
      "metadata": {
        "id": "mkn7na_WQUrE"
      },
      "source": [
        "**Duplicates**"
      ]
    },
    {
      "cell_type": "code",
      "metadata": {
        "colab": {
          "base_uri": "https://localhost:8080/",
          "height": 34
        },
        "id": "SpMbNeplhNN5",
        "outputId": "0e29100d-419a-497b-9e4b-9f06bb9de589"
      },
      "source": [
        "# Checking for duplicated entries\n",
        "anyDuplicated(data)"
      ],
      "execution_count": 10,
      "outputs": [
        {
          "output_type": "display_data",
          "data": {
            "text/plain": [
              "[1] 0"
            ],
            "text/latex": "0",
            "text/markdown": "0",
            "text/html": [
              "0"
            ]
          },
          "metadata": {}
        }
      ]
    },
    {
      "cell_type": "markdown",
      "metadata": {
        "id": "T2lZnVhhcvBj"
      },
      "source": [
        "There are no duplicated entries in the data. "
      ]
    },
    {
      "cell_type": "markdown",
      "metadata": {
        "id": "EHX_LKaiQZCN"
      },
      "source": [
        "**Missing Data**"
      ]
    },
    {
      "cell_type": "code",
      "metadata": {
        "colab": {
          "base_uri": "https://localhost:8080/",
          "height": 50
        },
        "id": "Qecfi-X4hWBM",
        "outputId": "eac11e87-4d5a-4e5f-e719-44d78c7103f6"
      },
      "source": [
        "# Checking for missing values\n",
        "\n",
        "colSums(is.na(data))"
      ],
      "execution_count": 11,
      "outputs": [
        {
          "output_type": "display_data",
          "data": {
            "text/plain": [
              "daily.time.spent.on.site                      age              area.income \n",
              "                       0                        0                        0 \n",
              "    daily.internet.usage            ad.topic.line                     city \n",
              "                       0                        0                        0 \n",
              "                  gender                  country                timestamp \n",
              "                       0                        0                        0 \n",
              "           clicked.on.ad \n",
              "                       0 "
            ],
            "text/latex": "\\begin{description*}\n\\item[daily.time.spent.on.site] 0\n\\item[age] 0\n\\item[area.income] 0\n\\item[daily.internet.usage] 0\n\\item[ad.topic.line] 0\n\\item[city] 0\n\\item[gender] 0\n\\item[country] 0\n\\item[timestamp] 0\n\\item[clicked.on.ad] 0\n\\end{description*}\n",
            "text/markdown": "daily.time.spent.on.site\n:   0age\n:   0area.income\n:   0daily.internet.usage\n:   0ad.topic.line\n:   0city\n:   0gender\n:   0country\n:   0timestamp\n:   0clicked.on.ad\n:   0\n\n",
            "text/html": [
              "<style>\n",
              ".dl-inline {width: auto; margin:0; padding: 0}\n",
              ".dl-inline>dt, .dl-inline>dd {float: none; width: auto; display: inline-block}\n",
              ".dl-inline>dt::after {content: \":\\0020\"; padding-right: .5ex}\n",
              ".dl-inline>dt:not(:first-of-type) {padding-left: .5ex}\n",
              "</style><dl class=dl-inline><dt>daily.time.spent.on.site</dt><dd>0</dd><dt>age</dt><dd>0</dd><dt>area.income</dt><dd>0</dd><dt>daily.internet.usage</dt><dd>0</dd><dt>ad.topic.line</dt><dd>0</dd><dt>city</dt><dd>0</dd><dt>gender</dt><dd>0</dd><dt>country</dt><dd>0</dd><dt>timestamp</dt><dd>0</dd><dt>clicked.on.ad</dt><dd>0</dd></dl>\n"
            ]
          },
          "metadata": {}
        }
      ]
    },
    {
      "cell_type": "markdown",
      "metadata": {
        "id": "0Q2okHPvc11x"
      },
      "source": [
        "There are no missing values in the data. "
      ]
    },
    {
      "cell_type": "markdown",
      "metadata": {
        "id": "HRwMq8JGQgSj"
      },
      "source": [
        "**Outliers**"
      ]
    },
    {
      "cell_type": "code",
      "metadata": {
        "colab": {
          "base_uri": "https://localhost:8080/",
          "height": 437
        },
        "id": "F1YlUzdX9k6Y",
        "outputId": "2c8e0fcc-9cc2-41e3-a2de-c79e905b05dc"
      },
      "source": [
        "# Checking for outliers in the \"daily.time.spent.on.site\" column\n",
        "boxplot(data$daily.time.spent.on.site, main=\"Boxplot for Daily Time Spent on Site\", xlab = \"Time spent on site\", ylab = \"Value\", boxwex=0.4, cex.main=2, cex.lab=1.5, cex.axis=1.2)\n"
      ],
      "execution_count": 14,
      "outputs": [
        {
          "output_type": "display_data",
          "data": {
            "image/png": "[encoded data removed]",
            "text/plain": [
              "Plot with title “Boxplot for Daily Time Spent on Site”"
            ]
          },
          "metadata": {
            "image/png": {
              "width": 420,
              "height": 420
            }
          }
        }
      ]
    },
    {
      "cell_type": "markdown",
      "metadata": {
        "id": "coiy3SjWTAto"
      },
      "source": [
        "There are no outliers in the 'daily.time.spent.on.site' column"
      ]
    },
    {
      "cell_type": "code",
      "metadata": {
        "colab": {
          "base_uri": "https://localhost:8080/",
          "height": 437
        },
        "id": "BmuznInzF62Y",
        "outputId": "2e9c00e7-aa41-4f69-9687-55e27e0d316b"
      },
      "source": [
        "# plot a boxplot to check for outliers in the 'age' column\n",
        "boxplot(data$age, main=\"Boxplot for Age\", xlab = \"Age\", ylab = \"Value\", boxwex=0.4, cex.main=2, cex.lab=1.5, cex.axis=1.2)"
      ],
      "execution_count": 15,
      "outputs": [
        {
          "output_type": "display_data",
          "data": {
            "image/png": "[encoded data removed]",
            "text/plain": [
              "Plot with title “Boxplot for Age”"
            ]
          },
          "metadata": {
            "image/png": {
              "width": 420,
              "height": 420
            }
          }
        }
      ]
    },
    {
      "cell_type": "markdown",
      "metadata": {
        "id": "n7F2j42WT6BV"
      },
      "source": [
        "There are no outliers in the 'age' column"
      ]
    },
    {
      "cell_type": "code",
      "metadata": {
        "colab": {
          "base_uri": "https://localhost:8080/",
          "height": 437
        },
        "id": "QY_8O9jeGhPy",
        "outputId": "5639197f-2e58-4547-e983-6cad2275856f"
      },
      "source": [
        "# Checking for outliers in the 'area.income' column\n",
        "boxplot(data$area.income, main=\"Boxplot for Area Income\", xlab = \"Area income\", ylab = \"Value\", boxwex=0.4, cex.main=2, cex.lab=1.5, cex.axis=1.2)"
      ],
      "execution_count": 16,
      "outputs": [
        {
          "output_type": "display_data",
          "data": {
            "image/png": "[encoded data removed]",
            "text/plain": [
              "Plot with title “Boxplot for Area Income”"
            ]
          },
          "metadata": {
            "image/png": {
              "width": 420,
              "height": 420
            }
          }
        }
      ]
    },
    {
      "cell_type": "markdown",
      "metadata": {
        "id": "iniPipOdUAlf"
      },
      "source": [
        "These column has some outliers but we shall work with them as is, since we presume them to be accurate values. \n",
        "\n"
      ]
    },
    {
      "cell_type": "code",
      "metadata": {
        "colab": {
          "base_uri": "https://localhost:8080/",
          "height": 437
        },
        "id": "8C2amgUjHnNO",
        "outputId": "cdb50ce4-3576-4f3c-8a91-c4d0cdcb768b"
      },
      "source": [
        "# Checking for outliers in the 'daily.internet.usage' column\n",
        "boxplot(data$daily.internet.usage, main=\"Boxplot for Daily Time Internet Usage\", xlab = \"Daily internet usage\", ylab = \"Value\", boxwex=0.4, cex.main=2, cex.lab=1.5, cex.axis=1.2)\n"
      ],
      "execution_count": 17,
      "outputs": [
        {
          "output_type": "display_data",
          "data": {
            "image/png": "[encoded data removed]",
            "text/plain": [
              "Plot with title “Boxplot for Daily Time Internet Usage”"
            ]
          },
          "metadata": {
            "image/png": {
              "width": 420,
              "height": 420
            }
          }
        }
      ]
    },
    {
      "cell_type": "markdown",
      "metadata": {
        "id": "fmuD11i_b7-X"
      },
      "source": [
        "There are no outliers in the 'daily.internet.usage' column."
      ]
    },
    {
      "cell_type": "markdown",
      "metadata": {
        "id": "EIoLyriMTJJF"
      },
      "source": [
        "**Anomalies**"
      ]
    },
    {
      "cell_type": "code",
      "metadata": {
        "colab": {
          "base_uri": "https://localhost:8080/"
        },
        "id": "zENhgqGLvrWf",
        "outputId": "4173b23c-c8ff-418f-f26c-d3fe3012a734"
      },
      "source": [
        "# checking for anomalies in the 'city' column  \n",
        "print(unique(data$city))"
      ],
      "execution_count": 18,
      "outputs": [
        {
          "output_type": "stream",
          "name": "stdout",
          "text": [
            "  [1] \"Wrightburgh\"             \"West Jodi\"              \n",
            "  [3] \"Davidton\"                \"West Terrifurt\"         \n",
            "  [5] \"South Manuel\"            \"Jamieberg\"              \n",
            "  [7] \"Brandonstad\"             \"Port Jefferybury\"       \n",
            "  [9] \"West Colin\"              \"Ramirezton\"             \n",
            " [11] \"West Brandonton\"         \"East Theresashire\"      \n",
            " [13] \"West Katiefurt\"          \"North Tara\"             \n",
            " [15] \"West William\"            \"New Travistown\"         \n",
            " [17] \"West Dylanberg\"          \"Pruittmouth\"            \n",
            " [19] \"Jessicastad\"             \"Millertown\"             \n",
            " [21] \"Port Jacqueline\"         \"Lake Nicole\"            \n",
            " [23] \"South John\"              \"Pamelamouth\"            \n",
            " [25] \"Harperborough\"           \"Port Danielleberg\"      \n",
            " [27] \"West Jeremyside\"         \"South Cathyfurt\"        \n",
            " [29] \"Palmerside\"              \"West Guybury\"           \n",
            " [31] \"Phelpschester\"           \"Lake Melindamouth\"      \n",
            " [33] \"North Richardburgh\"      \"Port Cassie\"            \n",
            " [35] \"New Thomas\"              \"Johnstad\"               \n",
            " [37] \"West Aprilport\"          \"Kellytown\"              \n",
            " [39] \"Charlesport\"             \"Millerchester\"          \n",
            " [41] \"Mackenziemouth\"          \"Zacharystad\"            \n",
            " [43] \"North Joshua\"            \"Bowenview\"              \n",
            " [45] \"Jamesberg\"               \"Lake Cassandraport\"     \n",
            " [47] \"New Sharon\"              \"Johnport\"               \n",
            " [49] \"Hamiltonfort\"            \"West Christopher\"       \n",
            " [51] \"Hollandberg\"             \"Odomville\"              \n",
            " [53] \"East Samanthashire\"      \"South Lauraton\"         \n",
            " [55] \"Amandahaven\"             \"Thomasview\"             \n",
            " [57] \"Garciaside\"              \"Port Sarahshire\"        \n",
            " [59] \"Port Gregory\"            \"Brendachester\"          \n",
            " [61] \"Lake Amy\"                \"Lake Annashire\"         \n",
            " [63] \"Smithburgh\"              \"North Leonmouth\"        \n",
            " [65] \"Robertfurt\"              \"Jasminefort\"            \n",
            " [67] \"Jensenborough\"           \"Bradleyburgh\"           \n",
            " [69] \"New Sheila\"              \"North Regina\"           \n",
            " [71] \"Davidmouth\"              \"New Michaeltown\"        \n",
            " [73] \"East Tammie\"             \"Wilcoxport\"             \n",
            " [75] \"East Michaelmouth\"       \"East Tiffanyport\"       \n",
            " [77] \"Ramirezhaven\"            \"Cranemouth\"             \n",
            " [79] \"Lake Edward\"             \"Lake Conniefurt\"        \n",
            " [81] \"East Shawnchester\"       \"West Joseph\"            \n",
            " [83] \"Lake Christopherfurt\"    \"East Tylershire\"        \n",
            " [85] \"Sharpberg\"               \"Lake Dustin\"            \n",
            " [87] \"North Kristine\"          \"Grahamberg\"             \n",
            " [89] \"New Tina\"                \"Nelsonfurt\"             \n",
            " [91] \"Christopherport\"         \"Port Sarahhaven\"        \n",
            " [93] \"Bradleyborough\"          \"Whiteport\"              \n",
            " [95] \"New Theresa\"             \"Wongland\"               \n",
            " [97] \"Williammouth\"            \"Williamsborough\"        \n",
            " [99] \"North Michael\"           \"Benjaminchester\"        \n",
            "[101] \"Hernandezville\"          \"Youngburgh\"             \n",
            "[103] \"Wallacechester\"          \"Sanchezmouth\"           \n",
            "[105] \"Bradshawborough\"         \"Amyhaven\"               \n",
            "[107] \"Marcushaven\"             \"Erinton\"                \n",
            "[109] \"Hughesport\"              \"New Lucasburgh\"         \n",
            "[111] \"Michelleside\"            \"Andersonton\"            \n",
            "[113] \"New Rachel\"              \"Port Susan\"             \n",
            "[115] \"West Angelabury\"         \"Port Christopherborough\"\n",
            "[117] \"Phillipsbury\"            \"Millerside\"             \n",
            "[119] \"Lake Jessica\"            \"Lopezmouth\"             \n",
            "[121] \"Johnsport\"               \"South Ronald\"           \n",
            "[123] \"South Daniel\"            \"Suzannetown\"            \n",
            "[125] \"Lisaberg\"                \"Brianfurt\"              \n",
            "[127] \"Stewartbury\"             \"North Wesleychester\"    \n",
            "[129] \"East Michelleberg\"       \"Port Eric\"              \n",
            "[131] \"Timothyfurt\"             \"Port Jeffrey\"           \n",
            "[133] \"Guzmanland\"              \"East Michele\"           \n",
            "[135] \"East John\"               \"Lesliebury\"             \n",
            "[137] \"Patriciahaven\"           \"Ashleychester\"          \n",
            "[139] \"Lake Josetown\"           \"Debraburgh\"             \n",
            "[141] \"New Debbiestad\"          \"West Shaun\"             \n",
            "[143] \"Kimberlyhaven\"           \"Port Lawrence\"          \n",
            "[145] \"West Ricardo\"            \"Lake Jose\"              \n",
            "[147] \"Heatherberg\"             \"South George\"           \n",
            "[149] \"Tinachester\"             \"Port Jodi\"              \n",
            "[151] \"Jonathantown\"            \"Sylviaview\"             \n",
            "[153] \"East Timothyport\"        \"West Roytown\"           \n",
            "[155] \"Codyburgh\"               \"Port Erikhaven\"         \n",
            "[157] \"Port Chasemouth\"         \"Ramirezside\"            \n",
            "[159] \"East Michaeltown\"        \"West Courtney\"          \n",
            "[161] \"West Michaelhaven\"       \"Walshhaven\"             \n",
            "[163] \"East Rachelview\"         \"Curtisport\"             \n",
            "[165] \"Frankbury\"               \"Timothytown\"            \n",
            "[167] \"Samanthaland\"            \"South Jennifer\"         \n",
            "[169] \"Kyleborough\"             \"North Randy\"            \n",
            "[171] \"South Daniellefort\"      \"Dianashire\"             \n",
            "[173] \"East Eric\"               \"Hammondport\"            \n",
            "[175] \"Jacobstad\"               \"Hernandezfort\"          \n",
            "[177] \"Joneston\"                \"New Jeffreychester\"     \n",
            "[179] \"East Stephen\"            \"Turnerchester\"          \n",
            "[181] \"Youngfort\"               \"Ingramberg\"             \n",
            "[183] \"South Denisefurt\"        \"Port Melissaberg\"       \n",
            "[185] \"Bernardton\"              \"Port Mathew\"            \n",
            "[187] \"Aliciatown\"              \"Josephstad\"             \n",
            "[189] \"West Ericfurt\"           \"New Brendafurt\"         \n",
            "[191] \"Port Julie\"              \"South Tiffanyton\"       \n",
            "[193] \"North Elizabeth\"         \"Kentmouth\"              \n",
            "[195] \"West Casey\"              \"East Henry\"             \n",
            "[197] \"Hollyfurt\"               \"North Anna\"             \n",
            "[199] \"Port Destiny\"            \"Ianmouth\"               \n",
            "[201] \"North Johntown\"          \"Hannahside\"             \n",
            "[203] \"Wilsonburgh\"             \"North Russellborough\"   \n",
            "[205] \"Murphymouth\"             \"Carterburgh\"            \n",
            "[207] \"Penatown\"                \"Joechester\"             \n",
            "[209] \"East Paul\"               \"Hartmanchester\"         \n",
            "[211] \"Mcdonaldfort\"            \"North Mercedes\"         \n",
            "[213] \"Taylorberg\"              \"Hansenmouth\"            \n",
            "[215] \"Bradyfurt\"               \"West Jessicahaven\"      \n",
            "[217] \"Davilachester\"           \"North Ricardotown\"      \n",
            "[219] \"Melissafurt\"             \"East Brianberg\"         \n",
            "[221] \"Millerbury\"              \"Garciaview\"             \n",
            "[223] \"Townsendfurt\"            \"Williamstad\"            \n",
            "[225] \"West Connor\"             \"West Justin\"            \n",
            "[227] \"Robertbury\"              \"New Tinamouth\"          \n",
            "[229] \"Turnerview\"              \"Reneechester\"           \n",
            "[231] \"West Tinashire\"          \"Jamesfurt\"              \n",
            "[233] \"New Nancy\"               \"Lisamouth\"              \n",
            "[235] \"Harveyport\"              \"Ramosstad\"              \n",
            "[237] \"North Kevinside\"         \"Haleview\"               \n",
            "[239] \"Christinetown\"           \"New Michael\"            \n",
            "[241] \"Jonesland\"               \"North Shannon\"          \n",
            "[243] \"New Sonialand\"           \"Port Jason\"             \n",
            "[245] \"East Barbara\"            \"Port Erinberg\"          \n",
            "[247] \"Petersonfurt\"            \"New Lindaberg\"          \n",
            "[249] \"West Russell\"            \"South Adam\"             \n",
            "[251] \"North Tracyport\"         \"Brownport\"              \n",
            "[253] \"Port Crystal\"            \"Masonhaven\"             \n",
            "[255] \"Derrickhaven\"            \"Olsonstad\"              \n",
            "[257] \"New Brandy\"              \"South Jasminebury\"      \n",
            "[259] \"East Timothy\"            \"Charlottefort\"          \n",
            "[261] \"Lake Beckyburgh\"         \"West Lindseybury\"       \n",
            "[263] \"West Alyssa\"             \"Lake Craigview\"         \n",
            "[265] \"Lake David\"              \"Bruceburgh\"             \n",
            "[267] \"South Lauratown\"         \"Port Robin\"             \n",
            "[269] \"Jacksonburgh\"            \"Erinmouth\"              \n",
            "[271] \"Port Aliciabury\"         \"Port Whitneyhaven\"      \n",
            "[273] \"Jeffreyshire\"            \"Tinaton\"                \n",
            "[275] \"North Loriburgh\"         \"Wendyton\"               \n",
            "[277] \"Lake Jacqueline\"         \"North Christopher\"      \n",
            "[279] \"Alexanderfurt\"           \"West Pamela\"            \n",
            "[281] \"West Amanda\"             \"South Tomside\"          \n",
            "[283] \"Bethburgh\"               \"Jamiefort\"              \n",
            "[285] \"Garciamouth\"             \"West Brenda\"            \n",
            "[287] \"South Kyle\"              \"Combsstad\"              \n",
            "[289] \"Lake Allenville\"         \"Greenechester\"          \n",
            "[291] \"Jordantown\"              \"Gravesport\"             \n",
            "[293] \"South Troy\"              \"Lake Patrick\"           \n",
            "[295] \"Millerland\"              \"Port Jessicamouth\"      \n",
            "[297] \"Paulport\"                \"Clineshire\"             \n",
            "[299] \"Cynthiaside\"             \"Port Juan\"              \n",
            "[301] \"Michellefort\"            \"Port Angelamouth\"       \n",
            "[303] \"Jessicahaven\"            \"North Daniel\"           \n",
            "[305] \"New Juan\"                \"Amyfurt\"                \n",
            "[307] \"Harrishaven\"             \"Roberttown\"             \n",
            "[309] \"Jeremyshire\"             \"Birdshire\"              \n",
            "[311] \"New Amanda\"              \"Curtisview\"             \n",
            "[313] \"Jacksonmouth\"            \"North April\"            \n",
            "[315] \"Hayesmouth\"              \"South Corey\"            \n",
            "[317] \"Juliaport\"               \"Port Paultown\"          \n",
            "[319] \"East Vincentstad\"        \"Kimberlytown\"           \n",
            "[321] \"New Steve\"               \"New Johnberg\"           \n",
            "[323] \"Shawstad\"                \"New Rebecca\"            \n",
            "[325] \"Jeffreyburgh\"            \"Faithview\"              \n",
            "[327] \"Richardsontown\"          \"Port Brookeland\"        \n",
            "[329] \"East Christopherbury\"    \"Port Christinemouth\"    \n",
            "[331] \"South Meghan\"            \"Hessstad\"               \n",
            "[333] \"Rhondaborough\"           \"Lewismouth\"             \n",
            "[335] \"New Paul\"                \"Lake Angela\"            \n",
            "[337] \"East Graceland\"          \"Hartport\"               \n",
            "[339] \"East Yvonnechester\"      \"Burgessside\"            \n",
            "[341] \"Hurleyborough\"           \"Garychester\"            \n",
            "[343] \"East Kevinbury\"          \"Contrerasshire\"         \n",
            "[345] \"Erikville\"               \"Robertsonburgh\"         \n",
            "[347] \"Karenton\"                \"Port Kathleenfort\"      \n",
            "[349] \"Lake Adrian\"             \"Mollyport\"              \n",
            "[351] \"Sandraland\"              \"Charlenetown\"           \n",
            "[353] \"Luischester\"             \"South Johnnymouth\"      \n",
            "[355] \"Hannaport\"               \"East Anthony\"           \n",
            "[357] \"West Daleborough\"        \"Morrismouth\"            \n",
            "[359] \"North Andrewstad\"        \"West Tanya\"             \n",
            "[361] \"Novaktown\"               \"Timothymouth\"           \n",
            "[363] \"Robertmouth\"             \"Stephenborough\"         \n",
            "[365] \"Lake Kurtmouth\"          \"Lauraburgh\"             \n",
            "[367] \"Rogerburgh\"              \"Davidside\"              \n",
            "[369] \"West Thomas\"             \"Andersonchester\"        \n",
            "[371] \"North Ronaldshire\"       \"Greghaven\"              \n",
            "[373] \"Jordanmouth\"             \"Meyersstad\"             \n",
            "[375] \"South Robert\"            \"New Tyler\"              \n",
            "[377] \"Jordanshire\"             \"Reyesland\"              \n",
            "[379] \"New Traceystad\"          \"Port Brian\"             \n",
            "[381] \"Lake Courtney\"           \"Samuelborough\"          \n",
            "[383] \"Christinehaven\"          \"Thomasstad\"             \n",
            "[385] \"Kristintown\"             \"New Wanda\"              \n",
            "[387] \"Mariebury\"               \"Christopherville\"       \n",
            "[389] \"New Jasmine\"             \"Lopezberg\"              \n",
            "[391] \"Jenniferstad\"            \"West Eduardotown\"       \n",
            "[393] \"Davisfurt\"               \"Bakerhaven\"             \n",
            "[395] \"Paulshire\"               \"West Jane\"              \n",
            "[397] \"Lake Brian\"              \"Alvaradoport\"           \n",
            "[399] \"Lake Kevin\"              \"Richardsonland\"         \n",
            "[401] \"East Sheriville\"         \"Port Michealburgh\"      \n",
            "[403] \"Monicaview\"              \"Katieport\"              \n",
            "[405] \"East Brittanyville\"      \"West Travismouth\"       \n",
            "[407] \"Leonchester\"             \"Ramirezland\"            \n",
            "[409] \"Brownton\"                \"New Jessicaport\"        \n",
            "[411] \"New Denisebury\"          \"Keithtown\"              \n",
            "[413] \"Port Melissastad\"        \"Janiceview\"             \n",
            "[415] \"Mataberg\"                \"West Melaniefurt\"       \n",
            "[417] \"Millerfort\"              \"Alexanderview\"          \n",
            "[419] \"South Jade\"              \"Lake Susan\"             \n",
            "[421] \"South Vincentchester\"    \"Williamsmouth\"          \n",
            "[423] \"Taylorport\"              \"Williamsport\"           \n",
            "[425] \"Emilyfurt\"               \"East Deborahhaven\"      \n",
            "[427] \"Port Katelynview\"        \"Paulhaven\"              \n",
            "[429] \"Elizabethmouth\"          \"Lake Jesus\"             \n",
            "[431] \"North Tylerland\"         \"Munozberg\"              \n",
            "[433] \"North Maryland\"          \"West Barbara\"           \n",
            "[435] \"Andrewborough\"           \"New Gabriel\"            \n",
            "[437] \"Port Patrickton\"         \"West Julia\"             \n",
            "[439] \"New Keithburgh\"          \"Richardsland\"           \n",
            "[441] \"North Aaronchester\"      \"Lake Matthewland\"       \n",
            "[443] \"Kevinberg\"               \"Morganfort\"             \n",
            "[445] \"Lovemouth\"               \"Taylorhaven\"            \n",
            "[447] \"Jamesville\"              \"East Toddfort\"          \n",
            "[449] \"East Dana\"               \"West Lucas\"             \n",
            "[451] \"Butlerfort\"              \"Lindaside\"              \n",
            "[453] \"West Chloeborough\"       \"Jayville\"               \n",
            "[455] \"East Lindsey\"            \"Masseyshire\"            \n",
            "[457] \"Sarahton\"                \"Ryanhaven\"              \n",
            "[459] \"Lake Deborahburgh\"       \"New Williammouth\"       \n",
            "[461] \"Port Blake\"              \"West Richard\"           \n",
            "[463] \"Brandymouth\"             \"Sandraville\"            \n",
            "[465] \"Port Jessica\"            \"Lake Jasonchester\"      \n",
            "[467] \"Pearsonfort\"             \"Sellerstown\"            \n",
            "[469] \"Yuton\"                   \"Smithtown\"              \n",
            "[471] \"Joanntown\"               \"South Peter\"            \n",
            "[473] \"Port Mitchell\"           \"Pottermouth\"            \n",
            "[475] \"Lake Jonathanview\"       \"Alanview\"               \n",
            "[477] \"Carterport\"              \"New Daniellefort\"       \n",
            "[479] \"Welchshire\"              \"Russellville\"           \n",
            "[481] \"West Lisa\"               \"Greentown\"              \n",
            "[483] \"Timothyport\"             \"Teresahaven\"            \n",
            "[485] \"Lake Stephenborough\"     \"Silvaton\"               \n",
            "[487] \"West Michaelstad\"        \"Florestown\"             \n",
            "[489] \"New Jay\"                 \"North Lisachester\"      \n",
            "[491] \"Port Stacy\"              \"Jensenton\"              \n",
            "[493] \"North Alexandra\"         \"Rivasland\"              \n",
            "[495] \"Helenborough\"            \"Garnerberg\"             \n",
            "[497] \"North Anaport\"           \"Pattymouth\"             \n",
            "[499] \"South Alexisborough\"     \"East Jennifer\"          \n",
            "[501] \"Hallfort\"                \"New Charleschester\"     \n",
            "[503] \"East Breannafurt\"        \"East Susanland\"         \n",
            "[505] \"Estesfurt\"               \"Shirleyfort\"            \n",
            "[507] \"Douglasview\"             \"South Lisa\"             \n",
            "[509] \"Kingshire\"               \"Rebeccamouth\"           \n",
            "[511] \"Brownbury\"               \"South Aaron\"            \n",
            "[513] \"North Andrew\"            \"South Walter\"           \n",
            "[515] \"Catherinefort\"           \"East Donna\"             \n",
            "[517] \"North Kimberly\"          \"South Stephanieport\"    \n",
            "[519] \"North Isabellaville\"     \"North Aaronburgh\"       \n",
            "[521] \"Port James\"              \"Danielview\"             \n",
            "[523] \"Port Stacey\"             \"West Kevinfurt\"         \n",
            "[525] \"Lake Jennifer\"           \"Reyesfurt\"              \n",
            "[527] \"West Carmenfurt\"         \"North Stephanieberg\"    \n",
            "[529] \"East Valerie\"            \"Sherrishire\"            \n",
            "[531] \"Port Daniel\"             \"Brownview\"              \n",
            "[533] \"Greerton\"                \"Hatfieldshire\"          \n",
            "[535] \"Brianabury\"              \"New Maria\"              \n",
            "[537] \"Colebury\"                \"Calebberg\"              \n",
            "[539] \"Lake Ian\"                \"Gomezport\"              \n",
            "[541] \"Shaneland\"               \"East Aaron\"             \n",
            "[543] \"Dustinborough\"           \"East Michaelland\"       \n",
            "[545] \"East Connie\"             \"West Shannon\"           \n",
            "[547] \"North Lauraland\"         \"Port Christopher\"       \n",
            "[549] \"South Patrickfort\"       \"East Georgeside\"        \n",
            "[551] \"Charlesbury\"             \"South Renee\"            \n",
            "[553] \"South Jackieberg\"        \"Loriville\"              \n",
            "[555] \"Amandaland\"              \"West Robertside\"        \n",
            "[557] \"North Sarashire\"         \"Port Maria\"             \n",
            "[559] \"East Jessefort\"          \"Port Anthony\"           \n",
            "[561] \"Edwardmouth\"             \"Dustinchester\"          \n",
            "[563] \"Rochabury\"               \"Austinland\"             \n",
            "[565] \"Lake Gerald\"             \"Wrightview\"             \n",
            "[567] \"Perryburgh\"              \"Tracyhaven\"             \n",
            "[569] \"South Jaimeview\"         \"Sandersland\"            \n",
            "[571] \"South Meredithmouth\"     \"Richardsonshire\"        \n",
            "[573] \"Kimberlymouth\"           \"Meghanchester\"          \n",
            "[575] \"Tammyshire\"              \"Lake Elizabethside\"     \n",
            "[577] \"Villanuevaton\"           \"Greerport\"              \n",
            "[579] \"North Garyhaven\"         \"East Sharon\"            \n",
            "[581] \"Johnstonmouth\"           \"East Heatherside\"       \n",
            "[583] \"Richardsonmouth\"         \"Jenniferhaven\"          \n",
            "[585] \"Boyerberg\"               \"Port Elijah\"            \n",
            "[587] \"Knappburgh\"              \"New Dawnland\"           \n",
            "[589] \"Chapmanmouth\"            \"Robertside\"             \n",
            "[591] \"West Raymondmouth\"       \"Costaburgh\"             \n",
            "[593] \"Kristineberg\"            \"Sandrashire\"            \n",
            "[595] \"Andersonfurt\"            \"Tranland\"               \n",
            "[597] \"Michaelland\"             \"East Rachaelfurt\"       \n",
            "[599] \"Lake Johnbury\"           \"Elizabethstad\"          \n",
            "[601] \"West Brad\"               \"Johnstonshire\"          \n",
            "[603] \"Lake Timothy\"            \"Anthonyfurt\"            \n",
            "[605] \"East Brettton\"           \"New Matthew\"            \n",
            "[607] \"Christopherchester\"      \"Westshire\"              \n",
            "[609] \"Alexisland\"              \"Kevinchester\"           \n",
            "[611] \"New Patriciashire\"       \"Port Brenda\"            \n",
            "[613] \"Port Brianfort\"          \"Portermouth\"            \n",
            "[615] \"Hubbardmouth\"            \"South Brian\"            \n",
            "[617] \"Hendrixmouth\"            \"Julietown\"              \n",
            "[619] \"Lukeport\"                \"New Shane\"              \n",
            "[621] \"Lake Jillville\"          \"Johnsonfort\"            \n",
            "[623] \"Adamsbury\"               \"East Maureen\"           \n",
            "[625] \"North Angelastad\"        \"Amandafort\"             \n",
            "[627] \"Michaelmouth\"            \"Ronaldport\"             \n",
            "[629] \"Port Davidland\"          \"Isaacborough\"           \n",
            "[631] \"Lake Michael\"            \"West Michaelshire\"      \n",
            "[633] \"Port Calvintown\"         \"Parkerhaven\"            \n",
            "[635] \"Markhaven\"               \"Estradashire\"           \n",
            "[637] \"Brianland\"               \"Cassandratown\"          \n",
            "[639] \"West Dannyberg\"          \"East Debraborough\"      \n",
            "[641] \"Frankchester\"            \"Lisafort\"               \n",
            "[643] \"Colemanshire\"            \"Troyville\"              \n",
            "[645] \"Hobbsbury\"               \"Harrisonmouth\"          \n",
            "[647] \"Port Eugeneport\"         \"Karenmouth\"             \n",
            "[649] \"Brendaburgh\"             \"New Christinatown\"      \n",
            "[651] \"Jacksonstad\"             \"South Margaret\"         \n",
            "[653] \"Port Georgebury\"         \"Sanderstown\"            \n",
            "[655] \"Perezland\"               \"Luisfurt\"               \n",
            "[657] \"New Karenberg\"           \"West Leahton\"           \n",
            "[659] \"West Sharon\"             \"Klineside\"              \n",
            "[661] \"Lake Cynthia\"            \"South Cynthiashire\"     \n",
            "[663] \"Lake Jacob\"              \"West Samantha\"          \n",
            "[665] \"Jeremybury\"              \"Blevinstown\"            \n",
            "[667] \"Meyerchester\"            \"Reginamouth\"            \n",
            "[669] \"Donaldshire\"             \"Salazarbury\"            \n",
            "[671] \"Lake Joshuafurt\"         \"Wintersfort\"            \n",
            "[673] \"Jamesmouth\"              \"Laurieside\"             \n",
            "[675] \"Andrewmouth\"             \"West Angela\"            \n",
            "[677] \"East Carlos\"             \"Kennedyfurt\"            \n",
            "[679] \"Blairville\"              \"East Donnatown\"         \n",
            "[681] \"Matthewtown\"             \"Brandonbury\"            \n",
            "[683] \"New Jamestown\"           \"Mosleyburgh\"            \n",
            "[685] \"Leahside\"                \"West Wendyland\"         \n",
            "[687] \"Lawrenceborough\"         \"Kennethview\"            \n",
            "[689] \"West Mariafort\"          \"Port Sherrystad\"        \n",
            "[691] \"West Melissashire\"       \"Lesliefort\"             \n",
            "[693] \"Shawnside\"               \"Josephmouth\"            \n",
            "[695] \"Garciatown\"              \"Chaseshire\"             \n",
            "[697] \"Destinyfurt\"             \"Mezaton\"                \n",
            "[699] \"New Kayla\"               \"Carsonshire\"            \n",
            "[701] \"Jacquelineshire\"         \"South Blakestad\"        \n",
            "[703] \"North Mark\"              \"Kingchester\"            \n",
            "[705] \"Evansfurt\"               \"South Adamhaven\"        \n",
            "[707] \"Brittanyborough\"         \"Barbershire\"            \n",
            "[709] \"East Ericport\"           \"Crawfordfurt\"           \n",
            "[711] \"Turnerville\"             \"Kylieview\"              \n",
            "[713] \"West Zacharyborough\"     \"Watsonfort\"             \n",
            "[715] \"Dayton\"                  \"Nicholasport\"           \n",
            "[717] \"Whitneyfort\"             \"Coffeytown\"             \n",
            "[719] \"North Johnside\"          \"Robinsonland\"           \n",
            "[721] \"West Ericaport\"          \"Haleberg\"               \n",
            "[723] \"West Michaelport\"        \"Ericksonmouth\"          \n",
            "[725] \"Yangside\"                \"Estradafurt\"            \n",
            "[727] \"Frankport\"               \"Williamsside\"           \n",
            "[729] \"Johnsonview\"             \"East Heidi\"             \n",
            "[731] \"New Angelview\"           \"Lake Brandonview\"       \n",
            "[733] \"Morganport\"              \"Browntown\"              \n",
            "[735] \"Lake Hailey\"             \"Olsonside\"              \n",
            "[737] \"Coxhaven\"                \"Meaganfort\"             \n",
            "[739] \"North Monicaville\"       \"Mullenside\"             \n",
            "[741] \"Princebury\"              \"Bradleyside\"            \n",
            "[743] \"Elizabethbury\"           \"West Ryan\"              \n",
            "[745] \"New Tammy\"               \"Sanchezland\"            \n",
            "[747] \"Rogerland\"               \"Vanessaview\"            \n",
            "[749] \"Jessicashire\"            \"Melissachester\"         \n",
            "[751] \"Johnsontown\"             \"New Joshuaport\"         \n",
            "[753] \"Hernandezside\"           \"New Williamville\"       \n",
            "[755] \"Gilbertville\"            \"Newmanberg\"             \n",
            "[757] \"West Alice\"              \"Cannonbury\"             \n",
            "[759] \"Shelbyport\"              \"New Henry\"              \n",
            "[761] \"Dustinmouth\"             \"New Hollyberg\"          \n",
            "[763] \"Port Brittanyville\"      \"East Ronald\"            \n",
            "[765] \"South Davidmouth\"        \"Carterton\"              \n",
            "[767] \"Rachelhaven\"             \"New Timothy\"            \n",
            "[769] \"North Jessicaville\"      \"Staceyfort\"             \n",
            "[771] \"South Dianeshire\"        \"Micheletown\"            \n",
            "[773] \"North Brittanyburgh\"     \"Port Jasmine\"           \n",
            "[775] \"New Sabrina\"             \"Lake Charlottestad\"     \n",
            "[777] \"West Rhondamouth\"        \"North Debra\"            \n",
            "[779] \"Villanuevastad\"          \"North Jeremyport\"       \n",
            "[781] \"Lake John\"               \"Courtneyfort\"           \n",
            "[783] \"Tammymouth\"              \"Lake Vanessa\"           \n",
            "[785] \"Lake Amanda\"             \"Mariemouth\"             \n",
            "[787] \"Port Douglasborough\"     \"Port Aprilville\"        \n",
            "[789] \"Lake Faith\"              \"Wendyville\"             \n",
            "[791] \"Angelhaven\"              \"New Sean\"               \n",
            "[793] \"Lake Lisa\"               \"Valerieland\"            \n",
            "[795] \"New Travis\"              \"North Samantha\"         \n",
            "[797] \"Holderville\"             \"Patrickmouth\"           \n",
            "[799] \"Lake Deannaborough\"      \"Jeffreymouth\"           \n",
            "[801] \"Davieshaven\"             \"Lake Jessicaville\"      \n",
            "[803] \"Hernandezchester\"        \"North Kennethside\"      \n",
            "[805] \"Williamport\"             \"Smithside\"              \n",
            "[807] \"Vanessastad\"             \"Lake Rhondaburgh\"       \n",
            "[809] \"Cunninghamhaven\"         \"Robertstown\"            \n",
            "[811] \"South Mark\"              \"New Taylorburgh\"        \n",
            "[813] \"Port Karenfurt\"          \"Carterland\"             \n",
            "[815] \"East Shawn\"              \"West Derekmouth\"        \n",
            "[817] \"Brandiland\"              \"Cervantesshire\"         \n",
            "[819] \"North Debrashire\"        \"Deannaville\"            \n",
            "[821] \"East Christopher\"        \"Rickymouth\"             \n",
            "[823] \"Port Dennis\"             \"Lake Michelle\"          \n",
            "[825] \"East Johnport\"           \"Sabrinaview\"            \n",
            "[827] \"Kristinfurt\"             \"Chapmanland\"            \n",
            "[829] \"North Jonathan\"          \"Port Christina\"         \n",
            "[831] \"Juanport\"                \"East Mike\"              \n",
            "[833] \"North Angelatown\"        \"West Steven\"            \n",
            "[835] \"Riggsstad\"               \"Davidview\"              \n",
            "[837] \"Port Kevinborough\"       \"Lawsonshire\"            \n",
            "[839] \"Wagnerchester\"           \"Daisymouth\"             \n",
            "[841] \"Port Jacquelinestad\"     \"New Teresa\"             \n",
            "[843] \"Henryfort\"               \"Lake Joseph\"            \n",
            "[845] \"Daviesborough\"           \"North Brandon\"          \n",
            "[847] \"Adamside\"                \"Wademouth\"              \n",
            "[849] \"North Raymond\"           \"Randolphport\"           \n",
            "[851] \"East Troyhaven\"          \"Clarkborough\"           \n",
            "[853] \"Josephberg\"              \"Lake Jenniferton\"       \n",
            "[855] \"Ashleymouth\"             \"Henryland\"              \n",
            "[857] \"Lake Danielle\"           \"Joshuaburgh\"            \n",
            "[859] \"South Jeanneport\"        \"New Nathan\"             \n",
            "[861] \"Jonesshire\"              \"Mariahview\"             \n",
            "[863] \"New Julianberg\"          \"Randyshire\"             \n",
            "[865] \"Philipberg\"              \"West Dennis\"            \n",
            "[867] \"Richardshire\"            \"Lake James\"             \n",
            "[869] \"Austinborough\"           \"Alexandrafort\"          \n",
            "[871] \"Melissastad\"             \"Gonzalezburgh\"          \n",
            "[873] \"Port Jennifer\"           \"Chrismouth\"             \n",
            "[875] \"Port Beth\"               \"West David\"             \n",
            "[877] \"Fraziershire\"            \"South Pamela\"           \n",
            "[879] \"North Laurenview\"        \"Campbellstad\"           \n",
            "[881] \"Port Derekberg\"          \"West Andrew\"            \n",
            "[883] \"West Randy\"              \"South Christopher\"      \n",
            "[885] \"Lake Michellebury\"       \"Zacharyton\"             \n",
            "[887] \"West James\"              \"Millerview\"             \n",
            "[889] \"Hawkinsbury\"             \"Elizabethport\"          \n",
            "[891] \"Wadestad\"                \"Mauriceshire\"           \n",
            "[893] \"West Arielstad\"          \"Adamsstad\"              \n",
            "[895] \"Blairborough\"            \"New Marcusbury\"         \n",
            "[897] \"Evansville\"              \"Huffmanchester\"         \n",
            "[899] \"New Cynthia\"             \"Joshuamouth\"            \n",
            "[901] \"West Benjamin\"           \"Williamsfort\"           \n",
            "[903] \"North Tiffany\"           \"Edwardsport\"            \n",
            "[905] \"Lake Evantown\"           \"South Henry\"            \n",
            "[907] \"Harmonhaven\"             \"West Gregburgh\"         \n",
            "[909] \"Hansenland\"              \"Port Michaelmouth\"      \n",
            "[911] \"Tylerport\"               \"West Lacey\"             \n",
            "[913] \"North Jenniferburgh\"     \"South Davidhaven\"       \n",
            "[915] \"North Charlesbury\"       \"Jonathanland\"           \n",
            "[917] \"North Virginia\"          \"West Tanner\"            \n",
            "[919] \"Jonesmouth\"              \"West Annefort\"          \n",
            "[921] \"East Jason\"              \"North Cassie\"           \n",
            "[923] \"Hintonport\"              \"New James\"              \n",
            "[925] \"North Destiny\"           \"Mclaughlinbury\"         \n",
            "[927] \"West Gabriellamouth\"     \"Alvarezland\"            \n",
            "[929] \"New Julie\"               \"North Frankstad\"        \n",
            "[931] \"Claytonside\"             \"Melanieton\"             \n",
            "[933] \"Lake Michaelport\"        \"East Benjaminville\"     \n",
            "[935] \"Garrettborough\"          \"Port Raymondfort\"       \n",
            "[937] \"Waltertown\"              \"Cameronberg\"            \n",
            "[939] \"Kaylashire\"              \"Fosterside\"             \n",
            "[941] \"Davidstad\"               \"Lake Tracy\"             \n",
            "[943] \"Taylormouth\"             \"Dianaville\"             \n",
            "[945] \"Collinsburgh\"            \"Port Rachel\"            \n",
            "[947] \"South Rebecca\"           \"Port Joshuafort\"        \n",
            "[949] \"Robinsontown\"            \"Beckton\"                \n",
            "[951] \"New Frankshire\"          \"North Derekville\"       \n",
            "[953] \"West Sydney\"             \"Lake Matthew\"           \n",
            "[955] \"Lake Zacharyfurt\"        \"Lindsaymouth\"           \n",
            "[957] \"Sarahland\"               \"Michaelshire\"           \n",
            "[959] \"Sarafurt\"                \"South Denise\"           \n",
            "[961] \"North Katie\"             \"Mauricefurt\"            \n",
            "[963] \"New Patrick\"             \"Edwardsmouth\"           \n",
            "[965] \"Nicholasland\"            \"Duffystad\"              \n",
            "[967] \"New Darlene\"             \"South Jessica\"          \n",
            "[969] \"Ronniemouth\"            \n"
          ]
        }
      ]
    },
    {
      "cell_type": "markdown",
      "metadata": {
        "id": "SxNoK7Qxd8Ch"
      },
      "source": [
        "There are no anomalies in the 'city' column."
      ]
    },
    {
      "cell_type": "code",
      "metadata": {
        "colab": {
          "base_uri": "https://localhost:8080/"
        },
        "id": "Xv40XiVPgO5l",
        "outputId": "5bd61874-80fc-4d2b-eec2-a7e985230cb4"
      },
      "source": [
        "# checking for anomalies in the 'ad.topic.line' column  \n",
        "print(unique(data$ad.topic.line))"
      ],
      "execution_count": 19,
      "outputs": [
        {
          "output_type": "stream",
          "name": "stdout",
          "text": [
            "   [1] \"Cloned 5thgeneration orchestration\"                     \n",
            "   [2] \"Monitored national standardization\"                     \n",
            "   [3] \"Organic bottom-line service-desk\"                       \n",
            "   [4] \"Triple-buffered reciprocal time-frame\"                  \n",
            "   [5] \"Robust logistical utilization\"                          \n",
            "   [6] \"Sharable client-driven software\"                        \n",
            "   [7] \"Enhanced dedicated support\"                             \n",
            "   [8] \"Reactive local challenge\"                               \n",
            "   [9] \"Configurable coherent function\"                         \n",
            "  [10] \"Mandatory homogeneous architecture\"                     \n",
            "  [11] \"Centralized neutral neural-net\"                         \n",
            "  [12] \"Team-oriented grid-enabled Local Area Network\"          \n",
            "  [13] \"Centralized content-based focus group\"                  \n",
            "  [14] \"Synergistic fresh-thinking array\"                       \n",
            "  [15] \"Grass-roots coherent extranet\"                          \n",
            "  [16] \"Persistent demand-driven interface\"                     \n",
            "  [17] \"Customizable multi-tasking website\"                     \n",
            "  [18] \"Intuitive dynamic attitude\"                             \n",
            "  [19] \"Grass-roots solution-oriented conglomeration\"           \n",
            "  [20] \"Advanced 24/7 productivity\"                             \n",
            "  [21] \"Object-based reciprocal knowledgebase\"                  \n",
            "  [22] \"Streamlined non-volatile analyzer\"                      \n",
            "  [23] \"Mandatory disintermediate utilization\"                  \n",
            "  [24] \"Future-proofed methodical protocol\"                     \n",
            "  [25] \"Exclusive neutral parallelism\"                          \n",
            "  [26] \"Public-key foreground groupware\"                        \n",
            "  [27] \"Ameliorated client-driven forecast\"                     \n",
            "  [28] \"Monitored systematic hierarchy\"                         \n",
            "  [29] \"Open-architected impactful productivity\"                \n",
            "  [30] \"Business-focused value-added definition\"                \n",
            "  [31] \"Programmable asymmetric data-warehouse\"                 \n",
            "  [32] \"Digitized static capability\"                            \n",
            "  [33] \"Digitized global capability\"                            \n",
            "  [34] \"Multi-layered 4thgeneration knowledge user\"             \n",
            "  [35] \"Synchronized dedicated service-desk\"                    \n",
            "  [36] \"Synchronized systemic hierarchy\"                        \n",
            "  [37] \"Profound stable product\"                                \n",
            "  [38] \"Reactive demand-driven capacity\"                        \n",
            "  [39] \"Persevering needs-based open architecture\"              \n",
            "  [40] \"Intuitive exuding service-desk\"                         \n",
            "  [41] \"Innovative user-facing extranet\"                        \n",
            "  [42] \"Front-line intermediate database\"                       \n",
            "  [43] \"Persevering exuding system engine\"                      \n",
            "  [44] \"Balanced dynamic application\"                           \n",
            "  [45] \"Reduced global support\"                                 \n",
            "  [46] \"Organic leadingedge secured line\"                       \n",
            "  [47] \"Business-focused encompassing neural-net\"               \n",
            "  [48] \"Triple-buffered demand-driven alliance\"                 \n",
            "  [49] \"Visionary maximized process improvement\"                \n",
            "  [50] \"Centralized 24/7 installation\"                          \n",
            "  [51] \"Organized static focus group\"                           \n",
            "  [52] \"Visionary reciprocal circuit\"                           \n",
            "  [53] \"Pre-emptive value-added workforce\"                      \n",
            "  [54] \"Sharable analyzing alliance\"                            \n",
            "  [55] \"Team-oriented encompassing portal\"                      \n",
            "  [56] \"Sharable bottom-line solution\"                          \n",
            "  [57] \"Cross-group regional website\"                           \n",
            "  [58] \"Organized global model\"                                 \n",
            "  [59] \"Upgradable asynchronous circuit\"                        \n",
            "  [60] \"Phased transitional instruction set\"                    \n",
            "  [61] \"Customer-focused empowering ability\"                    \n",
            "  [62] \"Front-line heuristic data-warehouse\"                    \n",
            "  [63] \"Stand-alone national attitude\"                          \n",
            "  [64] \"Focused upward-trending core\"                           \n",
            "  [65] \"Streamlined cohesive conglomeration\"                    \n",
            "  [66] \"Upgradable optimizing toolset\"                          \n",
            "  [67] \"Synchronized user-facing core\"                          \n",
            "  [68] \"Organized client-driven alliance\"                       \n",
            "  [69] \"Ergonomic multi-state structure\"                        \n",
            "  [70] \"Synergized multimedia emulation\"                        \n",
            "  [71] \"Customer-focused optimizing moderator\"                  \n",
            "  [72] \"Advanced full-range migration\"                          \n",
            "  [73] \"De-engineered object-oriented protocol\"                 \n",
            "  [74] \"Polarized clear-thinking budgetary management\"          \n",
            "  [75] \"Customizable 6thgeneration knowledge user\"              \n",
            "  [76] \"Seamless object-oriented structure\"                     \n",
            "  [77] \"Seamless real-time array\"                               \n",
            "  [78] \"Grass-roots impactful system engine\"                    \n",
            "  [79] \"Devolved tangible approach\"                             \n",
            "  [80] \"Customizable executive software\"                        \n",
            "  [81] \"Progressive analyzing attitude\"                         \n",
            "  [82] \"Innovative executive encoding\"                          \n",
            "  [83] \"Down-sized uniform info-mediaries\"                      \n",
            "  [84] \"Streamlined next generation implementation\"             \n",
            "  [85] \"Distributed tertiary system engine\"                     \n",
            "  [86] \"Triple-buffered scalable groupware\"                     \n",
            "  [87] \"Total 5thgeneration encoding\"                           \n",
            "  [88] \"Integrated human-resource encoding\"                     \n",
            "  [89] \"Phased dynamic customer loyalty\"                        \n",
            "  [90] \"Open-source coherent policy\"                            \n",
            "  [91] \"Down-sized modular intranet\"                            \n",
            "  [92] \"Pre-emptive content-based focus group\"                  \n",
            "  [93] \"Versatile 4thgeneration system engine\"                  \n",
            "  [94] \"Ergonomic full-range time-frame\"                        \n",
            "  [95] \"Automated directional function\"                         \n",
            "  [96] \"Progressive empowering alliance\"                        \n",
            "  [97] \"Versatile homogeneous capacity\"                         \n",
            "  [98] \"Function-based optimizing protocol\"                     \n",
            "  [99] \"Up-sized secondary software\"                            \n",
            " [100] \"Seamless holistic time-frame\"                           \n",
            " [101] \"Persevering reciprocal firmware\"                        \n",
            " [102] \"Centralized logistical secured line\"                    \n",
            " [103] \"Innovative background conglomeration\"                   \n",
            " [104] \"Switchable 3rdgeneration hub\"                           \n",
            " [105] \"Polarized 6thgeneration info-mediaries\"                 \n",
            " [106] \"Balanced heuristic approach\"                            \n",
            " [107] \"Focused 24hour implementation\"                          \n",
            " [108] \"De-engineered mobile infrastructure\"                    \n",
            " [109] \"Customer-focused upward-trending contingency\"           \n",
            " [110] \"Operative system-worthy protocol\"                       \n",
            " [111] \"User-friendly upward-trending intranet\"                 \n",
            " [112] \"Future-proofed holistic superstructure\"                 \n",
            " [113] \"Extended systemic policy\"                               \n",
            " [114] \"Horizontal hybrid challenge\"                            \n",
            " [115] \"Virtual composite model\"                                \n",
            " [116] \"Switchable mobile framework\"                            \n",
            " [117] \"Focused intangible moderator\"                           \n",
            " [118] \"Balanced actuating moderator\"                           \n",
            " [119] \"Customer-focused transitional strategy\"                 \n",
            " [120] \"Advanced web-enabled standardization\"                   \n",
            " [121] \"Pre-emptive executive knowledgebase\"                    \n",
            " [122] \"Self-enabling holistic process improvement\"             \n",
            " [123] \"Horizontal client-driven hierarchy\"                     \n",
            " [124] \"Polarized dynamic throughput\"                           \n",
            " [125] \"Devolved zero administration intranet\"                  \n",
            " [126] \"User-friendly asymmetric info-mediaries\"                \n",
            " [127] \"Cross-platform regional task-force\"                     \n",
            " [128] \"Polarized bandwidth-monitored moratorium\"               \n",
            " [129] \"Centralized systematic knowledgebase\"                   \n",
            " [130] \"Future-proofed grid-enabled implementation\"             \n",
            " [131] \"Down-sized well-modulated archive\"                      \n",
            " [132] \"Realigned zero tolerance emulation\"                     \n",
            " [133] \"Versatile transitional monitoring\"                      \n",
            " [134] \"Profound zero administration instruction set\"           \n",
            " [135] \"User-centric intangible task-force\"                     \n",
            " [136] \"Enhanced system-worthy application\"                     \n",
            " [137] \"Multi-layered user-facing paradigm\"                     \n",
            " [138] \"Customer-focused 24/7 concept\"                          \n",
            " [139] \"Function-based transitional complexity\"                 \n",
            " [140] \"Progressive clear-thinking open architecture\"           \n",
            " [141] \"Up-sized executive moderator\"                           \n",
            " [142] \"Re-contextualized optimal service-desk\"                 \n",
            " [143] \"Fully-configurable neutral open system\"                 \n",
            " [144] \"Upgradable system-worthy array\"                         \n",
            " [145] \"Ergonomic client-driven application\"                    \n",
            " [146] \"Realigned content-based leverage\"                       \n",
            " [147] \"Decentralized real-time circuit\"                        \n",
            " [148] \"Polarized modular function\"                             \n",
            " [149] \"Enterprise-wide client-driven contingency\"              \n",
            " [150] \"Diverse modular interface\"                              \n",
            " [151] \"Polarized analyzing concept\"                            \n",
            " [152] \"Multi-channeled asynchronous open system\"               \n",
            " [153] \"Function-based context-sensitive secured line\"          \n",
            " [154] \"Adaptive 24hour Graphic Interface\"                      \n",
            " [155] \"Automated coherent flexibility\"                         \n",
            " [156] \"Focused scalable complexity\"                            \n",
            " [157] \"Up-sized incremental encryption\"                        \n",
            " [158] \"Sharable dedicated Graphic Interface\"                   \n",
            " [159] \"Digitized zero administration paradigm\"                 \n",
            " [160] \"Managed grid-enabled standardization\"                   \n",
            " [161] \"Networked foreground definition\"                        \n",
            " [162] \"Re-engineered exuding frame\"                            \n",
            " [163] \"Horizontal multi-state interface\"                       \n",
            " [164] \"Diverse stable circuit\"                                 \n",
            " [165] \"Universal 24/7 implementation\"                          \n",
            " [166] \"Customer-focused multi-tasking Internet solution\"       \n",
            " [167] \"Vision-oriented contextually-based extranet\"            \n",
            " [168] \"Extended local methodology\"                             \n",
            " [169] \"Re-engineered demand-driven capacity\"                   \n",
            " [170] \"Customer-focused attitude-oriented instruction set\"     \n",
            " [171] \"Synergized hybrid time-frame\"                           \n",
            " [172] \"Advanced exuding conglomeration\"                        \n",
            " [173] \"Secured clear-thinking middleware\"                      \n",
            " [174] \"Right-sized value-added initiative\"                     \n",
            " [175] \"Centralized tertiary pricing structure\"                 \n",
            " [176] \"Multi-channeled reciprocal artificial intelligence\"     \n",
            " [177] \"Synergized context-sensitive database\"                  \n",
            " [178] \"Realigned systematic function\"                          \n",
            " [179] \"Adaptive context-sensitive application\"                 \n",
            " [180] \"Networked high-level structure\"                         \n",
            " [181] \"Profit-focused dedicated utilization\"                   \n",
            " [182] \"Stand-alone tangible moderator\"                         \n",
            " [183] \"Polarized tangible collaboration\"                       \n",
            " [184] \"Focused high-level conglomeration\"                      \n",
            " [185] \"Advanced modular Local Area Network\"                    \n",
            " [186] \"Virtual scalable secured line\"                          \n",
            " [187] \"Front-line fault-tolerant intranet\"                     \n",
            " [188] \"Inverse asymmetric instruction set\"                     \n",
            " [189] \"Synchronized leadingedge help-desk\"                     \n",
            " [190] \"Total 5thgeneration standardization\"                    \n",
            " [191] \"Sharable grid-enabled matrix\"                           \n",
            " [192] \"Balanced asynchronous hierarchy\"                        \n",
            " [193] \"Monitored object-oriented Graphic Interface\"            \n",
            " [194] \"Cloned analyzing artificial intelligence\"               \n",
            " [195] \"Persistent homogeneous framework\"                       \n",
            " [196] \"Face-to-face even-keeled website\"                       \n",
            " [197] \"Extended context-sensitive monitoring\"                  \n",
            " [198] \"Exclusive client-driven model\"                          \n",
            " [199] \"Profound executive flexibility\"                         \n",
            " [200] \"Reduced bi-directional strategy\"                        \n",
            " [201] \"Digitized heuristic solution\"                           \n",
            " [202] \"Seamless 4thgeneration contingency\"                     \n",
            " [203] \"Seamless intangible secured line\"                       \n",
            " [204] \"Intuitive radical forecast\"                             \n",
            " [205] \"Multi-layered non-volatile Graphical User Interface\"    \n",
            " [206] \"User-friendly client-server instruction set\"            \n",
            " [207] \"Synchronized multimedia model\"                          \n",
            " [208] \"Face-to-face intermediate approach\"                     \n",
            " [209] \"Assimilated fault-tolerant hub\"                         \n",
            " [210] \"Exclusive disintermediate task-force\"                   \n",
            " [211] \"Managed zero tolerance concept\"                         \n",
            " [212] \"Compatible systemic function\"                           \n",
            " [213] \"Configurable fault-tolerant monitoring\"                 \n",
            " [214] \"Future-proofed coherent hardware\"                       \n",
            " [215] \"Ameliorated upward-trending definition\"                 \n",
            " [216] \"Front-line tangible alliance\"                           \n",
            " [217] \"Progressive 24hour forecast\"                            \n",
            " [218] \"Self-enabling optimal initiative\"                       \n",
            " [219] \"Configurable logistical Graphical User Interface\"       \n",
            " [220] \"Virtual bandwidth-monitored initiative\"                 \n",
            " [221] \"Multi-tiered human-resource structure\"                  \n",
            " [222] \"Managed upward-trending instruction set\"                \n",
            " [223] \"Cloned object-oriented benchmark\"                       \n",
            " [224] \"Fundamental fault-tolerant neural-net\"                  \n",
            " [225] \"Phased zero administration success\"                     \n",
            " [226] \"Compatible intangible customer loyalty\"                 \n",
            " [227] \"Distributed 3rdgeneration definition\"                   \n",
            " [228] \"Pre-emptive cohesive budgetary management\"              \n",
            " [229] \"Configurable multi-state utilization\"                   \n",
            " [230] \"Diverse multi-tasking parallelism\"                      \n",
            " [231] \"Horizontal content-based synergy\"                       \n",
            " [232] \"Multi-tiered maximized archive\"                         \n",
            " [233] \"Diverse executive groupware\"                            \n",
            " [234] \"Synergized cohesive array\"                              \n",
            " [235] \"Versatile dedicated software\"                           \n",
            " [236] \"Stand-alone reciprocal synergy\"                         \n",
            " [237] \"Universal even-keeled analyzer\"                         \n",
            " [238] \"Up-sized tertiary contingency\"                          \n",
            " [239] \"Monitored real-time superstructure\"                     \n",
            " [240] \"Streamlined analyzing initiative\"                       \n",
            " [241] \"Automated static concept\"                               \n",
            " [242] \"Operative stable moderator\"                             \n",
            " [243] \"Up-sized 6thgeneration moratorium\"                      \n",
            " [244] \"Expanded clear-thinking core\"                           \n",
            " [245] \"Polarized attitude-oriented superstructure\"             \n",
            " [246] \"Networked coherent interface\"                           \n",
            " [247] \"Enhanced homogeneous moderator\"                         \n",
            " [248] \"Seamless full-range website\"                            \n",
            " [249] \"Profit-focused attitude-oriented task-force\"            \n",
            " [250] \"Cross-platform multimedia algorithm\"                    \n",
            " [251] \"Open-source coherent monitoring\"                        \n",
            " [252] \"Streamlined logistical secured line\"                    \n",
            " [253] \"Synchronized stable complexity\"                         \n",
            " [254] \"Synergistic value-added extranet\"                       \n",
            " [255] \"Progressive non-volatile neural-net\"                    \n",
            " [256] \"Persevering tertiary capability\"                        \n",
            " [257] \"Enterprise-wide bi-directional secured line\"            \n",
            " [258] \"Organized contextually-based customer loyalty\"          \n",
            " [259] \"Total directional approach\"                             \n",
            " [260] \"Programmable uniform productivity\"                      \n",
            " [261] \"Robust transitional ability\"                            \n",
            " [262] \"De-engineered fault-tolerant database\"                  \n",
            " [263] \"Managed disintermediate matrices\"                       \n",
            " [264] \"Configurable bottom-line application\"                   \n",
            " [265] \"Self-enabling didactic pricing structure\"               \n",
            " [266] \"Versatile scalable encryption\"                          \n",
            " [267] \"Proactive next generation knowledge user\"               \n",
            " [268] \"Customizable tangible hierarchy\"                        \n",
            " [269] \"Visionary asymmetric encryption\"                        \n",
            " [270] \"Intuitive explicit conglomeration\"                      \n",
            " [271] \"Business-focused real-time toolset\"                     \n",
            " [272] \"Organic contextually-based focus group\"                 \n",
            " [273] \"Right-sized asynchronous website\"                       \n",
            " [274] \"Advanced 5thgeneration capability\"                      \n",
            " [275] \"Universal asymmetric archive\"                           \n",
            " [276] \"Devolved responsive structure\"                          \n",
            " [277] \"Triple-buffered regional toolset\"                       \n",
            " [278] \"Object-based executive productivity\"                    \n",
            " [279] \"Business-focused responsive website\"                    \n",
            " [280] \"Visionary analyzing structure\"                          \n",
            " [281] \"De-engineered solution-oriented open architecture\"      \n",
            " [282] \"Customizable modular Internet solution\"                 \n",
            " [283] \"Stand-alone encompassing throughput\"                    \n",
            " [284] \"Customizable zero-defect matrix\"                        \n",
            " [285] \"Managed well-modulated collaboration\"                   \n",
            " [286] \"Universal global intranet\"                              \n",
            " [287] \"Re-engineered real-time success\"                        \n",
            " [288] \"Front-line fresh-thinking open system\"                  \n",
            " [289] \"Digitized contextually-based product\"                   \n",
            " [290] \"Organic interactive support\"                            \n",
            " [291] \"Function-based stable alliance\"                         \n",
            " [292] \"Reactive responsive emulation\"                          \n",
            " [293] \"Exclusive zero tolerance alliance\"                      \n",
            " [294] \"Enterprise-wide local matrices\"                         \n",
            " [295] \"Inverse next generation moratorium\"                     \n",
            " [296] \"Implemented bifurcated workforce\"                       \n",
            " [297] \"Persevering even-keeled help-desk\"                      \n",
            " [298] \"Grass-roots eco-centric instruction set\"                \n",
            " [299] \"Fully-configurable incremental Graphical User Interface\"\n",
            " [300] \"Expanded radical software\"                              \n",
            " [301] \"Mandatory 3rdgeneration moderator\"                      \n",
            " [302] \"Enterprise-wide foreground emulation\"                   \n",
            " [303] \"Customer-focused incremental system engine\"             \n",
            " [304] \"Right-sized multi-tasking solution\"                     \n",
            " [305] \"Vision-oriented optimizing middleware\"                  \n",
            " [306] \"Proactive context-sensitive project\"                    \n",
            " [307] \"Managed eco-centric encoding\"                           \n",
            " [308] \"Visionary multi-tasking alliance\"                       \n",
            " [309] \"Ameliorated tangible hierarchy\"                         \n",
            " [310] \"Extended interactive model\"                             \n",
            " [311] \"Universal bi-directional extranet\"                      \n",
            " [312] \"Enhanced maximized access\"                              \n",
            " [313] \"Upgradable even-keeled challenge\"                       \n",
            " [314] \"Synchronized national infrastructure\"                   \n",
            " [315] \"Re-contextualized systemic time-frame\"                  \n",
            " [316] \"Horizontal national architecture\"                       \n",
            " [317] \"Reactive bi-directional workforce\"                      \n",
            " [318] \"Horizontal transitional challenge\"                      \n",
            " [319] \"Re-engineered neutral success\"                          \n",
            " [320] \"Adaptive contextually-based methodology\"                \n",
            " [321] \"Configurable dynamic adapter\"                           \n",
            " [322] \"Multi-lateral empowering throughput\"                    \n",
            " [323] \"Fundamental zero tolerance solution\"                    \n",
            " [324] \"Proactive asymmetric definition\"                        \n",
            " [325] \"Pre-emptive zero tolerance Local Area Network\"          \n",
            " [326] \"Self-enabling incremental collaboration\"                \n",
            " [327] \"Exclusive even-keeled moratorium\"                       \n",
            " [328] \"Reduced incremental productivity\"                       \n",
            " [329] \"Realigned scalable standardization\"                     \n",
            " [330] \"Secured scalable Graphical User Interface\"              \n",
            " [331] \"Team-oriented context-sensitive installation\"           \n",
            " [332] \"Pre-emptive systematic budgetary management\"            \n",
            " [333] \"Fully-configurable high-level implementation\"           \n",
            " [334] \"Profound maximized workforce\"                           \n",
            " [335] \"Cross-platform 4thgeneration focus group\"               \n",
            " [336] \"Optional mission-critical functionalities\"              \n",
            " [337] \"Multi-layered tangible portal\"                          \n",
            " [338] \"Reduced mobile structure\"                               \n",
            " [339] \"Enhanced zero tolerance Graphic Interface\"              \n",
            " [340] \"De-engineered tertiary secured line\"                    \n",
            " [341] \"Reverse-engineered well-modulated capability\"           \n",
            " [342] \"Integrated coherent pricing structure\"                  \n",
            " [343] \"Realigned next generation projection\"                   \n",
            " [344] \"Reactive needs-based instruction set\"                   \n",
            " [345] \"User-friendly well-modulated leverage\"                  \n",
            " [346] \"Function-based fault-tolerant model\"                    \n",
            " [347] \"Decentralized needs-based analyzer\"                     \n",
            " [348] \"Phased analyzing emulation\"                             \n",
            " [349] \"Multi-layered fresh-thinking process improvement\"       \n",
            " [350] \"Upgradable directional system engine\"                   \n",
            " [351] \"Persevering eco-centric flexibility\"                    \n",
            " [352] \"Inverse local hub\"                                      \n",
            " [353] \"Triple-buffered needs-based Local Area Network\"         \n",
            " [354] \"Centralized multi-state hierarchy\"                      \n",
            " [355] \"Public-key non-volatile implementation\"                 \n",
            " [356] \"Synergized coherent interface\"                          \n",
            " [357] \"Horizontal high-level concept\"                          \n",
            " [358] \"Reduced multimedia project\"                             \n",
            " [359] \"Object-based modular functionalities\"                   \n",
            " [360] \"Polarized multimedia system engine\"                     \n",
            " [361] \"Versatile reciprocal structure\"                         \n",
            " [362] \"Upgradable multi-tasking initiative\"                    \n",
            " [363] \"Configurable tertiary budgetary management\"             \n",
            " [364] \"Adaptive asynchronous attitude\"                         \n",
            " [365] \"Face-to-face mission-critical definition\"               \n",
            " [366] \"Inverse zero tolerance customer loyalty\"                \n",
            " [367] \"Centralized 24hour synergy\"                             \n",
            " [368] \"Face-to-face analyzing encryption\"                      \n",
            " [369] \"Self-enabling even-keeled methodology\"                  \n",
            " [370] \"Function-based optimizing extranet\"                     \n",
            " [371] \"Organic asynchronous hierarchy\"                         \n",
            " [372] \"Automated client-driven orchestration\"                  \n",
            " [373] \"Public-key zero-defect analyzer\"                        \n",
            " [374] \"Proactive client-server productivity\"                   \n",
            " [375] \"Cloned incremental matrices\"                            \n",
            " [376] \"Open-architected system-worthy task-force\"              \n",
            " [377] \"Devolved regional moderator\"                            \n",
            " [378] \"Balanced value-added database\"                          \n",
            " [379] \"Seamless composite budgetary management\"                \n",
            " [380] \"Total cohesive moratorium\"                              \n",
            " [381] \"Integrated motivating neural-net\"                       \n",
            " [382] \"Exclusive zero tolerance frame\"                         \n",
            " [383] \"Operative scalable emulation\"                           \n",
            " [384] \"Enhanced asymmetric installation\"                       \n",
            " [385] \"Face-to-face reciprocal methodology\"                    \n",
            " [386] \"Robust responsive collaboration\"                        \n",
            " [387] \"Polarized logistical hub\"                               \n",
            " [388] \"Intuitive zero-defect framework\"                        \n",
            " [389] \"Reactive composite project\"                             \n",
            " [390] \"Upgradable even-keeled hardware\"                        \n",
            " [391] \"Future-proofed responsive matrix\"                       \n",
            " [392] \"Programmable empowering middleware\"                     \n",
            " [393] \"Robust dedicated system engine\"                         \n",
            " [394] \"Public-key mission-critical core\"                       \n",
            " [395] \"Operative actuating installation\"                       \n",
            " [396] \"Self-enabling asynchronous knowledge user\"              \n",
            " [397] \"Configurable 24/7 hub\"                                  \n",
            " [398] \"Versatile responsive knowledge user\"                    \n",
            " [399] \"Managed impactful definition\"                           \n",
            " [400] \"Grass-roots 4thgeneration forecast\"                     \n",
            " [401] \"Focused 3rdgeneration pricing structure\"                \n",
            " [402] \"Mandatory dedicated data-warehouse\"                     \n",
            " [403] \"Proactive radical support\"                              \n",
            " [404] \"Re-engineered responsive definition\"                    \n",
            " [405] \"Profound optimizing utilization\"                        \n",
            " [406] \"Cloned explicit middleware\"                             \n",
            " [407] \"Multi-channeled mission-critical success\"               \n",
            " [408] \"Versatile content-based protocol\"                       \n",
            " [409] \"Seamless cohesive conglomeration\"                       \n",
            " [410] \"De-engineered actuating hierarchy\"                      \n",
            " [411] \"Balanced motivating help-desk\"                          \n",
            " [412] \"Inverse high-level capability\"                          \n",
            " [413] \"Cross-platform client-server hierarchy\"                 \n",
            " [414] \"Sharable optimal capacity\"                              \n",
            " [415] \"Face-to-face multimedia success\"                        \n",
            " [416] \"Enterprise-wide incremental Internet solution\"          \n",
            " [417] \"Advanced systemic productivity\"                         \n",
            " [418] \"Customizable mission-critical adapter\"                  \n",
            " [419] \"Horizontal heuristic synergy\"                           \n",
            " [420] \"Multi-tiered multi-state moderator\"                     \n",
            " [421] \"Re-contextualized reciprocal interface\"                 \n",
            " [422] \"Organized demand-driven knowledgebase\"                  \n",
            " [423] \"Total local synergy\"                                    \n",
            " [424] \"User-friendly bandwidth-monitored attitude\"             \n",
            " [425] \"Re-engineered context-sensitive knowledge user\"         \n",
            " [426] \"Total user-facing hierarchy\"                            \n",
            " [427] \"Balanced contextually-based pricing structure\"          \n",
            " [428] \"Inverse bi-directional knowledge user\"                  \n",
            " [429] \"Networked even-keeled workforce\"                        \n",
            " [430] \"Right-sized transitional parallelism\"                   \n",
            " [431] \"Customer-focused system-worthy superstructure\"          \n",
            " [432] \"Balanced 4thgeneration success\"                         \n",
            " [433] \"Cross-group value-added success\"                        \n",
            " [434] \"Visionary client-driven installation\"                   \n",
            " [435] \"Switchable well-modulated infrastructure\"               \n",
            " [436] \"Upgradable asymmetric emulation\"                        \n",
            " [437] \"Configurable tertiary capability\"                       \n",
            " [438] \"Monitored dynamic instruction set\"                      \n",
            " [439] \"Robust web-enabled attitude\"                            \n",
            " [440] \"Customer-focused full-range neural-net\"                 \n",
            " [441] \"Universal transitional Graphical User Interface\"        \n",
            " [442] \"User-centric intangible contingency\"                    \n",
            " [443] \"Configurable disintermediate throughput\"                \n",
            " [444] \"Automated web-enabled migration\"                        \n",
            " [445] \"Triple-buffered 3rdgeneration migration\"                \n",
            " [446] \"Universal contextually-based system engine\"             \n",
            " [447] \"Optional secondary access\"                              \n",
            " [448] \"Quality-focused scalable utilization\"                   \n",
            " [449] \"Team-oriented dynamic forecast\"                         \n",
            " [450] \"Horizontal heuristic support\"                           \n",
            " [451] \"Customer-focused zero-defect process improvement\"       \n",
            " [452] \"Focused systemic benchmark\"                             \n",
            " [453] \"Seamless impactful info-mediaries\"                      \n",
            " [454] \"Advanced heuristic firmware\"                            \n",
            " [455] \"Fully-configurable client-driven customer loyalty\"      \n",
            " [456] \"Cross-group neutral synergy\"                            \n",
            " [457] \"Organized 24/7 middleware\"                              \n",
            " [458] \"Networked stable open architecture\"                     \n",
            " [459] \"Customizable systematic service-desk\"                   \n",
            " [460] \"Function-based directional productivity\"                \n",
            " [461] \"Networked stable array\"                                 \n",
            " [462] \"Phased full-range hardware\"                             \n",
            " [463] \"Organized empowering policy\"                            \n",
            " [464] \"Object-based system-worthy superstructure\"              \n",
            " [465] \"Profound explicit hardware\"                             \n",
            " [466] \"Self-enabling multimedia system engine\"                 \n",
            " [467] \"Polarized analyzing intranet\"                           \n",
            " [468] \"Vision-oriented attitude-oriented Internet solution\"    \n",
            " [469] \"Digitized disintermediate ability\"                      \n",
            " [470] \"Intuitive explicit firmware\"                            \n",
            " [471] \"Public-key real-time definition\"                        \n",
            " [472] \"Monitored content-based implementation\"                 \n",
            " [473] \"Quality-focused zero-defect budgetary management\"       \n",
            " [474] \"Intuitive fresh-thinking moderator\"                     \n",
            " [475] \"Reverse-engineered 24hour hardware\"                     \n",
            " [476] \"Synchronized zero tolerance product\"                    \n",
            " [477] \"Reactive interactive protocol\"                          \n",
            " [478] \"Focused fresh-thinking Graphic Interface\"               \n",
            " [479] \"Ameliorated exuding solution\"                           \n",
            " [480] \"Integrated maximized service-desk\"                      \n",
            " [481] \"Self-enabling tertiary challenge\"                       \n",
            " [482] \"Decentralized foreground infrastructure\"                \n",
            " [483] \"Quality-focused hybrid frame\"                           \n",
            " [484] \"Realigned reciprocal framework\"                         \n",
            " [485] \"Distributed maximized ability\"                          \n",
            " [486] \"Polarized bifurcated array\"                             \n",
            " [487] \"Progressive asynchronous adapter\"                       \n",
            " [488] \"Business-focused high-level hardware\"                   \n",
            " [489] \"Fully-configurable holistic throughput\"                 \n",
            " [490] \"Ameliorated contextually-based collaboration\"           \n",
            " [491] \"Progressive uniform budgetary management\"               \n",
            " [492] \"Synergistic stable infrastructure\"                      \n",
            " [493] \"Reverse-engineered content-based intranet\"              \n",
            " [494] \"Expanded zero administration attitude\"                  \n",
            " [495] \"Team-oriented 6thgeneration extranet\"                   \n",
            " [496] \"Managed disintermediate capability\"                     \n",
            " [497] \"Front-line dynamic model\"                               \n",
            " [498] \"Innovative regional structure\"                          \n",
            " [499] \"Function-based incremental standardization\"             \n",
            " [500] \"Universal asymmetric workforce\"                         \n",
            " [501] \"Business-focused client-driven forecast\"                \n",
            " [502] \"Realigned global initiative\"                            \n",
            " [503] \"Business-focused maximized complexity\"                  \n",
            " [504] \"Open-source global strategy\"                            \n",
            " [505] \"Stand-alone motivating moratorium\"                      \n",
            " [506] \"Grass-roots multimedia policy\"                          \n",
            " [507] \"Upgradable local migration\"                             \n",
            " [508] \"Profound bottom-line standardization\"                   \n",
            " [509] \"Managed client-server access\"                           \n",
            " [510] \"Cross-platform directional intranet\"                    \n",
            " [511] \"Horizontal modular success\"                             \n",
            " [512] \"Vision-oriented multi-tasking success\"                  \n",
            " [513] \"Optional multi-state hardware\"                          \n",
            " [514] \"Upgradable heuristic system engine\"                     \n",
            " [515] \"Future-proofed modular utilization\"                     \n",
            " [516] \"Synergistic dynamic orchestration\"                      \n",
            " [517] \"Multi-layered stable encoding\"                          \n",
            " [518] \"Team-oriented zero-defect initiative\"                   \n",
            " [519] \"Polarized 5thgeneration matrix\"                         \n",
            " [520] \"Fully-configurable context-sensitive Graphic Interface\" \n",
            " [521] \"Progressive intermediate throughput\"                    \n",
            " [522] \"Customizable holistic archive\"                          \n",
            " [523] \"Compatible intermediate concept\"                        \n",
            " [524] \"Assimilated next generation firmware\"                   \n",
            " [525] \"Total zero administration software\"                     \n",
            " [526] \"Re-engineered impactful software\"                       \n",
            " [527] \"Business-focused background synergy\"                    \n",
            " [528] \"Future-proofed coherent budgetary management\"           \n",
            " [529] \"Ergonomic methodical encoding\"                          \n",
            " [530] \"Compatible dedicated productivity\"                      \n",
            " [531] \"Up-sized real-time methodology\"                         \n",
            " [532] \"Up-sized next generation architecture\"                  \n",
            " [533] \"Managed 6thgeneration hierarchy\"                        \n",
            " [534] \"Organic motivating model\"                               \n",
            " [535] \"Pre-emptive transitional protocol\"                      \n",
            " [536] \"Managed attitude-oriented Internet solution\"            \n",
            " [537] \"Public-key asynchronous matrix\"                         \n",
            " [538] \"Grass-roots systematic hardware\"                        \n",
            " [539] \"User-centric composite contingency\"                     \n",
            " [540] \"Up-sized bi-directional infrastructure\"                 \n",
            " [541] \"Assimilated actuating policy\"                           \n",
            " [542] \"Organized upward-trending contingency\"                  \n",
            " [543] \"Ergonomic neutral portal\"                               \n",
            " [544] \"Adaptive demand-driven knowledgebase\"                   \n",
            " [545] \"Reverse-engineered maximized focus group\"               \n",
            " [546] \"Switchable analyzing encryption\"                        \n",
            " [547] \"Public-key intangible Graphical User Interface\"         \n",
            " [548] \"Advanced local task-force\"                              \n",
            " [549] \"Profound well-modulated array\"                          \n",
            " [550] \"Multi-channeled asymmetric installation\"                \n",
            " [551] \"Multi-layered fresh-thinking neural-net\"                \n",
            " [552] \"Distributed cohesive migration\"                         \n",
            " [553] \"Programmable uniform website\"                           \n",
            " [554] \"Object-based neutral policy\"                            \n",
            " [555] \"Horizontal global leverage\"                             \n",
            " [556] \"Synchronized grid-enabled moratorium\"                   \n",
            " [557] \"Adaptive uniform capability\"                            \n",
            " [558] \"Total grid-enabled application\"                         \n",
            " [559] \"Optional regional throughput\"                           \n",
            " [560] \"Integrated client-server definition\"                    \n",
            " [561] \"Fundamental methodical support\"                         \n",
            " [562] \"Synergistic reciprocal attitude\"                        \n",
            " [563] \"Managed 5thgeneration time-frame\"                       \n",
            " [564] \"Vision-oriented uniform knowledgebase\"                  \n",
            " [565] \"Multi-tiered stable leverage\"                           \n",
            " [566] \"Down-sized explicit budgetary management\"               \n",
            " [567] \"Cross-group human-resource time-frame\"                  \n",
            " [568] \"Business-focused holistic benchmark\"                    \n",
            " [569] \"Virtual 5thgeneration neural-net\"                       \n",
            " [570] \"Distributed scalable orchestration\"                     \n",
            " [571] \"Realigned intangible benchmark\"                         \n",
            " [572] \"Virtual impactful algorithm\"                            \n",
            " [573] \"Public-key solution-oriented focus group\"               \n",
            " [574] \"Phased clear-thinking encoding\"                         \n",
            " [575] \"Grass-roots mission-critical emulation\"                 \n",
            " [576] \"Proactive encompassing paradigm\"                        \n",
            " [577] \"Automated object-oriented firmware\"                     \n",
            " [578] \"User-friendly content-based customer loyalty\"           \n",
            " [579] \"Universal incremental array\"                            \n",
            " [580] \"Reactive national success\"                              \n",
            " [581] \"Automated multi-state toolset\"                          \n",
            " [582] \"Managed didactic flexibility\"                           \n",
            " [583] \"Cross-platform neutral system engine\"                   \n",
            " [584] \"Focused high-level frame\"                               \n",
            " [585] \"Seamless motivating approach\"                           \n",
            " [586] \"Enhanced systematic adapter\"                            \n",
            " [587] \"Networked regional Local Area Network\"                  \n",
            " [588] \"Total human-resource flexibility\"                       \n",
            " [589] \"Assimilated homogeneous service-desk\"                   \n",
            " [590] \"Ergonomic zero tolerance encoding\"                      \n",
            " [591] \"Cross-platform zero-defect structure\"                   \n",
            " [592] \"Innovative maximized groupware\"                         \n",
            " [593] \"Face-to-face executive encryption\"                      \n",
            " [594] \"Monitored local Internet solution\"                      \n",
            " [595] \"Phased hybrid superstructure\"                           \n",
            " [596] \"User-friendly grid-enabled analyzer\"                    \n",
            " [597] \"Pre-emptive neutral contingency\"                        \n",
            " [598] \"User-friendly impactful time-frame\"                     \n",
            " [599] \"Customizable methodical Graphical User Interface\"       \n",
            " [600] \"Cross-platform logistical pricing structure\"            \n",
            " [601] \"Inverse discrete extranet\"                              \n",
            " [602] \"Open-source even-keeled database\"                       \n",
            " [603] \"Diverse background ability\"                             \n",
            " [604] \"Multi-tiered foreground Graphic Interface\"              \n",
            " [605] \"Customizable hybrid system engine\"                      \n",
            " [606] \"Horizontal incremental website\"                         \n",
            " [607] \"Front-line systemic capability\"                         \n",
            " [608] \"Fully-configurable foreground solution\"                 \n",
            " [609] \"Digitized radical array\"                                \n",
            " [610] \"Team-oriented transitional methodology\"                 \n",
            " [611] \"Future-proofed fresh-thinking conglomeration\"           \n",
            " [612] \"Operative multi-tasking Graphic Interface\"              \n",
            " [613] \"Implemented discrete frame\"                             \n",
            " [614] \"Ameliorated exuding encryption\"                         \n",
            " [615] \"Programmable high-level benchmark\"                      \n",
            " [616] \"Sharable multimedia conglomeration\"                     \n",
            " [617] \"Team-oriented high-level orchestration\"                 \n",
            " [618] \"Grass-roots empowering paradigm\"                        \n",
            " [619] \"Robust object-oriented Graphic Interface\"               \n",
            " [620] \"Switchable secondary ability\"                           \n",
            " [621] \"Open-architected web-enabled benchmark\"                 \n",
            " [622] \"Compatible scalable emulation\"                          \n",
            " [623] \"Seamless optimal contingency\"                           \n",
            " [624] \"Secured secondary superstructure\"                       \n",
            " [625] \"Automated mobile model\"                                 \n",
            " [626] \"Re-engineered non-volatile neural-net\"                  \n",
            " [627] \"Implemented disintermediate attitude\"                   \n",
            " [628] \"Configurable interactive contingency\"                   \n",
            " [629] \"Optimized systemic capability\"                          \n",
            " [630] \"Front-line non-volatile implementation\"                 \n",
            " [631] \"Ergonomic 24/7 solution\"                                \n",
            " [632] \"Integrated grid-enabled budgetary management\"           \n",
            " [633] \"Profit-focused systemic support\"                        \n",
            " [634] \"Right-sized system-worthy project\"                      \n",
            " [635] \"Proactive actuating Graphical User Interface\"           \n",
            " [636] \"Versatile optimizing projection\"                        \n",
            " [637] \"Universal multi-state system engine\"                    \n",
            " [638] \"Secured intermediate approach\"                          \n",
            " [639] \"Operative didactic Local Area Network\"                  \n",
            " [640] \"Phased content-based middleware\"                        \n",
            " [641] \"Triple-buffered high-level Internet solution\"           \n",
            " [642] \"Synergized well-modulated Graphical User Interface\"     \n",
            " [643] \"Implemented bottom-line implementation\"                 \n",
            " [644] \"Monitored context-sensitive initiative\"                 \n",
            " [645] \"Pre-emptive client-server open system\"                  \n",
            " [646] \"Seamless bandwidth-monitored knowledge user\"            \n",
            " [647] \"Ergonomic empowering frame\"                             \n",
            " [648] \"Reverse-engineered background Graphic Interface\"        \n",
            " [649] \"Synergistic non-volatile analyzer\"                      \n",
            " [650] \"Object-based optimal solution\"                          \n",
            " [651] \"Profound dynamic attitude\"                              \n",
            " [652] \"Enhanced system-worthy toolset\"                         \n",
            " [653] \"Reverse-engineered dynamic function\"                    \n",
            " [654] \"Networked responsive application\"                       \n",
            " [655] \"Distributed intangible database\"                        \n",
            " [656] \"Multi-tiered mobile encoding\"                           \n",
            " [657] \"Optional contextually-based flexibility\"                \n",
            " [658] \"Proactive local focus group\"                            \n",
            " [659] \"Customer-focused impactful success\"                     \n",
            " [660] \"Open-source optimizing parallelism\"                     \n",
            " [661] \"Organic logistical adapter\"                             \n",
            " [662] \"Stand-alone eco-centric system engine\"                  \n",
            " [663] \"User-centric intermediate knowledge user\"               \n",
            " [664] \"Programmable didactic capacity\"                         \n",
            " [665] \"Enhanced regional conglomeration\"                       \n",
            " [666] \"Total asynchronous architecture\"                        \n",
            " [667] \"Secured upward-trending benchmark\"                      \n",
            " [668] \"Customizable value-added project\"                       \n",
            " [669] \"Integrated interactive support\"                         \n",
            " [670] \"Reactive impactful challenge\"                           \n",
            " [671] \"Switchable multi-state success\"                         \n",
            " [672] \"Synchronized multi-tasking ability\"                     \n",
            " [673] \"Fundamental clear-thinking knowledgebase\"               \n",
            " [674] \"Multi-layered user-facing parallelism\"                  \n",
            " [675] \"Front-line incremental access\"                          \n",
            " [676] \"Open-architected zero administration secured line\"      \n",
            " [677] \"Mandatory disintermediate info-mediaries\"               \n",
            " [678] \"Implemented context-sensitive Local Area Network\"       \n",
            " [679] \"Digitized interactive initiative\"                       \n",
            " [680] \"Implemented asynchronous application\"                   \n",
            " [681] \"Focused multi-state workforce\"                          \n",
            " [682] \"Proactive secondary monitoring\"                         \n",
            " [683] \"Front-line upward-trending groupware\"                   \n",
            " [684] \"Quality-focused 5thgeneration orchestration\"            \n",
            " [685] \"Multi-layered secondary software\"                       \n",
            " [686] \"Total coherent superstructure\"                          \n",
            " [687] \"Monitored executive architecture\"                       \n",
            " [688] \"Front-line multi-state hub\"                             \n",
            " [689] \"Configurable mission-critical algorithm\"                \n",
            " [690] \"Face-to-face responsive alliance\"                       \n",
            " [691] \"Reduced holistic help-desk\"                             \n",
            " [692] \"Pre-emptive content-based frame\"                        \n",
            " [693] \"Optional full-range projection\"                         \n",
            " [694] \"Expanded value-added emulation\"                         \n",
            " [695] \"Organic well-modulated database\"                        \n",
            " [696] \"Organic 3rdgeneration encryption\"                       \n",
            " [697] \"Stand-alone empowering benchmark\"                       \n",
            " [698] \"Monitored intermediate circuit\"                         \n",
            " [699] \"Object-based leadingedge complexity\"                    \n",
            " [700] \"Digitized zero-defect implementation\"                   \n",
            " [701] \"Configurable impactful firmware\"                        \n",
            " [702] \"Face-to-face dedicated flexibility\"                     \n",
            " [703] \"Fully-configurable 5thgeneration circuit\"               \n",
            " [704] \"Configurable impactful capacity\"                        \n",
            " [705] \"Distributed leadingedge orchestration\"                  \n",
            " [706] \"Persistent even-keeled application\"                     \n",
            " [707] \"Optimized attitude-oriented initiative\"                 \n",
            " [708] \"Multi-channeled 3rdgeneration model\"                    \n",
            " [709] \"Polarized mission-critical structure\"                   \n",
            " [710] \"Virtual executive implementation\"                       \n",
            " [711] \"Enhanced intermediate standardization\"                  \n",
            " [712] \"Realigned tangible collaboration\"                       \n",
            " [713] \"Cloned dedicated analyzer\"                              \n",
            " [714] \"Ameliorated well-modulated complexity\"                  \n",
            " [715] \"Quality-focused bi-directional throughput\"              \n",
            " [716] \"Versatile solution-oriented secured line\"               \n",
            " [717] \"Phased leadingedge budgetary management\"                \n",
            " [718] \"Devolved exuding Local Area Network\"                    \n",
            " [719] \"Front-line bandwidth-monitored capacity\"                \n",
            " [720] \"User-centric solution-oriented emulation\"               \n",
            " [721] \"Phased hybrid intranet\"                                 \n",
            " [722] \"Monitored zero administration collaboration\"            \n",
            " [723] \"Team-oriented systematic installation\"                  \n",
            " [724] \"Inverse national core\"                                  \n",
            " [725] \"Secured uniform instruction set\"                        \n",
            " [726] \"Quality-focused zero tolerance matrices\"                \n",
            " [727] \"Multi-tiered heuristic strategy\"                        \n",
            " [728] \"Optimized static archive\"                               \n",
            " [729] \"Advanced didactic conglomeration\"                       \n",
            " [730] \"Synergistic discrete middleware\"                        \n",
            " [731] \"Pre-emptive client-server installation\"                 \n",
            " [732] \"Multi-channeled attitude-oriented toolset\"              \n",
            " [733] \"Decentralized 24hour approach\"                          \n",
            " [734] \"Organic next generation matrix\"                         \n",
            " [735] \"Multi-channeled non-volatile website\"                   \n",
            " [736] \"Distributed bifurcated challenge\"                       \n",
            " [737] \"Customizable zero-defect Internet solution\"             \n",
            " [738] \"Self-enabling zero administration neural-net\"           \n",
            " [739] \"Optimized upward-trending productivity\"                 \n",
            " [740] \"Open-architected system-worthy ability\"                 \n",
            " [741] \"Quality-focused maximized extranet\"                     \n",
            " [742] \"Centralized client-driven workforce\"                    \n",
            " [743] \"De-engineered intangible flexibility\"                   \n",
            " [744] \"Re-engineered intangible software\"                      \n",
            " [745] \"Sharable secondary Graphical User Interface\"            \n",
            " [746] \"Innovative homogeneous alliance\"                        \n",
            " [747] \"Diverse leadingedge website\"                            \n",
            " [748] \"Optimized intermediate help-desk\"                       \n",
            " [749] \"Sharable reciprocal project\"                            \n",
            " [750] \"Proactive interactive service-desk\"                     \n",
            " [751] \"Open-architected needs-based customer loyalty\"          \n",
            " [752] \"Multi-lateral motivating circuit\"                       \n",
            " [753] \"Assimilated encompassing portal\"                        \n",
            " [754] \"Cross-group global orchestration\"                       \n",
            " [755] \"Down-sized bandwidth-monitored core\"                    \n",
            " [756] \"Monitored explicit hierarchy\"                           \n",
            " [757] \"Reactive demand-driven strategy\"                        \n",
            " [758] \"Universal empowering adapter\"                           \n",
            " [759] \"Team-oriented bi-directional secured line\"              \n",
            " [760] \"Stand-alone radical throughput\"                         \n",
            " [761] \"Inverse zero-defect capability\"                         \n",
            " [762] \"Multi-tiered real-time implementation\"                  \n",
            " [763] \"Front-line zero-defect array\"                           \n",
            " [764] \"Mandatory 4thgeneration structure\"                      \n",
            " [765] \"Synergistic asynchronous superstructure\"                \n",
            " [766] \"Vision-oriented system-worthy forecast\"                 \n",
            " [767] \"Digitized radical architecture\"                         \n",
            " [768] \"Quality-focused optimizing parallelism\"                 \n",
            " [769] \"Exclusive discrete firmware\"                            \n",
            " [770] \"Right-sized solution-oriented benchmark\"                \n",
            " [771] \"Assimilated stable encryption\"                          \n",
            " [772] \"Configurable dynamic secured line\"                      \n",
            " [773] \"Cloned optimal leverage\"                                \n",
            " [774] \"Decentralized client-driven data-warehouse\"             \n",
            " [775] \"Multi-tiered interactive neural-net\"                    \n",
            " [776] \"Enhanced methodical database\"                           \n",
            " [777] \"Ameliorated leadingedge help-desk\"                      \n",
            " [778] \"De-engineered attitude-oriented projection\"             \n",
            " [779] \"Persevering 5thgeneration knowledge user\"               \n",
            " [780] \"Extended grid-enabled hierarchy\"                        \n",
            " [781] \"Reactive tangible contingency\"                          \n",
            " [782] \"Decentralized attitude-oriented interface\"              \n",
            " [783] \"Mandatory coherent groupware\"                           \n",
            " [784] \"Fully-configurable eco-centric frame\"                   \n",
            " [785] \"Advanced disintermediate data-warehouse\"                \n",
            " [786] \"Quality-focused zero-defect data-warehouse\"             \n",
            " [787] \"Cross-group non-volatile secured line\"                  \n",
            " [788] \"Expanded modular application\"                           \n",
            " [789] \"Triple-buffered systematic info-mediaries\"              \n",
            " [790] \"Networked non-volatile synergy\"                         \n",
            " [791] \"Fully-configurable clear-thinking throughput\"           \n",
            " [792] \"Front-line actuating functionalities\"                   \n",
            " [793] \"Compatible composite project\"                           \n",
            " [794] \"Customer-focused solution-oriented software\"            \n",
            " [795] \"Inverse stable synergy\"                                 \n",
            " [796] \"Pre-emptive well-modulated moderator\"                   \n",
            " [797] \"Intuitive modular system engine\"                        \n",
            " [798] \"Centralized value-added hierarchy\"                      \n",
            " [799] \"Assimilated hybrid initiative\"                          \n",
            " [800] \"Optimized coherent Internet solution\"                   \n",
            " [801] \"Versatile 6thgeneration parallelism\"                    \n",
            " [802] \"Configurable impactful productivity\"                    \n",
            " [803] \"Operative full-range forecast\"                          \n",
            " [804] \"Operative secondary functionalities\"                    \n",
            " [805] \"Business-focused transitional solution\"                 \n",
            " [806] \"Ameliorated intermediate Graphical User Interface\"      \n",
            " [807] \"Managed 24hour analyzer\"                                \n",
            " [808] \"Horizontal client-server database\"                      \n",
            " [809] \"Implemented didactic support\"                           \n",
            " [810] \"Digitized homogeneous core\"                             \n",
            " [811] \"Robust holistic application\"                            \n",
            " [812] \"Synergized uniform hierarchy\"                           \n",
            " [813] \"Pre-emptive client-driven secured line\"                 \n",
            " [814] \"Front-line even-keeled website\"                         \n",
            " [815] \"Persistent fault-tolerant service-desk\"                 \n",
            " [816] \"Integrated leadingedge frame\"                           \n",
            " [817] \"Ameliorated coherent open architecture\"                 \n",
            " [818] \"Vision-oriented bifurcated contingency\"                 \n",
            " [819] \"Up-sized maximized model\"                               \n",
            " [820] \"Organized global flexibility\"                           \n",
            " [821] \"Re-engineered zero-defect open architecture\"            \n",
            " [822] \"Balanced executive definition\"                          \n",
            " [823] \"Networked logistical info-mediaries\"                    \n",
            " [824] \"Optimized multimedia website\"                           \n",
            " [825] \"Focused coherent success\"                               \n",
            " [826] \"Robust context-sensitive neural-net\"                    \n",
            " [827] \"Intuitive zero administration adapter\"                  \n",
            " [828] \"Synchronized full-range portal\"                         \n",
            " [829] \"Integrated encompassing support\"                        \n",
            " [830] \"Devolved human-resource circuit\"                        \n",
            " [831] \"Grass-roots transitional flexibility\"                   \n",
            " [832] \"Vision-oriented methodical support\"                     \n",
            " [833] \"Integrated impactful groupware\"                         \n",
            " [834] \"Face-to-face methodical intranet\"                       \n",
            " [835] \"Fundamental tangible moratorium\"                        \n",
            " [836] \"Balanced mobile Local Area Network\"                     \n",
            " [837] \"Realigned 24/7 core\"                                    \n",
            " [838] \"Fully-configurable high-level groupware\"                \n",
            " [839] \"Ameliorated discrete extranet\"                          \n",
            " [840] \"Centralized asynchronous portal\"                        \n",
            " [841] \"Enhanced tertiary utilization\"                          \n",
            " [842] \"Balanced disintermediate conglomeration\"                \n",
            " [843] \"Sharable value-added solution\"                          \n",
            " [844] \"Networked impactful framework\"                          \n",
            " [845] \"Public-key impactful neural-net\"                        \n",
            " [846] \"Innovative interactive portal\"                          \n",
            " [847] \"Networked asymmetric infrastructure\"                    \n",
            " [848] \"Assimilated discrete strategy\"                          \n",
            " [849] \"Phased 5thgeneration open system\"                       \n",
            " [850] \"Upgradable logistical flexibility\"                      \n",
            " [851] \"Centralized user-facing service-desk\"                   \n",
            " [852] \"Extended analyzing emulation\"                           \n",
            " [853] \"Front-line methodical utilization\"                      \n",
            " [854] \"Open-source scalable protocol\"                          \n",
            " [855] \"Networked local secured line\"                           \n",
            " [856] \"Programmable empowering orchestration\"                  \n",
            " [857] \"Enhanced systemic benchmark\"                            \n",
            " [858] \"Focused web-enabled Graphical User Interface\"           \n",
            " [859] \"Automated stable help-desk\"                             \n",
            " [860] \"Managed national hardware\"                              \n",
            " [861] \"Re-engineered composite moratorium\"                     \n",
            " [862] \"Phased fault-tolerant definition\"                       \n",
            " [863] \"Pre-emptive next generation Internet solution\"          \n",
            " [864] \"Reverse-engineered web-enabled support\"                 \n",
            " [865] \"Horizontal intermediate monitoring\"                     \n",
            " [866] \"Intuitive transitional artificial intelligence\"         \n",
            " [867] \"Business-focused asynchronous budgetary management\"     \n",
            " [868] \"Decentralized methodical capability\"                    \n",
            " [869] \"Synergized intangible open system\"                      \n",
            " [870] \"Stand-alone logistical service-desk\"                    \n",
            " [871] \"Expanded full-range synergy\"                            \n",
            " [872] \"Open-architected intangible strategy\"                   \n",
            " [873] \"Diverse directional hardware\"                           \n",
            " [874] \"Balanced discrete approach\"                             \n",
            " [875] \"Total bi-directional success\"                           \n",
            " [876] \"Object-based motivating instruction set\"                \n",
            " [877] \"Realigned intermediate application\"                     \n",
            " [878] \"Sharable encompassing database\"                         \n",
            " [879] \"Progressive 24/7 definition\"                            \n",
            " [880] \"Pre-emptive next generation strategy\"                   \n",
            " [881] \"Open-source 5thgeneration leverage\"                     \n",
            " [882] \"Open-source holistic productivity\"                      \n",
            " [883] \"Multi-channeled scalable moratorium\"                    \n",
            " [884] \"Optional tangible productivity\"                         \n",
            " [885] \"Up-sized intangible circuit\"                            \n",
            " [886] \"Virtual homogeneous budgetary management\"               \n",
            " [887] \"Phased zero-defect portal\"                              \n",
            " [888] \"Optional modular throughput\"                            \n",
            " [889] \"Triple-buffered human-resource complexity\"              \n",
            " [890] \"Innovative cohesive pricing structure\"                  \n",
            " [891] \"Function-based executive moderator\"                     \n",
            " [892] \"Digitized content-based circuit\"                        \n",
            " [893] \"Balanced uniform algorithm\"                             \n",
            " [894] \"Triple-buffered foreground encryption\"                  \n",
            " [895] \"Front-line system-worthy flexibility\"                   \n",
            " [896] \"Centralized clear-thinking Graphic Interface\"           \n",
            " [897] \"Optimized 5thgeneration moratorium\"                     \n",
            " [898] \"Fully-configurable asynchronous firmware\"               \n",
            " [899] \"Exclusive systematic algorithm\"                         \n",
            " [900] \"Exclusive cohesive intranet\"                            \n",
            " [901] \"Vision-oriented asynchronous Internet solution\"         \n",
            " [902] \"Sharable 5thgeneration access\"                          \n",
            " [903] \"Monitored homogeneous artificial intelligence\"          \n",
            " [904] \"Monitored 24/7 moratorium\"                              \n",
            " [905] \"Vision-oriented real-time framework\"                    \n",
            " [906] \"Future-proofed stable function\"                         \n",
            " [907] \"Secured encompassing Graphical User Interface\"          \n",
            " [908] \"Right-sized logistical middleware\"                      \n",
            " [909] \"Team-oriented executive core\"                           \n",
            " [910] \"Vision-oriented next generation solution\"               \n",
            " [911] \"Enhanced optimizing website\"                            \n",
            " [912] \"Reduced background data-warehouse\"                      \n",
            " [913] \"Right-sized mobile initiative\"                          \n",
            " [914] \"Synergized grid-enabled framework\"                      \n",
            " [915] \"Open-source stable paradigm\"                            \n",
            " [916] \"Reverse-engineered context-sensitive emulation\"         \n",
            " [917] \"Public-key disintermediate emulation\"                   \n",
            " [918] \"Up-sized bifurcated capability\"                         \n",
            " [919] \"Stand-alone background open system\"                     \n",
            " [920] \"Stand-alone explicit orchestration\"                     \n",
            " [921] \"Configurable asynchronous application\"                  \n",
            " [922] \"Upgradable 4thgeneration portal\"                        \n",
            " [923] \"Networked client-server solution\"                       \n",
            " [924] \"Public-key bi-directional Graphical User Interface\"     \n",
            " [925] \"Re-contextualized human-resource success\"               \n",
            " [926] \"Front-line fresh-thinking installation\"                 \n",
            " [927] \"Balanced empowering success\"                            \n",
            " [928] \"Robust uniform framework\"                               \n",
            " [929] \"Sharable upward-trending support\"                       \n",
            " [930] \"Assimilated multi-state paradigm\"                       \n",
            " [931] \"Self-enabling local strategy\"                           \n",
            " [932] \"Open-source local approach\"                             \n",
            " [933] \"Polarized intangible encoding\"                          \n",
            " [934] \"Multi-lateral attitude-oriented adapter\"                \n",
            " [935] \"Multi-lateral 24/7 Internet solution\"                   \n",
            " [936] \"Profit-focused secondary portal\"                        \n",
            " [937] \"Reactive upward-trending migration\"                     \n",
            " [938] \"Customer-focused fault-tolerant implementation\"         \n",
            " [939] \"Customizable homogeneous contingency\"                   \n",
            " [940] \"Versatile next generation pricing structure\"            \n",
            " [941] \"Cross-group systemic customer loyalty\"                  \n",
            " [942] \"Face-to-face modular budgetary management\"              \n",
            " [943] \"Proactive non-volatile encryption\"                      \n",
            " [944] \"Decentralized bottom-line help-desk\"                    \n",
            " [945] \"Visionary mission-critical application\"                 \n",
            " [946] \"User-centric attitude-oriented adapter\"                 \n",
            " [947] \"User-centric discrete success\"                          \n",
            " [948] \"Total even-keeled architecture\"                         \n",
            " [949] \"Focused multimedia implementation\"                      \n",
            " [950] \"Stand-alone well-modulated product\"                     \n",
            " [951] \"Ameliorated bandwidth-monitored contingency\"            \n",
            " [952] \"Streamlined homogeneous analyzer\"                       \n",
            " [953] \"Total coherent archive\"                                 \n",
            " [954] \"Front-line neutral alliance\"                            \n",
            " [955] \"Virtual context-sensitive support\"                      \n",
            " [956] \"Re-engineered optimal policy\"                           \n",
            " [957] \"Implemented uniform synergy\"                            \n",
            " [958] \"Horizontal even-keeled challenge\"                       \n",
            " [959] \"Innovative regional groupware\"                          \n",
            " [960] \"Exclusive multi-state Internet solution\"                \n",
            " [961] \"Mandatory empowering focus group\"                       \n",
            " [962] \"Proactive 5thgeneration frame\"                          \n",
            " [963] \"Automated full-range Internet solution\"                 \n",
            " [964] \"Fully-configurable systemic productivity\"               \n",
            " [965] \"Multi-lateral multi-state encryption\"                   \n",
            " [966] \"Intuitive global website\"                               \n",
            " [967] \"Exclusive disintermediate Internet solution\"            \n",
            " [968] \"Ameliorated actuating workforce\"                        \n",
            " [969] \"Synergized clear-thinking protocol\"                     \n",
            " [970] \"Triple-buffered multi-state complexity\"                 \n",
            " [971] \"Enhanced intangible portal\"                             \n",
            " [972] \"Down-sized background groupware\"                        \n",
            " [973] \"Switchable real-time product\"                           \n",
            " [974] \"Ameliorated local workforce\"                            \n",
            " [975] \"Streamlined exuding adapter\"                            \n",
            " [976] \"Business-focused user-facing benchmark\"                 \n",
            " [977] \"Reactive bi-directional standardization\"                \n",
            " [978] \"Virtual bifurcated portal\"                              \n",
            " [979] \"Integrated 3rdgeneration monitoring\"                    \n",
            " [980] \"Balanced responsive open system\"                        \n",
            " [981] \"Focused incremental Graphic Interface\"                  \n",
            " [982] \"Secured 24hour policy\"                                  \n",
            " [983] \"Up-sized asymmetric firmware\"                           \n",
            " [984] \"Distributed fault-tolerant service-desk\"                \n",
            " [985] \"Vision-oriented human-resource synergy\"                 \n",
            " [986] \"Customer-focused explicit challenge\"                    \n",
            " [987] \"Synchronized human-resource moderator\"                  \n",
            " [988] \"Open-architected full-range projection\"                 \n",
            " [989] \"Versatile local forecast\"                               \n",
            " [990] \"Ameliorated user-facing help-desk\"                      \n",
            " [991] \"Enterprise-wide tangible model\"                         \n",
            " [992] \"Versatile mission-critical application\"                 \n",
            " [993] \"Extended leadingedge solution\"                          \n",
            " [994] \"Phased zero tolerance extranet\"                         \n",
            " [995] \"Front-line bifurcated ability\"                          \n",
            " [996] \"Fundamental modular algorithm\"                          \n",
            " [997] \"Grass-roots cohesive monitoring\"                        \n",
            " [998] \"Expanded intangible solution\"                           \n",
            " [999] \"Proactive bandwidth-monitored policy\"                   \n",
            "[1000] \"Virtual 5thgeneration emulation\"                        \n"
          ]
        }
      ]
    },
    {
      "cell_type": "markdown",
      "metadata": {
        "id": "rnhCfMBEhCfB"
      },
      "source": [
        "There are no anomalies in the 'ad.topic.line' column. "
      ]
    },
    {
      "cell_type": "code",
      "metadata": {
        "colab": {
          "base_uri": "https://localhost:8080/"
        },
        "id": "35AN6qQjgEK2",
        "outputId": "f00f57e5-04a5-4959-ff92-2d93502c9e65"
      },
      "source": [
        "# check for anomalies in the 'male' column by scrutinizing its unique values \n",
        "print(unique(data$gender))"
      ],
      "execution_count": 20,
      "outputs": [
        {
          "output_type": "stream",
          "name": "stdout",
          "text": [
            "[1] \"Female\" \"Male\"  \n"
          ]
        }
      ]
    },
    {
      "cell_type": "markdown",
      "metadata": {
        "id": "AMC1rig5h7Jz"
      },
      "source": [
        "There are only 2 unique values in the male column and no entry has an anomaly. "
      ]
    },
    {
      "cell_type": "code",
      "metadata": {
        "colab": {
          "base_uri": "https://localhost:8080/"
        },
        "id": "qZVN4_zGUNsx",
        "outputId": "18693fb8-3e4c-4daa-ef14-88774aa1ab38"
      },
      "source": [
        "# Checking for anomalies in the country column\n",
        "print(unique(data$country))"
      ],
      "execution_count": 21,
      "outputs": [
        {
          "output_type": "stream",
          "name": "stdout",
          "text": [
            "  [1] \"Tunisia\"                                            \n",
            "  [2] \"Nauru\"                                              \n",
            "  [3] \"San Marino\"                                         \n",
            "  [4] \"Italy\"                                              \n",
            "  [5] \"Iceland\"                                            \n",
            "  [6] \"Norway\"                                             \n",
            "  [7] \"Myanmar\"                                            \n",
            "  [8] \"Australia\"                                          \n",
            "  [9] \"Grenada\"                                            \n",
            " [10] \"Ghana\"                                              \n",
            " [11] \"Qatar\"                                              \n",
            " [12] \"Burundi\"                                            \n",
            " [13] \"Egypt\"                                              \n",
            " [14] \"Bosnia and Herzegovina\"                             \n",
            " [15] \"Barbados\"                                           \n",
            " [16] \"Spain\"                                              \n",
            " [17] \"Palestinian Territory\"                              \n",
            " [18] \"Afghanistan\"                                        \n",
            " [19] \"British Indian Ocean Territory (Chagos Archipelago)\"\n",
            " [20] \"Russian Federation\"                                 \n",
            " [21] \"Cameroon\"                                           \n",
            " [22] \"Korea\"                                              \n",
            " [23] \"Tokelau\"                                            \n",
            " [24] \"Monaco\"                                             \n",
            " [25] \"Tuvalu\"                                             \n",
            " [26] \"Greece\"                                             \n",
            " [27] \"British Virgin Islands\"                             \n",
            " [28] \"Bouvet Island (Bouvetoya)\"                          \n",
            " [29] \"Peru\"                                               \n",
            " [30] \"Aruba\"                                              \n",
            " [31] \"Maldives\"                                           \n",
            " [32] \"Senegal\"                                            \n",
            " [33] \"Dominica\"                                           \n",
            " [34] \"Luxembourg\"                                         \n",
            " [35] \"Montenegro\"                                         \n",
            " [36] \"Ukraine\"                                            \n",
            " [37] \"Saint Helena\"                                       \n",
            " [38] \"Liberia\"                                            \n",
            " [39] \"Turkmenistan\"                                       \n",
            " [40] \"Niger\"                                              \n",
            " [41] \"Sri Lanka\"                                          \n",
            " [42] \"Trinidad and Tobago\"                                \n",
            " [43] \"United Kingdom\"                                     \n",
            " [44] \"Guinea-Bissau\"                                      \n",
            " [45] \"Micronesia\"                                         \n",
            " [46] \"Turkey\"                                             \n",
            " [47] \"Croatia\"                                            \n",
            " [48] \"Israel\"                                             \n",
            " [49] \"Svalbard & Jan Mayen Islands\"                       \n",
            " [50] \"Azerbaijan\"                                         \n",
            " [51] \"Iran\"                                               \n",
            " [52] \"Saint Vincent and the Grenadines\"                   \n",
            " [53] \"Bulgaria\"                                           \n",
            " [54] \"Christmas Island\"                                   \n",
            " [55] \"Canada\"                                             \n",
            " [56] \"Rwanda\"                                             \n",
            " [57] \"Turks and Caicos Islands\"                           \n",
            " [58] \"Norfolk Island\"                                     \n",
            " [59] \"Cook Islands\"                                       \n",
            " [60] \"Guatemala\"                                          \n",
            " [61] \"Cote d'Ivoire\"                                      \n",
            " [62] \"Faroe Islands\"                                      \n",
            " [63] \"Ireland\"                                            \n",
            " [64] \"Moldova\"                                            \n",
            " [65] \"Nicaragua\"                                          \n",
            " [66] \"Montserrat\"                                         \n",
            " [67] \"Timor-Leste\"                                        \n",
            " [68] \"Puerto Rico\"                                        \n",
            " [69] \"Central African Republic\"                           \n",
            " [70] \"Venezuela\"                                          \n",
            " [71] \"Wallis and Futuna\"                                  \n",
            " [72] \"Jersey\"                                             \n",
            " [73] \"Samoa\"                                              \n",
            " [74] \"Antarctica (the territory South of 60 deg S)\"       \n",
            " [75] \"Albania\"                                            \n",
            " [76] \"Hong Kong\"                                          \n",
            " [77] \"Lithuania\"                                          \n",
            " [78] \"Bangladesh\"                                         \n",
            " [79] \"Western Sahara\"                                     \n",
            " [80] \"Serbia\"                                             \n",
            " [81] \"Czech Republic\"                                     \n",
            " [82] \"Guernsey\"                                           \n",
            " [83] \"Tanzania\"                                           \n",
            " [84] \"Bhutan\"                                             \n",
            " [85] \"Guinea\"                                             \n",
            " [86] \"Madagascar\"                                         \n",
            " [87] \"Lebanon\"                                            \n",
            " [88] \"Eritrea\"                                            \n",
            " [89] \"Guyana\"                                             \n",
            " [90] \"United Arab Emirates\"                               \n",
            " [91] \"Martinique\"                                         \n",
            " [92] \"Somalia\"                                            \n",
            " [93] \"Benin\"                                              \n",
            " [94] \"Papua New Guinea\"                                   \n",
            " [95] \"Uzbekistan\"                                         \n",
            " [96] \"South Africa\"                                       \n",
            " [97] \"Hungary\"                                            \n",
            " [98] \"Falkland Islands (Malvinas)\"                        \n",
            " [99] \"Saint Martin\"                                       \n",
            "[100] \"Cuba\"                                               \n",
            "[101] \"United States Minor Outlying Islands\"               \n",
            "[102] \"Belize\"                                             \n",
            "[103] \"Kuwait\"                                             \n",
            "[104] \"Thailand\"                                           \n",
            "[105] \"Gibraltar\"                                          \n",
            "[106] \"Holy See (Vatican City State)\"                      \n",
            "[107] \"Netherlands\"                                        \n",
            "[108] \"Belarus\"                                            \n",
            "[109] \"New Zealand\"                                        \n",
            "[110] \"Togo\"                                               \n",
            "[111] \"Kenya\"                                              \n",
            "[112] \"Palau\"                                              \n",
            "[113] \"Cambodia\"                                           \n",
            "[114] \"Costa Rica\"                                         \n",
            "[115] \"Liechtenstein\"                                      \n",
            "[116] \"Angola\"                                             \n",
            "[117] \"Equatorial Guinea\"                                  \n",
            "[118] \"Mongolia\"                                           \n",
            "[119] \"Brazil\"                                             \n",
            "[120] \"Chad\"                                               \n",
            "[121] \"Portugal\"                                           \n",
            "[122] \"Malawi\"                                             \n",
            "[123] \"Singapore\"                                          \n",
            "[124] \"Kazakhstan\"                                         \n",
            "[125] \"China\"                                              \n",
            "[126] \"Vietnam\"                                            \n",
            "[127] \"Mayotte\"                                            \n",
            "[128] \"Jamaica\"                                            \n",
            "[129] \"Bahamas\"                                            \n",
            "[130] \"Algeria\"                                            \n",
            "[131] \"Fiji\"                                               \n",
            "[132] \"Argentina\"                                          \n",
            "[133] \"Philippines\"                                        \n",
            "[134] \"Suriname\"                                           \n",
            "[135] \"Guam\"                                               \n",
            "[136] \"Antigua and Barbuda\"                                \n",
            "[137] \"Georgia\"                                            \n",
            "[138] \"Jordan\"                                             \n",
            "[139] \"Saudi Arabia\"                                       \n",
            "[140] \"Sao Tome and Principe\"                              \n",
            "[141] \"Cyprus\"                                             \n",
            "[142] \"Kyrgyz Republic\"                                    \n",
            "[143] \"Pakistan\"                                           \n",
            "[144] \"Seychelles\"                                         \n",
            "[145] \"Mauritania\"                                         \n",
            "[146] \"Chile\"                                              \n",
            "[147] \"Poland\"                                             \n",
            "[148] \"Estonia\"                                            \n",
            "[149] \"Latvia\"                                             \n",
            "[150] \"Bahrain\"                                            \n",
            "[151] \"Colombia\"                                           \n",
            "[152] \"Brunei Darussalam\"                                  \n",
            "[153] \"Taiwan\"                                             \n",
            "[154] \"Saint Pierre and Miquelon\"                          \n",
            "[155] \"Finland\"                                            \n",
            "[156] \"French Southern Territories\"                        \n",
            "[157] \"Sierra Leone\"                                       \n",
            "[158] \"Tajikistan\"                                         \n",
            "[159] \"Ecuador\"                                            \n",
            "[160] \"Switzerland\"                                        \n",
            "[161] \"France\"                                             \n",
            "[162] \"Malaysia\"                                           \n",
            "[163] \"Mauritius\"                                          \n",
            "[164] \"Japan\"                                              \n",
            "[165] \"Greenland\"                                          \n",
            "[166] \"Guadeloupe\"                                         \n",
            "[167] \"Belgium\"                                            \n",
            "[168] \"Honduras\"                                           \n",
            "[169] \"Paraguay\"                                           \n",
            "[170] \"French Guiana\"                                      \n",
            "[171] \"Northern Mariana Islands\"                           \n",
            "[172] \"American Samoa\"                                     \n",
            "[173] \"Austria\"                                            \n",
            "[174] \"Tonga\"                                              \n",
            "[175] \"New Caledonia\"                                      \n",
            "[176] \"United States of America\"                           \n",
            "[177] \"Morocco\"                                            \n",
            "[178] \"Macedonia\"                                          \n",
            "[179] \"Gabon\"                                              \n",
            "[180] \"Uganda\"                                             \n",
            "[181] \"Saint Lucia\"                                        \n",
            "[182] \"Niue\"                                               \n",
            "[183] \"Zambia\"                                             \n",
            "[184] \"Congo\"                                              \n",
            "[185] \"Pitcairn Islands\"                                   \n",
            "[186] \"Anguilla\"                                           \n",
            "[187] \"Sweden\"                                             \n",
            "[188] \"Indonesia\"                                          \n",
            "[189] \"Mexico\"                                             \n",
            "[190] \"Haiti\"                                              \n",
            "[191] \"Gambia\"                                             \n",
            "[192] \"El Salvador\"                                        \n",
            "[193] \"Libyan Arab Jamahiriya\"                             \n",
            "[194] \"Saint Barthelemy\"                                   \n",
            "[195] \"Reunion\"                                            \n",
            "[196] \"Panama\"                                             \n",
            "[197] \"Dominican Republic\"                                 \n",
            "[198] \"Zimbabwe\"                                           \n",
            "[199] \"Swaziland\"                                          \n",
            "[200] \"Saint Kitts and Nevis\"                              \n",
            "[201] \"Burkina Faso\"                                       \n",
            "[202] \"Heard Island and McDonald Islands\"                  \n",
            "[203] \"Bolivia\"                                            \n",
            "[204] \"Netherlands Antilles\"                               \n",
            "[205] \"French Polynesia\"                                   \n",
            "[206] \"Germany\"                                            \n",
            "[207] \"Malta\"                                              \n",
            "[208] \"Sudan\"                                              \n",
            "[209] \"Lao People's Democratic Republic\"                   \n",
            "[210] \"Isle of Man\"                                        \n",
            "[211] \"Macao\"                                              \n",
            "[212] \"United States Virgin Islands\"                       \n",
            "[213] \"Djibouti\"                                           \n",
            "[214] \"Mali\"                                               \n",
            "[215] \"Romania\"                                            \n",
            "[216] \"Cayman Islands\"                                     \n",
            "[217] \"Ethiopia\"                                           \n",
            "[218] \"Uruguay\"                                            \n",
            "[219] \"Comoros\"                                            \n",
            "[220] \"Vanuatu\"                                            \n",
            "[221] \"Nepal\"                                              \n",
            "[222] \"Yemen\"                                              \n",
            "[223] \"India\"                                              \n",
            "[224] \"Cape Verde\"                                         \n",
            "[225] \"Slovenia\"                                           \n",
            "[226] \"Denmark\"                                            \n",
            "[227] \"Syrian Arab Republic\"                               \n",
            "[228] \"Andorra\"                                            \n",
            "[229] \"Namibia\"                                            \n",
            "[230] \"Slovakia (Slovak Republic)\"                         \n",
            "[231] \"Armenia\"                                            \n",
            "[232] \"South Georgia and the South Sandwich Islands\"       \n",
            "[233] \"Kiribati\"                                           \n",
            "[234] \"Marshall Islands\"                                   \n",
            "[235] \"Bermuda\"                                            \n",
            "[236] \"Mozambique\"                                         \n",
            "[237] \"Lesotho\"                                            \n"
          ]
        }
      ]
    },
    {
      "cell_type": "markdown",
      "metadata": {
        "id": "sAIRr7NKibko"
      },
      "source": [
        "There are no anomalies in the 'country' column. "
      ]
    },
    {
      "cell_type": "code",
      "metadata": {
        "colab": {
          "base_uri": "https://localhost:8080/"
        },
        "id": "enfVgA_Gia2U",
        "outputId": "2e6cc749-12de-467d-ef09-2622fb7d9ebf"
      },
      "source": [
        "# checking for anomalies in the 'clicked.on.ad' column  \n",
        "print(unique(data$clicked.on.ad))"
      ],
      "execution_count": 22,
      "outputs": [
        {
          "output_type": "stream",
          "name": "stdout",
          "text": [
            "[1] 0 1\n"
          ]
        }
      ]
    },
    {
      "cell_type": "markdown",
      "metadata": {
        "id": "eezwOGeSjKlS"
      },
      "source": [
        "There are 2 unique values and no anomalies in the 'clicked.on.ad' column."
      ]
    },
    {
      "cell_type": "code",
      "metadata": {
        "id": "2YPMWzdImCdi",
        "colab": {
          "base_uri": "https://localhost:8080/"
        },
        "outputId": "d538d98f-4a0d-4188-f3a0-1b274e0aac54"
      },
      "source": [
        "# replace the ones and zeros in 'clicked_on_ad' column with 'yes' and 'no' using the ifelse() function\n",
        "data$clicked.on.ad <- ifelse(data$clicked.on.ad == 1,\"Yes\", 'No')\n",
        "print(unique(data$clicked.on.ad))"
      ],
      "execution_count": 23,
      "outputs": [
        {
          "output_type": "stream",
          "name": "stdout",
          "text": [
            "[1] \"No\"  \"Yes\"\n"
          ]
        }
      ]
    },
    {
      "cell_type": "code",
      "metadata": {
        "colab": {
          "base_uri": "https://localhost:8080/",
          "height": 192
        },
        "id": "WV46WvmQWT-9",
        "outputId": "703acf54-9518-40b0-b208-410409468927"
      },
      "source": [
        "head(data,2)"
      ],
      "execution_count": 24,
      "outputs": [
        {
          "output_type": "display_data",
          "data": {
            "text/plain": [
              "  daily.time.spent.on.site age area.income daily.internet.usage\n",
              "1 68.95                    35  61833.90    256.09              \n",
              "2 80.23                    31  68441.85    193.77              \n",
              "  ad.topic.line                      city        gender country\n",
              "1 Cloned 5thgeneration orchestration Wrightburgh Female Tunisia\n",
              "2 Monitored national standardization West Jodi   Male   Nauru  \n",
              "  timestamp           clicked.on.ad\n",
              "1 2016-03-27 00:53:11 No           \n",
              "2 2016-04-04 01:39:02 No           "
            ],
            "text/latex": "A data.frame: 2 × 10\n\\begin{tabular}{r|llllllllll}\n  & daily.time.spent.on.site & age & area.income & daily.internet.usage & ad.topic.line & city & gender & country & timestamp & clicked.on.ad\\\\\n  & <dbl> & <int> & <dbl> & <dbl> & <chr> & <chr> & <chr> & <chr> & <chr> & <chr>\\\\\n\\hline\n\t1 & 68.95 & 35 & 61833.90 & 256.09 & Cloned 5thgeneration orchestration & Wrightburgh & Female & Tunisia & 2016-03-27 00:53:11 & No\\\\\n\t2 & 80.23 & 31 & 68441.85 & 193.77 & Monitored national standardization & West Jodi   & Male   & Nauru   & 2016-04-04 01:39:02 & No\\\\\n\\end{tabular}\n",
            "text/markdown": "\nA data.frame: 2 × 10\n\n| <!--/--> | daily.time.spent.on.site &lt;dbl&gt; | age &lt;int&gt; | area.income &lt;dbl&gt; | daily.internet.usage &lt;dbl&gt; | ad.topic.line &lt;chr&gt; | city &lt;chr&gt; | gender &lt;chr&gt; | country &lt;chr&gt; | timestamp &lt;chr&gt; | clicked.on.ad &lt;chr&gt; |\n|---|---|---|---|---|---|---|---|---|---|---|\n| 1 | 68.95 | 35 | 61833.90 | 256.09 | Cloned 5thgeneration orchestration | Wrightburgh | Female | Tunisia | 2016-03-27 00:53:11 | No |\n| 2 | 80.23 | 31 | 68441.85 | 193.77 | Monitored national standardization | West Jodi   | Male   | Nauru   | 2016-04-04 01:39:02 | No |\n\n",
            "text/html": [
              "<table class=\"dataframe\">\n",
              "<caption>A data.frame: 2 × 10</caption>\n",
              "<thead>\n",
              "\t<tr><th></th><th scope=col>daily.time.spent.on.site</th><th scope=col>age</th><th scope=col>area.income</th><th scope=col>daily.internet.usage</th><th scope=col>ad.topic.line</th><th scope=col>city</th><th scope=col>gender</th><th scope=col>country</th><th scope=col>timestamp</th><th scope=col>clicked.on.ad</th></tr>\n",
              "\t<tr><th></th><th scope=col>&lt;dbl&gt;</th><th scope=col>&lt;int&gt;</th><th scope=col>&lt;dbl&gt;</th><th scope=col>&lt;dbl&gt;</th><th scope=col>&lt;chr&gt;</th><th scope=col>&lt;chr&gt;</th><th scope=col>&lt;chr&gt;</th><th scope=col>&lt;chr&gt;</th><th scope=col>&lt;chr&gt;</th><th scope=col>&lt;chr&gt;</th></tr>\n",
              "</thead>\n",
              "<tbody>\n",
              "\t<tr><th scope=row>1</th><td>68.95</td><td>35</td><td>61833.90</td><td>256.09</td><td>Cloned 5thgeneration orchestration</td><td>Wrightburgh</td><td>Female</td><td>Tunisia</td><td>2016-03-27 00:53:11</td><td>No</td></tr>\n",
              "\t<tr><th scope=row>2</th><td>80.23</td><td>31</td><td>68441.85</td><td>193.77</td><td>Monitored national standardization</td><td>West Jodi  </td><td>Male  </td><td>Nauru  </td><td>2016-04-04 01:39:02</td><td>No</td></tr>\n",
              "</tbody>\n",
              "</table>\n"
            ]
          },
          "metadata": {}
        }
      ]
    },
    {
      "cell_type": "markdown",
      "metadata": {
        "id": "FGkm2bwNzbiA"
      },
      "source": [
        "## Feature Engineering"
      ]
    },
    {
      "cell_type": "code",
      "metadata": {
        "id": "g81LNvHcYxtC"
      },
      "source": [
        "# Extracting 'month', 'day' and 'hour' data from 'timestamp' column\n",
        "data$month <- format(as.POSIXct(data$timestamp, format=\"%Y-%m-%d %H:%M:%S\"), \"%m\")\n",
        "data$time.of.month <- format(as.POSIXct(data$timestamp, format=\"%Y-%m-%d %H:%M:%S\"), \"%d\")\n",
        "data$time.of.day <- format(as.POSIXct(data$timestamp, format=\"%Y-%m-%d %H:%M:%S\"), \"%H\")"
      ],
      "execution_count": 12,
      "outputs": []
    },
    {
      "cell_type": "code",
      "metadata": {
        "id": "hvsKjKnQM1Eb"
      },
      "source": [
        "# categorize the values in the 'part_of_month' column using ifelse() function \n",
        "data$time.of.month <- ifelse(data$time.of.month >='01' & data$time.of.month <= '10' ,\"Early\",\n",
        "              ifelse(data$time.of.month >='11' & data$time.of.month <= '20',\"Mid\", \"Late\"))"
      ],
      "execution_count": 13,
      "outputs": []
    },
    {
      "cell_type": "code",
      "metadata": {
        "id": "R3L46yaaoI3F"
      },
      "source": [
        "# categorize the values in the 'part_of_day' column\n",
        "data$time.of.day <- ifelse(data$time.of.day >='00' & data$time.of.day <= '02' ,\"Late night\",\n",
        "              ifelse(data$time.of.day >='03' & data$time.of.day <= '05',\"Towards morning\",\n",
        "              ifelse(data$time.of.day >='06' & data$time.of.day <= '08',\"Early morning\",\n",
        "              ifelse(data$time.of.day >='09' & data$time.of.day <= '11',\"Late morning\",\n",
        "              ifelse(data$time.of.day >='12' & data$time.of.day <= '14',\"Early afternoon\",\n",
        "              ifelse(data$time.of.day >='15' & data$time.of.day <= '17',\"Late afternoon\",\n",
        "              ifelse(data$time.of.day >='18' & data$time.of.day <= '20',\"Evening\", \"Night\")))))))\n",
        "              "
      ],
      "execution_count": 14,
      "outputs": []
    },
    {
      "cell_type": "code",
      "metadata": {
        "id": "HPs6FZLzu2Xn",
        "colab": {
          "base_uri": "https://localhost:8080/"
        },
        "outputId": "18d1a97e-809d-4ce7-b08b-59c51f8e8617"
      },
      "source": [
        "# drop irrelevant columns\n",
        "setDT(data)[, c( \"timestamp\", \"city\", \"ad.topic.line\", \"clicked_on_ad\") := NULL]"
      ],
      "execution_count": 15,
      "outputs": [
        {
          "output_type": "stream",
          "name": "stderr",
          "text": [
            "Warning message in `[.data.table`(setDT(data), , `:=`(c(\"timestamp\", \"city\", \"ad.topic.line\", :\n",
            "“Column 'clicked_on_ad' does not exist to remove”\n"
          ]
        }
      ]
    },
    {
      "cell_type": "code",
      "metadata": {
        "colab": {
          "base_uri": "https://localhost:8080/",
          "height": 282
        },
        "id": "CLXuyWLR9PZr",
        "outputId": "fe1247bd-10ff-4c36-e712-0808e7d5bba4"
      },
      "source": [
        "# preview the first few records of the dataset\n",
        "head(data)"
      ],
      "execution_count": 16,
      "outputs": [
        {
          "output_type": "display_data",
          "data": {
            "text/plain": [
              "  daily.time.spent.on.site age area.income daily.internet.usage gender\n",
              "1 68.95                    35  61833.90    256.09               Female\n",
              "2 80.23                    31  68441.85    193.77               Male  \n",
              "3 69.47                    26  59785.94    236.50               Female\n",
              "4 74.15                    29  54806.18    245.89               Male  \n",
              "5 68.37                    35  73889.99    225.58               Female\n",
              "6 59.99                    23  59761.56    226.74               Male  \n",
              "  country    clicked.on.ad month time.of.month time.of.day    \n",
              "1 Tunisia    0             03    Late          Late night     \n",
              "2 Nauru      0             04    Early         Late night     \n",
              "3 San Marino 0             03    Mid           Evening        \n",
              "4 Italy      0             01    Early         Late night     \n",
              "5 Iceland    0             06    Early         Towards morning\n",
              "6 Norway     0             05    Mid           Early afternoon"
            ],
            "text/latex": "A data.table: 6 × 10\n\\begin{tabular}{llllllllll}\n daily.time.spent.on.site & age & area.income & daily.internet.usage & gender & country & clicked.on.ad & month & time.of.month & time.of.day\\\\\n <dbl> & <int> & <dbl> & <dbl> & <chr> & <chr> & <int> & <chr> & <chr> & <chr>\\\\\n\\hline\n\t 68.95 & 35 & 61833.90 & 256.09 & Female & Tunisia    & 0 & 03 & Late  & Late night     \\\\\n\t 80.23 & 31 & 68441.85 & 193.77 & Male   & Nauru      & 0 & 04 & Early & Late night     \\\\\n\t 69.47 & 26 & 59785.94 & 236.50 & Female & San Marino & 0 & 03 & Mid   & Evening        \\\\\n\t 74.15 & 29 & 54806.18 & 245.89 & Male   & Italy      & 0 & 01 & Early & Late night     \\\\\n\t 68.37 & 35 & 73889.99 & 225.58 & Female & Iceland    & 0 & 06 & Early & Towards morning\\\\\n\t 59.99 & 23 & 59761.56 & 226.74 & Male   & Norway     & 0 & 05 & Mid   & Early afternoon\\\\\n\\end{tabular}\n",
            "text/markdown": "\nA data.table: 6 × 10\n\n| daily.time.spent.on.site &lt;dbl&gt; | age &lt;int&gt; | area.income &lt;dbl&gt; | daily.internet.usage &lt;dbl&gt; | gender &lt;chr&gt; | country &lt;chr&gt; | clicked.on.ad &lt;int&gt; | month &lt;chr&gt; | time.of.month &lt;chr&gt; | time.of.day &lt;chr&gt; |\n|---|---|---|---|---|---|---|---|---|---|\n| 68.95 | 35 | 61833.90 | 256.09 | Female | Tunisia    | 0 | 03 | Late  | Late night      |\n| 80.23 | 31 | 68441.85 | 193.77 | Male   | Nauru      | 0 | 04 | Early | Late night      |\n| 69.47 | 26 | 59785.94 | 236.50 | Female | San Marino | 0 | 03 | Mid   | Evening         |\n| 74.15 | 29 | 54806.18 | 245.89 | Male   | Italy      | 0 | 01 | Early | Late night      |\n| 68.37 | 35 | 73889.99 | 225.58 | Female | Iceland    | 0 | 06 | Early | Towards morning |\n| 59.99 | 23 | 59761.56 | 226.74 | Male   | Norway     | 0 | 05 | Mid   | Early afternoon |\n\n",
            "text/html": [
              "<table class=\"dataframe\">\n",
              "<caption>A data.table: 6 × 10</caption>\n",
              "<thead>\n",
              "\t<tr><th scope=col>daily.time.spent.on.site</th><th scope=col>age</th><th scope=col>area.income</th><th scope=col>daily.internet.usage</th><th scope=col>gender</th><th scope=col>country</th><th scope=col>clicked.on.ad</th><th scope=col>month</th><th scope=col>time.of.month</th><th scope=col>time.of.day</th></tr>\n",
              "\t<tr><th scope=col>&lt;dbl&gt;</th><th scope=col>&lt;int&gt;</th><th scope=col>&lt;dbl&gt;</th><th scope=col>&lt;dbl&gt;</th><th scope=col>&lt;chr&gt;</th><th scope=col>&lt;chr&gt;</th><th scope=col>&lt;int&gt;</th><th scope=col>&lt;chr&gt;</th><th scope=col>&lt;chr&gt;</th><th scope=col>&lt;chr&gt;</th></tr>\n",
              "</thead>\n",
              "<tbody>\n",
              "\t<tr><td>68.95</td><td>35</td><td>61833.90</td><td>256.09</td><td>Female</td><td>Tunisia   </td><td>0</td><td>03</td><td>Late </td><td>Late night     </td></tr>\n",
              "\t<tr><td>80.23</td><td>31</td><td>68441.85</td><td>193.77</td><td>Male  </td><td>Nauru     </td><td>0</td><td>04</td><td>Early</td><td>Late night     </td></tr>\n",
              "\t<tr><td>69.47</td><td>26</td><td>59785.94</td><td>236.50</td><td>Female</td><td>San Marino</td><td>0</td><td>03</td><td>Mid  </td><td>Evening        </td></tr>\n",
              "\t<tr><td>74.15</td><td>29</td><td>54806.18</td><td>245.89</td><td>Male  </td><td>Italy     </td><td>0</td><td>01</td><td>Early</td><td>Late night     </td></tr>\n",
              "\t<tr><td>68.37</td><td>35</td><td>73889.99</td><td>225.58</td><td>Female</td><td>Iceland   </td><td>0</td><td>06</td><td>Early</td><td>Towards morning</td></tr>\n",
              "\t<tr><td>59.99</td><td>23</td><td>59761.56</td><td>226.74</td><td>Male  </td><td>Norway    </td><td>0</td><td>05</td><td>Mid  </td><td>Early afternoon</td></tr>\n",
              "</tbody>\n",
              "</table>\n"
            ]
          },
          "metadata": {}
        }
      ]
    },
    {
      "cell_type": "markdown",
      "metadata": {
        "id": "hsWKj916fq9_"
      },
      "source": [
        "## Univariate analysis\n"
      ]
    },
    {
      "cell_type": "markdown",
      "metadata": {
        "id": "HB8yixrZNwWW"
      },
      "source": [
        "### Measures of Central Tendency"
      ]
    },
    {
      "cell_type": "markdown",
      "metadata": {
        "id": "5G6J26HtBcG6"
      },
      "source": [
        "**Daily time spent on site**"
      ]
    },
    {
      "cell_type": "code",
      "metadata": {
        "colab": {
          "base_uri": "https://localhost:8080/"
        },
        "id": "rzVNDi3GNOj5",
        "outputId": "8673da6d-b95b-4a8f-dc44-d6410c13ef90"
      },
      "source": [
        "# computing the measures of central tendency of values in 'daily.time.spent.on.site' column\n",
        "cat(\"Mean:\", mean(data$daily.time.spent.on.site), '\\n')\n",
        "cat(\"Median:\", median(data$daily.time.spent.on.site), '\\n')\n",
        "cat(\"Mode:\", mfv(data$daily.time.spent.on.site), '\\n')\n",
        "cat(\"Number of modal values:\", length(mfv(data$daily.time.spent.on.site)))"
      ],
      "execution_count": 17,
      "outputs": [
        {
          "output_type": "stream",
          "name": "stdout",
          "text": [
            "Mean: 65.0002 \n",
            "Median: 68.215 \n",
            "Mode: 62.26 75.55 77.05 78.76 84.53 \n",
            "Number of modal values: 5"
          ]
        }
      ]
    },
    {
      "cell_type": "markdown",
      "metadata": {
        "id": "Zs8Alq0UBkfP"
      },
      "source": [
        "**Age**"
      ]
    },
    {
      "cell_type": "code",
      "metadata": {
        "colab": {
          "base_uri": "https://localhost:8080/"
        },
        "id": "Av2epJz_NTZu",
        "outputId": "351fc5bc-0a65-456a-a6ae-03a40c419515"
      },
      "source": [
        "# compute the measures of central tendency of values in 'age' column\n",
        "cat(\"Mean:\", mean(data$age), '\\n')\n",
        "cat(\"Median:\", median(data$age), '\\n')\n",
        "cat(\"Mode:\", mfv(data$age), '\\n')\n"
      ],
      "execution_count": 31,
      "outputs": [
        {
          "output_type": "stream",
          "name": "stdout",
          "text": [
            "Mean: 36.009 \n",
            "Median: 35 \n",
            "Mode: 31 \n"
          ]
        }
      ]
    },
    {
      "cell_type": "markdown",
      "metadata": {
        "id": "xxMs864ABo2S"
      },
      "source": [
        "**Area income**"
      ]
    },
    {
      "cell_type": "code",
      "metadata": {
        "colab": {
          "base_uri": "https://localhost:8080/"
        },
        "id": "GufBk4CoYHij",
        "outputId": "0ee0da63-fc3a-41a6-d325-095c4686170e"
      },
      "source": [
        "# compute the measures of central tendency of values in 'area_income' column\n",
        "cat(\"Mean:\", mean(data$area.income), '\\n')\n",
        "cat(\"Median:\", median(data$area.income), '\\n')\n",
        "cat(\"Mode:\", mfv(data$area.income), '\\n')\n",
        "cat(\"Number of modal values:\", length(mfv(data$area.income)))"
      ],
      "execution_count": 32,
      "outputs": [
        {
          "output_type": "stream",
          "name": "stdout",
          "text": [
            "Mean: 55000 \n",
            "Median: 57012.3 \n",
            "Mode: 13996.5 14548.06 14775.5 15598.29 15879.1 17709.98 18368.57 18819.34 19345.36 19991.72 20592.99 20856.54 21644.91 21773.22 22205.74 22456.04 22473.08 23410.75 23821.72 23936.86 23942.61 23975.35 24030.06 24078.93 24316.61 24593.33 24852.9 25371.52 25408.21 25583.29 25598.75 25603.93 25682.65 25686.34 25739.09 25767.16 26023.99 26130.93 27073.27 27086.4 27241.11 27262.51 27508.41 27964.6 28019.09 28028.74 28186.65 28210.03 28265.81 28271.84 28275.48 28357.27 28387.42 28495.21 28679.93 29359.2 29398.61 29727.79 29875.8 30227.98 30487.48 30726.26 30976 31072.44 31087.54 31092.93 31215.88 31265.75 31281.01 31343.39 31523.09 31947.65 31998.72 32006.82 32252.38 32536.98 32549.95 32593.59 32635.7 32689.04 32708.94 32847.53 33147.19 33239.2 33258.09 33293.78 33502.57 33553.9 33601.84 33813.08 33951.63 33987.27 34127.21 34191.13 34191.23 34309.24 34418.09 34886.01 34903.67 34942.26 35253.98 35349.26 35350.55 35466.8 35521.88 35684.82 35764.49 36037.33 36424.94 36497.22 36752.24 36782.38 36834.04 36884.23 36913.51 37212.54 37334.78 37345.24 37345.34 37605.11 37713.23 37838.72 37908.29 38067.08 38260.89 38349.78 38427.66 38609.2 38641.2 38645.4 38745.29 38817.4 38987.42 39031.89 39131.53 39132.64 39193.45 39211.49 39552.49 39616 39699.13 39723.97 39799.73 39809.69 39840.55 39939.39 40135.06 40159.2 40182.84 40183.75 40243.82 40345.49 40468.53 40478.83 40763.13 40926.93 41059.64 41097.17 41229.16 41232.89 41335.84 41356.31 41417.27 41521.28 41547.62 41629.86 41768.13 41851.38 41866.55 41884.64 41920.79 42042.95 42078.89 42136.33 42162.9 42191.61 42251.59 42362.49 42415.72 42581.23 42650.32 42696.67 42760.22 42838.29 42861.42 42898.21 42907.89 42993.48 42995.8 43073.78 43111.41 43155.19 43241.19 43241.88 43299.63 43313.73 43386.07 43444.86 43450.11 43573.66 43662.1 43698.53 43708.88 43778.88 43870.51 43881.73 43974.49 44078.24 44174.25 44217.68 44248.52 44275.13 44304.13 44307.18 44490.09 44559.43 44893.71 45400.5 45465.25 45522.44 45580.92 45593.93 45632.51 45716.48 45800.48 45945.88 45959.86 46004.31 46024.29 46033.73 46132.18 46160.63 46179.97 46197.59 46239.14 46339.25 46403.18 46422.76 46473.14 46500.11 46557.92 46653.75 46693.76 46722.07 46737.34 46780.09 46868.53 46931.03 46964.11 46974.15 47051.02 47139.21 47160.53 47169.14 47258.59 47314.45 47338.94 47357.39 47391.95 47447.89 47510.42 47575.44 47638.3 47682.28 47708.42 47861.93 47929.83 47968.32 47997.75 48098.86 48206.04 48246.6 48335.2 48347.64 48376.14 48453.55 48467.68 48537.18 48554.45 48679.54 48758.92 48761.14 48826.14 48852.58 48867.36 48867.67 48913.07 48918.55 49030.03 49090.51 49101.67 49111.47 49158.5 49206.4 49269.98 49282.87 49309.14 49325.48 49457.48 49525.37 49544.41 49597.08 49742.83 49822.78 49850.52 49911.25 49942.66 49957 49995.63 50038.65 50055.33 50086.17 50147.72 50199.77 50216.01 50278.89 50333.72 50335.46 50337.93 50356.06 50439.49 50457.01 50468.36 50491.45 50506.44 50628.31 50666.5 50671.6 50711.68 50723.67 50760.23 50820.74 50950.24 50960.08 50971.73 50983.75 51013.37 51015.11 51049.47 51067.54 51119.93 51163.14 51171.23 51257.26 51315.38 51317.33 51363.16 51409.45 51463.17 51473.28 51501.38 51510.18 51512.66 51593.46 51600.47 51633.34 51636.12 51636.92 51662.24 51691.55 51739.63 51772.58 51812.71 51816.27 51824.01 51847.26 51864.77 51868.85 51869.87 51900.03 51920.49 51975.41 52011 52079.18 52097.32 52140.04 52177.4 52178.98 52182.23 52252.91 52261.73 52336.64 52340.1 52400.88 52416.18 52462.04 52520.75 52530.1 52563.22 52581.16 52656.13 52686.47 52691.79 52723.34 52736.33 52802 52802.58 52968.22 53012.94 53041.77 53042.51 53049.44 53058.91 53167.68 53185.34 53188.69 53223.58 53309.61 53336.76 53350.11 53412.32 53431.35 53441.69 53549.94 53575.48 53647.81 53673.08 53700.57 53767.12 53817.02 53852.85 53898.89 53922.43 54045.39 54106.21 54251.78 54286.1 54324.73 54429.17 54520.14 54541.56 54645.2 54725.87 54755.71 54773.99 54774.77 54787.37 54806.18 54875.95 54952.42 54989.93 55002.05 55015.08 55041.6 55121.65 55130.96 55187.85 55195.61 55316.97 55336.18 55353.41 55358.88 55368.67 55411.06 55424.24 55479.62 55499.69 55605.92 55642.32 55677.12 55764.43 55787.58 55901.12 55942.04 55984.89 55993.68 56067.38 56113.37 56129.89 56180.93 56194.56 56216.57 56242.7 56366.88 56369.74 56379.3 56394.82 56435.6 56457.01 56570.06 56593.8 56605.12 56637.59 56681.65 56683.32 56694.12 56725.47 56729.78 56735.14 56735.83 56759.48 56770.79 56782.18 56791.75 56884.74 56909.3 56974.51 56984.09 56986.73 57009.76 57014.84 57032.36 57179.91 57195.96 57260.41 57330.43 57425.87 57518.73 57519.64 57545.56 57587 57594.7 57667.99 57669.41 57691.95 57737.51 57739.03 57756.89 57777.11 57806.03 57844.96 57846.68 57868.44 57877.15 57887.64 57983.3 58019.64 58037.66 58114.3 58151.87 58183.04 58235.21 58287.86 58295.82 58337.18 58342.63 58348.41 58363.12 58443.99 58476.57 58526.04 58543.94 58576.12 58633.63 58638.75 58677.69 58776.67 58820.16 58847.07 58849.77 58909.36 58920.44 58953.01 58966.22 58996.12 58996.56 59047.91 59106.12 59144.02 59240.24 59243.46 59340.99 59397.89 59419.78 59422.47 59448.44 59457.52 59550.05 59593.56 59610.81 59621.02 59677.64 59683.16 59761.56 59784.18 59785.94 59797.64 59886.58 59967.19 59998.5 60015.57 60082.66 60151.77 60188.38 60192.72 60223.52 60248.97 60283.47 60283.98 60309.58 60315.19 60333.38 60372.64 60465.72 60514.05 60550.66 60575.99 60583.02 60637.62 60638.38 60641.09 60803 60803.37 60805.93 60812.77 60843.32 60845.55 60879.48 60938.73 60953.93 60968.62 60997.84 61004.51 61005.87 61009.1 61039.13 61067.58 61068.26 61117.5 61142.33 61161.29 61172.07 61227.59 61228.96 61230.03 61270.14 61275.18 61383.79 61389.5 61428.18 61467.33 61526.25 61601.05 61608.23 61610.05 61617.98 61625.87 61628.72 61652.53 61690.93 61747.98 61757.12 61770.34 61771.9 61806.31 61833.9 61840.26 61922.06 62053.37 62060.11 62109.8 62161.26 62204.93 62238.58 62312.23 62318.38 62330.75 62336.39 62378.05 62430.55 62463.7 62466.1 62475.99 62491.01 62572.88 62589.84 62657.53 62667.51 62669.59 62722.57 62729.4 62772.42 62784.85 62790.96 62792.43 62927.96 62939.5 63001.03 63006.14 63060.55 63071.34 63100.13 63102.19 63107.88 63109.74 63115.34 63126.96 63274.88 63296.87 63319.99 63336.85 63363.04 63373.7 63394.41 63429.18 63430.33 63450.96 63493.6 63497.62 63528.8 63551.67 63580.22 63649.04 63664.32 63727.5 63764.28 63879.72 63883.81 63891.29 63924.82 63936.5 63965.16 63966.72 63976.44 64008.55 64011.26 64021.55 64045.93 64122.36 64147.86 64188.5 64235.51 64238.71 64264.25 64267.88 64287.78 64395.85 64410.8 64433.99 64447.77 64564.07 64631.22 64654.66 64698.58 64775.1 64802.33 64828 64902.47 64927.19 64929.61 65044.59 65120.86 65172.22 65180.97 65186.58 65227.79 65229.13 65280.16 65421.39 65461.92 65496.78 65499.93 65576.05 65620.25 65653.47 65704.79 65756.36 65773.49 65791.17 65816.38 65826.53 65834.97 65856.74 65882.81 65883.39 65899.68 65953.76 65956.71 65963.37 66025.11 66027.31 66050.63 66107.84 66176.97 66187.58 66193.81 66198.66 66200.96 66217.31 66225.72 66262.59 66263.37 66265.34 66269.49 66281.46 66291.67 66345.1 66348.95 66359.32 66412.04 66429.84 66431.87 66504.16 66522.79 66524.8 66541.05 66572.39 66574 66618.21 66624.6 66629.61 66636.84 66691.23 66699.12 66744.65 66773.83 66784.81 66815.54 66861.67 66873.9 66929.03 66980.27 67033.34 67050.16 67058.72 67080.94 67113.46 67132.46 67186.54 67240.25 67279.06 67301.39 67307.43 67323 67384.31 67430.96 67432.49 67479.62 67511.86 67516.07 67526.92 67575.12 67633.44 67669.06 67682.32 67686.16 67714.82 67744.56 67781.31 67782.17 67866.95 67938.77 67990.84 68016.9 68030.18 68033.54 68094.85 68211.35 68305.91 68324.48 68333.01 68348.99 68357.96 68441.85 68447.17 68448.94 68519.96 68614.98 68713.7 68717 68737.75 68783.45 68787.09 68862 68863.95 68877.02 68962.32 69112.84 69285.69 69428.73 69438.04 69456.83 69476.42 69481.85 69562.46 69646.35 69710.51 69718.19 69758.31 69775.75 69784.85 69805.7 69868.48 69869.66 69874.18 70005.51 70012.83 70053.27 70179.11 70185.06 70203.74 70225.6 70232.95 70324.8 70377.23 70410.11 70449.04 70492.6 70495.64 70505.06 70510.59 70547.16 70575.6 70582.55 70592.81 70701.31 70783.94 70889.68 71055.22 71136.49 71157.05 71222.4 71228.44 71296.67 71384.57 71392.53 71455.62 71511.08 71718.51 71727.51 71881.84 72042.85 72154.68 72188.9 72196.29 72203.96 72209.99 72270.88 72272.9 72325.91 72330.57 72423.97 72524.86 72553.94 72683.35 72684.44 72707.87 72802.42 72948.76 73049.3 73104.47 73174.19 73207.15 73234.87 73347.67 73392.28 73413.87 73474.82 73538.09 73600.28 73608.99 73687.5 73863.25 73882.91 73884.48 73889.99 73910.9 73941.91 74024.61 74159.69 74166.24 74180.05 74430.08 74445.18 74535.94 74543.81 74623.27 74780.74 74903.41 75044.35 75180.2 75254.88 75265.96 75509.61 75524.78 75535.14 75560.65 75687.46 75769.82 75805.12 76003.47 76246.96 76368.31 76408.19 76435.3 76480.16 76560.59 76893.84 76984.21 77143.61 77220.42 77460.07 77567.85 77871.75 77988.71 78092.95 78119.5 78520.99 79332.33 79484.8 \n",
            "Number of modal values: 1000"
          ]
        }
      ]
    },
    {
      "cell_type": "markdown",
      "metadata": {
        "id": "h_508iuTBsxG"
      },
      "source": [
        "**Daily internet usage**"
      ]
    },
    {
      "cell_type": "code",
      "metadata": {
        "colab": {
          "base_uri": "https://localhost:8080/"
        },
        "id": "VIxZ3bQ_eQay",
        "outputId": "6afd1138-ddc3-4d9c-904b-49f0b2922d11"
      },
      "source": [
        "# compute the measures of central tendency of values in 'daily.internet.usage' column\n",
        "cat(\"Mean: \", mean(data$daily.internet.usage), '\\n')\n",
        "cat(\"Median: \", median(data$daily.internet.usage), '\\n')\n",
        "cat(\"Mode: \", mfv(data$daily.internet.usage), '\\n')\n",
        "cat(\"Number of modal values: \", length(mfv(data$daily.internet.usage)))"
      ],
      "execution_count": 33,
      "outputs": [
        {
          "output_type": "stream",
          "name": "stdout",
          "text": [
            "Mean:  180.0001 \n",
            "Median:  183.13 \n",
            "Mode:  113.53 115.91 117.3 119.3 120.06 125.45 132.38 135.24 136.18 138.35 158.22 161.16 162.44 164.25 167.22 169.4 178.75 182.65 190.95 194.23 201.15 211.87 214.42 215.18 219.72 222.11 223.16 228.81 230.36 234.75 235.28 236.96 247.05 256.4 \n",
            "Number of modal values:  34"
          ]
        }
      ]
    },
    {
      "cell_type": "markdown",
      "metadata": {
        "id": "4qHodWplmfs0"
      },
      "source": [
        "### Measures of Dispersion"
      ]
    },
    {
      "cell_type": "markdown",
      "metadata": {
        "id": "Ri5ZyMcV58GK"
      },
      "source": [
        "**Daily time spent on site**"
      ]
    },
    {
      "cell_type": "code",
      "metadata": {
        "colab": {
          "base_uri": "https://localhost:8080/"
        },
        "id": "ZiUX7h9y2-Ci",
        "outputId": "7e22dae9-a0c8-4e6f-fb1b-dedf6e3985f1"
      },
      "source": [
        "# computing the variance and standard deviation of the values in 'daily.time.spent.on.site' column\n",
        "\n",
        "cat('Variance:',var(data$daily.time.spent.on.site), '\\n')\n",
        "cat('Standard Deviation:',sd(data$daily.time.spent.on.site))"
      ],
      "execution_count": 34,
      "outputs": [
        {
          "output_type": "stream",
          "name": "stdout",
          "text": [
            "Variance: 251.3371 \n",
            "Standard Deviation: 15.85361"
          ]
        }
      ]
    },
    {
      "cell_type": "code",
      "metadata": {
        "colab": {
          "base_uri": "https://localhost:8080/"
        },
        "id": "lRJHqbbh3L1g",
        "outputId": "d4fc4d4b-7ef3-4205-d02c-45d517f0bde9"
      },
      "source": [
        "# computing the range, minimum and maximum values in 'daily.time.spent.on.site' column\n",
        "\n",
        "cat(\"Minimum:\", min(data$daily.time.spent.on.site),'minutes', '\\n')\n",
        "cat(\"Maximum:\", max(data$daily.time.spent.on.site),'minutes', '\\n')\n",
        "cat(\"Range:\", range(data$daily.time.spent.on.site))"
      ],
      "execution_count": 35,
      "outputs": [
        {
          "output_type": "stream",
          "name": "stdout",
          "text": [
            "Minimum: 32.6 minutes \n",
            "Maximum: 91.43 minutes \n",
            "Range: 32.6 91.43"
          ]
        }
      ]
    },
    {
      "cell_type": "code",
      "metadata": {
        "colab": {
          "base_uri": "https://localhost:8080/"
        },
        "id": "VRY3YOUTzzs6",
        "outputId": "299a8084-0345-4d15-cb0c-b0a0743c47ae"
      },
      "source": [
        "# computing the skewness and kurtosis of values in the 'daily.time.on.site' column\n",
        "cat(\"Skewness: \", skewness(data$daily.time.spent.on.site), '\\n')\n",
        "cat(\"Kurtosis: \", kurtosis(data$daily.time.spent.on.site), '\\n')"
      ],
      "execution_count": 36,
      "outputs": [
        {
          "output_type": "stream",
          "name": "stdout",
          "text": [
            "Skewness:  -0.3712026 \n",
            "Kurtosis:  1.903942 \n"
          ]
        }
      ]
    },
    {
      "cell_type": "code",
      "metadata": {
        "colab": {
          "base_uri": "https://localhost:8080/",
          "height": 377
        },
        "id": "4j3AvhReNOgf",
        "outputId": "af7ce7c1-8e2e-4c37-e119-703e82424e6d"
      },
      "source": [
        "# Distribution of values in 'daily.time.spent.on.site' column\n",
        "\n",
        "options(repr.plot.width = 8, repr.plot.height = 6)\n",
        "p = data %>% ggplot(aes(x = daily.time.spent.on.site ))\n",
        "\n",
        "p + geom_histogram(color=\"lightgray\", fill=\"purple\", binwidth = 10) +\n",
        "    labs(title = \"Distribution of Daily Time Spent on Site\", x = \"Time spent on site\", y = \"Frequency\") +\n",
        "    theme(axis.title = element_text(size = 20),\n",
        "          axis.text = element_text(size=16),\n",
        "          plot.title = element_text(hjust = 0.5, size = 20))"
      ],
      "execution_count": 37,
      "outputs": [
        {
          "output_type": "display_data",
          "data": {
            "image/png": "[encoded data removed]",
            "text/plain": [
              "plot without title"
            ]
          },
          "metadata": {
            "image/png": {
              "width": 480,
              "height": 360
            }
          }
        }
      ]
    },
    {
      "cell_type": "markdown",
      "metadata": {
        "id": "yGvr3ZwxcmBh"
      },
      "source": [
        "Most time spent on site is around 80 minutes. "
      ]
    },
    {
      "cell_type": "markdown",
      "metadata": {
        "id": "abG2JJR38cp-"
      },
      "source": [
        "**Age**"
      ]
    },
    {
      "cell_type": "code",
      "metadata": {
        "colab": {
          "base_uri": "https://localhost:8080/"
        },
        "id": "iAPQ0U8t5PXY",
        "outputId": "5579a8a2-8124-4ed1-82e5-f6c97bc79413"
      },
      "source": [
        "# computing the variance and standard deviation of the values in 'age' column\n",
        "cat('Variance:',var(data$age), '\\n')\n",
        "cat('Standard Deviation:',sd(data$age))"
      ],
      "execution_count": 38,
      "outputs": [
        {
          "output_type": "stream",
          "name": "stdout",
          "text": [
            "Variance: 77.18611 \n",
            "Standard Deviation: 8.785562"
          ]
        }
      ]
    },
    {
      "cell_type": "code",
      "metadata": {
        "colab": {
          "base_uri": "https://localhost:8080/"
        },
        "id": "W3fekING8gwf",
        "outputId": "9e45de8f-3e0c-4871-8912-e6815aad0dac"
      },
      "source": [
        "# computing the range, and the minimum and maximum values in 'age' column\n",
        "cat(\"The minimum age of an is:\", min(data$age),'years', '\\n')\n",
        "cat(\"The maximum age of is:\", max(data$age),'years', '\\n')\n",
        "cat(\"Range of values is between:\", range(data$age))"
      ],
      "execution_count": 39,
      "outputs": [
        {
          "output_type": "stream",
          "name": "stdout",
          "text": [
            "The minimum age of an is: 19 years \n",
            "The maximum age of is: 61 years \n",
            "Range of values is between: 19 61"
          ]
        }
      ]
    },
    {
      "cell_type": "code",
      "metadata": {
        "colab": {
          "base_uri": "https://localhost:8080/"
        },
        "id": "k2EbhjkEz_qt",
        "outputId": "cfe124d1-fa9e-479b-f02f-9ef385e30cd6"
      },
      "source": [
        "# computing the skewness and kurtosis of values in the 'age' column\n",
        "cat(\"Skewness: \", skewness(data$age), '\\n')\n",
        "cat(\"Kurtosis: \", kurtosis(data$age), '\\n')"
      ],
      "execution_count": 40,
      "outputs": [
        {
          "output_type": "stream",
          "name": "stdout",
          "text": [
            "Skewness:  0.4784227 \n",
            "Kurtosis:  2.595482 \n"
          ]
        }
      ]
    },
    {
      "cell_type": "code",
      "metadata": {
        "colab": {
          "base_uri": "https://localhost:8080/",
          "height": 377
        },
        "id": "JeEy5VKXo2of",
        "outputId": "691939b1-e51c-4556-e349-61b4deec94e4"
      },
      "source": [
        "# visualizing the distribution of values in 'age' column\n",
        "\n",
        "options(repr.plot.width = 8, repr.plot.height = 6)\n",
        "p = data %>% ggplot(aes(x = age ))\n",
        "\n",
        "p + geom_histogram(color=\"lightgray\", fill=\"brown\", binwidth = 10) +\n",
        "    labs(title = \"Distribution of Age\", x = \"Age\", y = \"Frequency\") +\n",
        "    theme(axis.title = element_text(size = 20),\n",
        "          axis.text = element_text(size=16),\n",
        "          plot.title = element_text(hjust = 0.5, size = 20))"
      ],
      "execution_count": 41,
      "outputs": [
        {
          "output_type": "display_data",
          "data": {
            "image/png": "[encoded data removed]",
            "text/plain": [
              "plot without title"
            ]
          },
          "metadata": {
            "image/png": {
              "width": 480,
              "height": 360
            }
          }
        }
      ]
    },
    {
      "cell_type": "markdown",
      "metadata": {
        "id": "Tkg5mHJekg2u"
      },
      "source": [
        "The age group with the highest value is between 25 and 35 years."
      ]
    },
    {
      "cell_type": "code",
      "metadata": {
        "colab": {
          "base_uri": "https://localhost:8080/",
          "height": 34
        },
        "id": "0N27Z9z9AyJE",
        "outputId": "278eabc7-0c39-4843-d88e-e1d8bc1156f4"
      },
      "source": [
        "# compute the quantiles and interquartile range of the values in the 'age' column \n",
        "quantile(data$age)\n"
      ],
      "execution_count": 44,
      "outputs": [
        {
          "output_type": "display_data",
          "data": {
            "text/plain": [
              "  0%  25%  50%  75% 100% \n",
              "  19   29   35   42   61 "
            ],
            "text/latex": "\\begin{description*}\n\\item[0\\textbackslash{}\\%] 19\n\\item[25\\textbackslash{}\\%] 29\n\\item[50\\textbackslash{}\\%] 35\n\\item[75\\textbackslash{}\\%] 42\n\\item[100\\textbackslash{}\\%] 61\n\\end{description*}\n",
            "text/markdown": "0%\n:   1925%\n:   2950%\n:   3575%\n:   42100%\n:   61\n\n",
            "text/html": [
              "<style>\n",
              ".dl-inline {width: auto; margin:0; padding: 0}\n",
              ".dl-inline>dt, .dl-inline>dd {float: none; width: auto; display: inline-block}\n",
              ".dl-inline>dt::after {content: \":\\0020\"; padding-right: .5ex}\n",
              ".dl-inline>dt:not(:first-of-type) {padding-left: .5ex}\n",
              "</style><dl class=dl-inline><dt>0%</dt><dd>19</dd><dt>25%</dt><dd>29</dd><dt>50%</dt><dd>35</dd><dt>75%</dt><dd>42</dd><dt>100%</dt><dd>61</dd></dl>\n"
            ]
          },
          "metadata": {}
        }
      ]
    },
    {
      "cell_type": "markdown",
      "metadata": {
        "id": "Xg-bHBRW8-4d"
      },
      "source": [
        "**Area income**"
      ]
    },
    {
      "cell_type": "code",
      "metadata": {
        "colab": {
          "base_uri": "https://localhost:8080/"
        },
        "id": "J2o6AFWX5hZi",
        "outputId": "12b1de1a-63cf-42d2-cc7a-b0372da20a1d"
      },
      "source": [
        "# compute the variance and standard deviation of the values in 'area.income' column\n",
        "cat('Variance:',var(data$area.income), '\\n')\n",
        "cat('Standard Deviation:',sd(data$area.income))"
      ],
      "execution_count": 45,
      "outputs": [
        {
          "output_type": "stream",
          "name": "stdout",
          "text": [
            "Variance: 179952406 \n",
            "Standard Deviation: 13414.63"
          ]
        }
      ]
    },
    {
      "cell_type": "code",
      "metadata": {
        "colab": {
          "base_uri": "https://localhost:8080/"
        },
        "id": "dEzgppLt9CN4",
        "outputId": "39b70aeb-bf2b-4204-edce-1b1a097e2579"
      },
      "source": [
        "# compute the range, and the minimum and maximum values in 'area_income' column\n",
        "cat(\"Minimum:\", min(data$area.income),'Shillings', '\\n')\n",
        "cat(\"Maximum:\", max(data$area.income),'Shillings', '\\n')\n",
        "cat('Range of values is between:', range(data$area.income),'Shillings')"
      ],
      "execution_count": 46,
      "outputs": [
        {
          "output_type": "stream",
          "name": "stdout",
          "text": [
            "Minimum: 13996.5 Shillings \n",
            "Maximum: 79484.8 Shillings \n",
            "Range of values is between: 13996.5 79484.8 Shillings"
          ]
        }
      ]
    },
    {
      "cell_type": "code",
      "metadata": {
        "colab": {
          "base_uri": "https://localhost:8080/"
        },
        "id": "6FP1nRr00PcX",
        "outputId": "16b47337-78d9-45f9-ad9c-1bb3f74199bc"
      },
      "source": [
        "# compute the skewness and kurtosis of values in the 'area.income' column\n",
        "cat(\"Skewness: \", skewness(data$area.income), '\\n')\n",
        "cat(\"Kurtosis: \", kurtosis(data$area.income), '\\n')"
      ],
      "execution_count": 47,
      "outputs": [
        {
          "output_type": "stream",
          "name": "stdout",
          "text": [
            "Skewness:  -0.6493967 \n",
            "Kurtosis:  2.894694 \n"
          ]
        }
      ]
    },
    {
      "cell_type": "code",
      "metadata": {
        "colab": {
          "base_uri": "https://localhost:8080/",
          "height": 377
        },
        "id": "tBJGIojxrtkB",
        "outputId": "6d69e4c5-6296-48d0-f3f9-b9a50cc0e420"
      },
      "source": [
        "# visualizing the distribution of values in 'area.income' column\n",
        "\n",
        "options(repr.plot.width = 8, repr.plot.height = 6)\n",
        "p = data %>% ggplot(aes(x = area.income ))\n",
        "\n",
        "p + geom_histogram(color=\"lightgray\", fill=\"orange\", binwidth = 10000) +\n",
        "    labs(title = \"Distribution of Area Income\", x = \"Area Income\", y = \"Frequency\") +\n",
        "    theme(axis.title = element_text(size = 20),\n",
        "          axis.text = element_text(size=16),\n",
        "          plot.title = element_text(hjust = 0.5, size = 20))"
      ],
      "execution_count": 48,
      "outputs": [
        {
          "output_type": "display_data",
          "data": {
            "image/png": "[encoded data removed]",
            "text/plain": [
              "plot without title"
            ]
          },
          "metadata": {
            "image/png": {
              "width": 480,
              "height": 360
            }
          }
        }
      ]
    },
    {
      "cell_type": "code",
      "metadata": {
        "colab": {
          "base_uri": "https://localhost:8080/",
          "height": 34
        },
        "id": "PUVIkqMz_5l7",
        "outputId": "56bcc51c-6919-4881-c125-b2c0ce62bca4"
      },
      "source": [
        "# compute the quantiles and interquartile range of the values in the 'area_income' column \n",
        "quantile(data$area.income)\n"
      ],
      "execution_count": 49,
      "outputs": [
        {
          "output_type": "display_data",
          "data": {
            "text/plain": [
              "      0%      25%      50%      75%     100% \n",
              "13996.50 47031.80 57012.30 65470.64 79484.80 "
            ],
            "text/latex": "\\begin{description*}\n\\item[0\\textbackslash{}\\%] 13996.5\n\\item[25\\textbackslash{}\\%] 47031.8025\n\\item[50\\textbackslash{}\\%] 57012.3\n\\item[75\\textbackslash{}\\%] 65470.635\n\\item[100\\textbackslash{}\\%] 79484.8\n\\end{description*}\n",
            "text/markdown": "0%\n:   13996.525%\n:   47031.802550%\n:   57012.375%\n:   65470.635100%\n:   79484.8\n\n",
            "text/html": [
              "<style>\n",
              ".dl-inline {width: auto; margin:0; padding: 0}\n",
              ".dl-inline>dt, .dl-inline>dd {float: none; width: auto; display: inline-block}\n",
              ".dl-inline>dt::after {content: \":\\0020\"; padding-right: .5ex}\n",
              ".dl-inline>dt:not(:first-of-type) {padding-left: .5ex}\n",
              "</style><dl class=dl-inline><dt>0%</dt><dd>13996.5</dd><dt>25%</dt><dd>47031.8025</dd><dt>50%</dt><dd>57012.3</dd><dt>75%</dt><dd>65470.635</dd><dt>100%</dt><dd>79484.8</dd></dl>\n"
            ]
          },
          "metadata": {}
        }
      ]
    },
    {
      "cell_type": "markdown",
      "metadata": {
        "id": "vfwRgvVe-TBt"
      },
      "source": [
        "**Daily internet usage**"
      ]
    },
    {
      "cell_type": "code",
      "metadata": {
        "colab": {
          "base_uri": "https://localhost:8080/"
        },
        "id": "px1LsPnw6Nwg",
        "outputId": "742da1de-f840-425e-eceb-c8311a7ebed5"
      },
      "source": [
        "# compute the variance and standard deviation of the values in 'daily_time_spent_on_site' column\n",
        "cat('Variance:',var(data$daily.internet.usage), '\\n')\n",
        "cat('Variance:',sd(data$daily.internet.usage))"
      ],
      "execution_count": 50,
      "outputs": [
        {
          "output_type": "stream",
          "name": "stdout",
          "text": [
            "Variance: 1927.415 \n",
            "Variance: 43.90234"
          ]
        }
      ]
    },
    {
      "cell_type": "code",
      "metadata": {
        "colab": {
          "base_uri": "https://localhost:8080/"
        },
        "id": "nlc4QhbQ-YtB",
        "outputId": "d6de4332-0a66-4d33-c575-acd72d1b074c"
      },
      "source": [
        "# compute the range, and the minimum and maximum values in 'daily_internet_usage' column\n",
        "cat(\"Minimum:\", min(data$daily.internet.usage),'minutes', '\\n')\n",
        "cat(\"Maximum:\", max(data$daily.internet.usage),'minutes', '\\n')\n",
        "cat('Range of the values is between:', range(data$daily.internet.usage),'minutes')"
      ],
      "execution_count": 51,
      "outputs": [
        {
          "output_type": "stream",
          "name": "stdout",
          "text": [
            "Minimum: 104.78 minutes \n",
            "Maximum: 269.96 minutes \n",
            "Range of the values is between: 104.78 269.96 minutes"
          ]
        }
      ]
    },
    {
      "cell_type": "code",
      "metadata": {
        "colab": {
          "base_uri": "https://localhost:8080/"
        },
        "id": "FxGRXlt30e1d",
        "outputId": "58485e11-1e24-48bf-e9f8-59ec71449907"
      },
      "source": [
        "# computing the skewness and kurtosis of values in the 'daily.internet.usage' column\n",
        "cat(\"Skewness: \", skewness(data$daily.internet.usage), '\\n')\n",
        "cat(\"Kurtosis: \", kurtosis(data$daily.internet.usage), '\\n')"
      ],
      "execution_count": 52,
      "outputs": [
        {
          "output_type": "stream",
          "name": "stdout",
          "text": [
            "Skewness:  -0.03348703 \n",
            "Kurtosis:  1.727701 \n"
          ]
        }
      ]
    },
    {
      "cell_type": "code",
      "metadata": {
        "colab": {
          "base_uri": "https://localhost:8080/",
          "height": 377
        },
        "id": "NPZO_8fCujth",
        "outputId": "962ce253-f503-44c0-c63a-4f44ab5a5d1c"
      },
      "source": [
        "# visualizing the distribution of values in 'daily.internet.usage' column\n",
        "\n",
        "options(repr.plot.width = 8, repr.plot.height = 6)\n",
        "p = data %>% ggplot(aes(x = daily.internet.usage))\n",
        "\n",
        "p + geom_histogram(color=\"lightgray\", fill=\"darkgreen\", binwidth = 20) +\n",
        "    labs(title = \"Distribution of Daily Internet Usage\", x = \"Daily internet usage\", y = \"Frequency\") +\n",
        "    theme(axis.title = element_text(size = 20),\n",
        "          axis.text = element_text(size=16),\n",
        "          plot.title = element_text(hjust = 0.5, size = 20))"
      ],
      "execution_count": 53,
      "outputs": [
        {
          "output_type": "display_data",
          "data": {
            "image/png": "[encoded data removed]",
            "text/plain": [
              "plot without title"
            ]
          },
          "metadata": {
            "image/png": {
              "width": 480,
              "height": 360
            }
          }
        }
      ]
    },
    {
      "cell_type": "code",
      "metadata": {
        "colab": {
          "base_uri": "https://localhost:8080/",
          "height": 50
        },
        "id": "HSmWBx06BNTL",
        "outputId": "e0383a93-e9f8-42bb-f188-c53b9eb62a50"
      },
      "source": [
        "# compute the quantiles and interquartile range of the values in the 'daily_internet_usage' column \n",
        "quantile(data$daily.internet.usage)\n",
        "cat('The interquartile range of age is:',IQR(data$daily.internet.usage))"
      ],
      "execution_count": 54,
      "outputs": [
        {
          "output_type": "display_data",
          "data": {
            "text/plain": [
              "      0%      25%      50%      75%     100% \n",
              "104.7800 138.8300 183.1300 218.7925 269.9600 "
            ],
            "text/latex": "\\begin{description*}\n\\item[0\\textbackslash{}\\%] 104.78\n\\item[25\\textbackslash{}\\%] 138.83\n\\item[50\\textbackslash{}\\%] 183.13\n\\item[75\\textbackslash{}\\%] 218.7925\n\\item[100\\textbackslash{}\\%] 269.96\n\\end{description*}\n",
            "text/markdown": "0%\n:   104.7825%\n:   138.8350%\n:   183.1375%\n:   218.7925100%\n:   269.96\n\n",
            "text/html": [
              "<style>\n",
              ".dl-inline {width: auto; margin:0; padding: 0}\n",
              ".dl-inline>dt, .dl-inline>dd {float: none; width: auto; display: inline-block}\n",
              ".dl-inline>dt::after {content: \":\\0020\"; padding-right: .5ex}\n",
              ".dl-inline>dt:not(:first-of-type) {padding-left: .5ex}\n",
              "</style><dl class=dl-inline><dt>0%</dt><dd>104.78</dd><dt>25%</dt><dd>138.83</dd><dt>50%</dt><dd>183.13</dd><dt>75%</dt><dd>218.7925</dd><dt>100%</dt><dd>269.96</dd></dl>\n"
            ]
          },
          "metadata": {}
        },
        {
          "output_type": "stream",
          "name": "stdout",
          "text": [
            "The interquartile range of age is: 79.9625"
          ]
        }
      ]
    },
    {
      "cell_type": "markdown",
      "metadata": {
        "id": "s3RuMpwyqQpH"
      },
      "source": [
        "### Graphical Visualizations"
      ]
    },
    {
      "cell_type": "code",
      "metadata": {
        "colab": {
          "base_uri": "https://localhost:8080/",
          "height": 377
        },
        "id": "g4OjRURpxD3R",
        "outputId": "f93cca91-67ff-47f8-c77e-71a8722055ba"
      },
      "source": [
        "# plot a pie chart to visualize the proportion of values in the 'gender' column\n",
        "data.gender = data %>% \n",
        "  filter(gender != \"NA\") %>% \n",
        "  group_by(gender) %>% \n",
        "  count() %>% \n",
        "  ungroup()%>% \n",
        "  arrange(desc(gender)) %>%\n",
        "  mutate(percentage = round(n/sum(n),4)*100,\n",
        "         lab.pos = cumsum(percentage)-.5*percentage)\n",
        "ggplot(data = data.gender, \n",
        "       aes(x = \"\", y = percentage, fill = gender))+\n",
        "  geom_bar(stat = \"identity\")+\n",
        "  coord_polar(\"y\", start = 200) +\n",
        "  geom_text(aes(y = lab.pos, label = paste(percentage,\"%\", sep = \"\")), col = \"black\") +\n",
        "  theme_void() + scale_fill_brewer(palette = \"Pastel2\") + labs(title= 'Pie Chart for Gender') + \n",
        "  theme(plot.title = element_text(hjust = 0.5, size = 24))\n"
      ],
      "execution_count": 55,
      "outputs": [
        {
          "output_type": "display_data",
          "data": {
            "image/png": "[encoded data removed]",
            "text/plain": [
              "plot without title"
            ]
          },
          "metadata": {
            "image/png": {
              "width": 480,
              "height": 360
            }
          }
        }
      ]
    },
    {
      "cell_type": "code",
      "metadata": {
        "colab": {
          "base_uri": "https://localhost:8080/",
          "height": 377
        },
        "id": "Tw-RBg5y5kmy",
        "outputId": "505796bf-adc5-4684-a94e-b6f8744fd2d9"
      },
      "source": [
        "# visualizing online time per time of month \n",
        "ggplot(data, aes(time.of.month)) + \n",
        "        geom_bar(aes(y = (..count..)/sum(..count..)), fill = \"#FF6688\") + \n",
        "        scale_y_continuous(labels=scales::percent) +\n",
        "        labs(title= 'Proportions of Time of Months', x='Time of month', y=\"Proportion\") + \n",
        "        theme(axis.title = element_text(size = 18),\n",
        "              axis.text = element_text(size=16),\n",
        "              plot.title = element_text(hjust = 0.5, size = 24))\n"
      ],
      "execution_count": 56,
      "outputs": [
        {
          "output_type": "display_data",
          "data": {
            "image/png": "[encoded data removed]",
            "text/plain": [
              "plot without title"
            ]
          },
          "metadata": {
            "image/png": {
              "width": 480,
              "height": 360
            }
          }
        }
      ]
    },
    {
      "cell_type": "markdown",
      "metadata": {
        "id": "vu3a06Tx4wgi"
      },
      "source": [
        "More individuals used the internet early and mid month than late in the month"
      ]
    },
    {
      "cell_type": "code",
      "metadata": {
        "colab": {
          "base_uri": "https://localhost:8080/",
          "height": 377
        },
        "id": "5jOcp6pZIkDT",
        "outputId": "32c78626-5156-4e8f-b6cc-648b0fade17c"
      },
      "source": [
        "# plot a bar chart to visualize the proportion of values in 'part_of_day' column\n",
        "ggplot(data, aes(time.of.day)) + \n",
        "        geom_bar(aes(y = (..count..)/sum(..count..)), fill = \"#CC4444\") + \n",
        "        scale_y_continuous(labels=scales::percent) +\n",
        "        labs(title= 'Proportions of Parts of Days', x='Time of day', y=\"Proportion\") + \n",
        "        theme(axis.title = element_text(size = 18),\n",
        "              axis.text = element_text(size=16),\n",
        "              plot.title = element_text(hjust = 0.5, size = 24), axis.text.x = element_text(angle = 90))\n"
      ],
      "execution_count": 57,
      "outputs": [
        {
          "output_type": "display_data",
          "data": {
            "image/png": "[encoded data removed]",
            "text/plain": [
              "plot without title"
            ]
          },
          "metadata": {
            "image/png": {
              "width": 480,
              "height": 360
            }
          }
        }
      ]
    },
    {
      "cell_type": "markdown",
      "metadata": {
        "id": "kFQRX7OP6o7L"
      },
      "source": [
        "More individuals visited the site early in the morning and at night."
      ]
    },
    {
      "cell_type": "code",
      "metadata": {
        "colab": {
          "base_uri": "https://localhost:8080/",
          "height": 377
        },
        "id": "jkNQ3X7cONoV",
        "outputId": "be47556a-ed5e-486b-f8bd-ce40db3b75d3"
      },
      "source": [
        "# plot a bar chart to visualize the proportion of values in 'month' column\n",
        "ggplot(data, aes(month)) + \n",
        "        geom_bar(aes(y = (..count..)/sum(..count..)), fill = \"#FF2266\") + \n",
        "        scale_y_continuous(labels=scales::percent) +\n",
        "        labs(title= 'Proportions of Months', x='Month', y=\"Proportion\") + \n",
        "        theme(axis.title = element_text(size = 18),\n",
        "              axis.text = element_text(size=16),\n",
        "              plot.title = element_text(hjust = 0.5, size = 24))\n"
      ],
      "execution_count": 58,
      "outputs": [
        {
          "output_type": "display_data",
          "data": {
            "image/png": "[encoded data removed]",
            "text/plain": [
              "plot without title"
            ]
          },
          "metadata": {
            "image/png": {
              "width": 480,
              "height": 360
            }
          }
        }
      ]
    },
    {
      "cell_type": "markdown",
      "metadata": {
        "id": "krivgwQ28gD6"
      },
      "source": [
        "The month with most visits was February while the one with least visits was July. "
      ]
    },
    {
      "cell_type": "code",
      "metadata": {
        "colab": {
          "base_uri": "https://localhost:8080/",
          "height": 1000
        },
        "id": "_FJxCynST8XW",
        "outputId": "47ed6178-4cfc-45bd-ce86-9d3fcb118fe7"
      },
      "source": [
        "# Frequncy table on the country column to get total no. of visits\n",
        "data %>% count(country, sort = TRUE)"
      ],
      "execution_count": 59,
      "outputs": [
        {
          "output_type": "display_data",
          "data": {
            "text/plain": [
              "    country                                             n\n",
              "1   Czech Republic                                      9\n",
              "2   France                                              9\n",
              "3   Afghanistan                                         8\n",
              "4   Australia                                           8\n",
              "5   Cyprus                                              8\n",
              "6   Greece                                              8\n",
              "7   Liberia                                             8\n",
              "8   Micronesia                                          8\n",
              "9   Peru                                                8\n",
              "10  Senegal                                             8\n",
              "11  South Africa                                        8\n",
              "12  Turkey                                              8\n",
              "13  Albania                                             7\n",
              "14  Bahamas                                             7\n",
              "15  Bosnia and Herzegovina                              7\n",
              "16  Burundi                                             7\n",
              "17  Cambodia                                            7\n",
              "18  Eritrea                                             7\n",
              "19  Ethiopia                                            7\n",
              "20  Fiji                                                7\n",
              "21  Luxembourg                                          7\n",
              "22  Taiwan                                              7\n",
              "23  Venezuela                                           7\n",
              "24  Western Sahara                                      7\n",
              "25  Algeria                                             6\n",
              "26  Anguilla                                            6\n",
              "27  Belarus                                             6\n",
              "28  Bolivia                                             6\n",
              "29  Bulgaria                                            6\n",
              "30  China                                               6\n",
              "⋮   ⋮                                                   ⋮\n",
              "208 Namibia                                             2\n",
              "209 New Caledonia                                       2\n",
              "210 Norway                                              2\n",
              "211 Panama                                              2\n",
              "212 Pitcairn Islands                                    2\n",
              "213 Reunion                                             2\n",
              "214 Saint Barthelemy                                    2\n",
              "215 Saint Lucia                                         2\n",
              "216 Sao Tome and Principe                               2\n",
              "217 Sierra Leone                                        2\n",
              "218 Slovakia (Slovak Republic)                          2\n",
              "219 South Georgia and the South Sandwich Islands        2\n",
              "220 Sudan                                               2\n",
              "221 Suriname                                            2\n",
              "222 Swaziland                                           2\n",
              "223 Uzbekistan                                          2\n",
              "224 Aruba                                               1\n",
              "225 Bermuda                                             1\n",
              "226 British Indian Ocean Territory (Chagos Archipelago) 1\n",
              "227 Cape Verde                                          1\n",
              "228 Germany                                             1\n",
              "229 Jordan                                              1\n",
              "230 Kiribati                                            1\n",
              "231 Lesotho                                             1\n",
              "232 Marshall Islands                                    1\n",
              "233 Montserrat                                          1\n",
              "234 Mozambique                                          1\n",
              "235 Romania                                             1\n",
              "236 Saint Kitts and Nevis                               1\n",
              "237 Slovenia                                            1"
            ],
            "text/latex": "A data.table: 237 × 2\n\\begin{tabular}{ll}\n country & n\\\\\n <chr> & <int>\\\\\n\\hline\n\t Czech Republic         & 9\\\\\n\t France                 & 9\\\\\n\t Afghanistan            & 8\\\\\n\t Australia              & 8\\\\\n\t Cyprus                 & 8\\\\\n\t Greece                 & 8\\\\\n\t Liberia                & 8\\\\\n\t Micronesia             & 8\\\\\n\t Peru                   & 8\\\\\n\t Senegal                & 8\\\\\n\t South Africa           & 8\\\\\n\t Turkey                 & 8\\\\\n\t Albania                & 7\\\\\n\t Bahamas                & 7\\\\\n\t Bosnia and Herzegovina & 7\\\\\n\t Burundi                & 7\\\\\n\t Cambodia               & 7\\\\\n\t Eritrea                & 7\\\\\n\t Ethiopia               & 7\\\\\n\t Fiji                   & 7\\\\\n\t Luxembourg             & 7\\\\\n\t Taiwan                 & 7\\\\\n\t Venezuela              & 7\\\\\n\t Western Sahara         & 7\\\\\n\t Algeria                & 6\\\\\n\t Anguilla               & 6\\\\\n\t Belarus                & 6\\\\\n\t Bolivia                & 6\\\\\n\t Bulgaria               & 6\\\\\n\t China                  & 6\\\\\n\t ⋮ & ⋮\\\\\n\t Namibia                                             & 2\\\\\n\t New Caledonia                                       & 2\\\\\n\t Norway                                              & 2\\\\\n\t Panama                                              & 2\\\\\n\t Pitcairn Islands                                    & 2\\\\\n\t Reunion                                             & 2\\\\\n\t Saint Barthelemy                                    & 2\\\\\n\t Saint Lucia                                         & 2\\\\\n\t Sao Tome and Principe                               & 2\\\\\n\t Sierra Leone                                        & 2\\\\\n\t Slovakia (Slovak Republic)                          & 2\\\\\n\t South Georgia and the South Sandwich Islands        & 2\\\\\n\t Sudan                                               & 2\\\\\n\t Suriname                                            & 2\\\\\n\t Swaziland                                           & 2\\\\\n\t Uzbekistan                                          & 2\\\\\n\t Aruba                                               & 1\\\\\n\t Bermuda                                             & 1\\\\\n\t British Indian Ocean Territory (Chagos Archipelago) & 1\\\\\n\t Cape Verde                                          & 1\\\\\n\t Germany                                             & 1\\\\\n\t Jordan                                              & 1\\\\\n\t Kiribati                                            & 1\\\\\n\t Lesotho                                             & 1\\\\\n\t Marshall Islands                                    & 1\\\\\n\t Montserrat                                          & 1\\\\\n\t Mozambique                                          & 1\\\\\n\t Romania                                             & 1\\\\\n\t Saint Kitts and Nevis                               & 1\\\\\n\t Slovenia                                            & 1\\\\\n\\end{tabular}\n",
            "text/markdown": "\nA data.table: 237 × 2\n\n| country &lt;chr&gt; | n &lt;int&gt; |\n|---|---|\n| Czech Republic         | 9 |\n| France                 | 9 |\n| Afghanistan            | 8 |\n| Australia              | 8 |\n| Cyprus                 | 8 |\n| Greece                 | 8 |\n| Liberia                | 8 |\n| Micronesia             | 8 |\n| Peru                   | 8 |\n| Senegal                | 8 |\n| South Africa           | 8 |\n| Turkey                 | 8 |\n| Albania                | 7 |\n| Bahamas                | 7 |\n| Bosnia and Herzegovina | 7 |\n| Burundi                | 7 |\n| Cambodia               | 7 |\n| Eritrea                | 7 |\n| Ethiopia               | 7 |\n| Fiji                   | 7 |\n| Luxembourg             | 7 |\n| Taiwan                 | 7 |\n| Venezuela              | 7 |\n| Western Sahara         | 7 |\n| Algeria                | 6 |\n| Anguilla               | 6 |\n| Belarus                | 6 |\n| Bolivia                | 6 |\n| Bulgaria               | 6 |\n| China                  | 6 |\n| ⋮ | ⋮ |\n| Namibia                                             | 2 |\n| New Caledonia                                       | 2 |\n| Norway                                              | 2 |\n| Panama                                              | 2 |\n| Pitcairn Islands                                    | 2 |\n| Reunion                                             | 2 |\n| Saint Barthelemy                                    | 2 |\n| Saint Lucia                                         | 2 |\n| Sao Tome and Principe                               | 2 |\n| Sierra Leone                                        | 2 |\n| Slovakia (Slovak Republic)                          | 2 |\n| South Georgia and the South Sandwich Islands        | 2 |\n| Sudan                                               | 2 |\n| Suriname                                            | 2 |\n| Swaziland                                           | 2 |\n| Uzbekistan                                          | 2 |\n| Aruba                                               | 1 |\n| Bermuda                                             | 1 |\n| British Indian Ocean Territory (Chagos Archipelago) | 1 |\n| Cape Verde                                          | 1 |\n| Germany                                             | 1 |\n| Jordan                                              | 1 |\n| Kiribati                                            | 1 |\n| Lesotho                                             | 1 |\n| Marshall Islands                                    | 1 |\n| Montserrat                                          | 1 |\n| Mozambique                                          | 1 |\n| Romania                                             | 1 |\n| Saint Kitts and Nevis                               | 1 |\n| Slovenia                                            | 1 |\n\n",
            "text/html": [
              "<table class=\"dataframe\">\n",
              "<caption>A data.table: 237 × 2</caption>\n",
              "<thead>\n",
              "\t<tr><th scope=col>country</th><th scope=col>n</th></tr>\n",
              "\t<tr><th scope=col>&lt;chr&gt;</th><th scope=col>&lt;int&gt;</th></tr>\n",
              "</thead>\n",
              "<tbody>\n",
              "\t<tr><td>Czech Republic        </td><td>9</td></tr>\n",
              "\t<tr><td>France                </td><td>9</td></tr>\n",
              "\t<tr><td>Afghanistan           </td><td>8</td></tr>\n",
              "\t<tr><td>Australia             </td><td>8</td></tr>\n",
              "\t<tr><td>Cyprus                </td><td>8</td></tr>\n",
              "\t<tr><td>Greece                </td><td>8</td></tr>\n",
              "\t<tr><td>Liberia               </td><td>8</td></tr>\n",
              "\t<tr><td>Micronesia            </td><td>8</td></tr>\n",
              "\t<tr><td>Peru                  </td><td>8</td></tr>\n",
              "\t<tr><td>Senegal               </td><td>8</td></tr>\n",
              "\t<tr><td>South Africa          </td><td>8</td></tr>\n",
              "\t<tr><td>Turkey                </td><td>8</td></tr>\n",
              "\t<tr><td>Albania               </td><td>7</td></tr>\n",
              "\t<tr><td>Bahamas               </td><td>7</td></tr>\n",
              "\t<tr><td>Bosnia and Herzegovina</td><td>7</td></tr>\n",
              "\t<tr><td>Burundi               </td><td>7</td></tr>\n",
              "\t<tr><td>Cambodia              </td><td>7</td></tr>\n",
              "\t<tr><td>Eritrea               </td><td>7</td></tr>\n",
              "\t<tr><td>Ethiopia              </td><td>7</td></tr>\n",
              "\t<tr><td>Fiji                  </td><td>7</td></tr>\n",
              "\t<tr><td>Luxembourg            </td><td>7</td></tr>\n",
              "\t<tr><td>Taiwan                </td><td>7</td></tr>\n",
              "\t<tr><td>Venezuela             </td><td>7</td></tr>\n",
              "\t<tr><td>Western Sahara        </td><td>7</td></tr>\n",
              "\t<tr><td>Algeria               </td><td>6</td></tr>\n",
              "\t<tr><td>Anguilla              </td><td>6</td></tr>\n",
              "\t<tr><td>Belarus               </td><td>6</td></tr>\n",
              "\t<tr><td>Bolivia               </td><td>6</td></tr>\n",
              "\t<tr><td>Bulgaria              </td><td>6</td></tr>\n",
              "\t<tr><td>China                 </td><td>6</td></tr>\n",
              "\t<tr><td>⋮</td><td>⋮</td></tr>\n",
              "\t<tr><td>Namibia                                            </td><td>2</td></tr>\n",
              "\t<tr><td>New Caledonia                                      </td><td>2</td></tr>\n",
              "\t<tr><td>Norway                                             </td><td>2</td></tr>\n",
              "\t<tr><td>Panama                                             </td><td>2</td></tr>\n",
              "\t<tr><td>Pitcairn Islands                                   </td><td>2</td></tr>\n",
              "\t<tr><td>Reunion                                            </td><td>2</td></tr>\n",
              "\t<tr><td>Saint Barthelemy                                   </td><td>2</td></tr>\n",
              "\t<tr><td>Saint Lucia                                        </td><td>2</td></tr>\n",
              "\t<tr><td>Sao Tome and Principe                              </td><td>2</td></tr>\n",
              "\t<tr><td>Sierra Leone                                       </td><td>2</td></tr>\n",
              "\t<tr><td>Slovakia (Slovak Republic)                         </td><td>2</td></tr>\n",
              "\t<tr><td>South Georgia and the South Sandwich Islands       </td><td>2</td></tr>\n",
              "\t<tr><td>Sudan                                              </td><td>2</td></tr>\n",
              "\t<tr><td>Suriname                                           </td><td>2</td></tr>\n",
              "\t<tr><td>Swaziland                                          </td><td>2</td></tr>\n",
              "\t<tr><td>Uzbekistan                                         </td><td>2</td></tr>\n",
              "\t<tr><td>Aruba                                              </td><td>1</td></tr>\n",
              "\t<tr><td>Bermuda                                            </td><td>1</td></tr>\n",
              "\t<tr><td>British Indian Ocean Territory (Chagos Archipelago)</td><td>1</td></tr>\n",
              "\t<tr><td>Cape Verde                                         </td><td>1</td></tr>\n",
              "\t<tr><td>Germany                                            </td><td>1</td></tr>\n",
              "\t<tr><td>Jordan                                             </td><td>1</td></tr>\n",
              "\t<tr><td>Kiribati                                           </td><td>1</td></tr>\n",
              "\t<tr><td>Lesotho                                            </td><td>1</td></tr>\n",
              "\t<tr><td>Marshall Islands                                   </td><td>1</td></tr>\n",
              "\t<tr><td>Montserrat                                         </td><td>1</td></tr>\n",
              "\t<tr><td>Mozambique                                         </td><td>1</td></tr>\n",
              "\t<tr><td>Romania                                            </td><td>1</td></tr>\n",
              "\t<tr><td>Saint Kitts and Nevis                              </td><td>1</td></tr>\n",
              "\t<tr><td>Slovenia                                           </td><td>1</td></tr>\n",
              "</tbody>\n",
              "</table>\n"
            ]
          },
          "metadata": {}
        }
      ]
    },
    {
      "cell_type": "markdown",
      "metadata": {
        "id": "D02RRmfR4nLq"
      },
      "source": [
        "The countries with the most number of visits were Czech Republic and France. "
      ]
    },
    {
      "cell_type": "markdown",
      "metadata": {
        "id": "HPxJPM2JCehb"
      },
      "source": [
        "## Bivariate analysis  \n",
        "\n"
      ]
    },
    {
      "cell_type": "code",
      "metadata": {
        "colab": {
          "base_uri": "https://localhost:8080/",
          "height": 377
        },
        "id": "4gvX98RhCXk_",
        "outputId": "b1fa1fbb-ead8-45e0-f3ee-87afa94e971c"
      },
      "source": [
        "# plot a stacked bar chart to visualize the relationship between gender and clicking on the ad\n",
        "ggplot(data, \n",
        "       aes(x = gender, \n",
        "           fill = clicked.on.ad)) + \n",
        "  geom_bar(position = \"fill\") +\n",
        "    labs(title = \"Clicking on Ad vs Gender\", x = \"Gender\", y = \"Proportion\") +\n",
        "    theme(axis.title = element_text(size = 20),\n",
        "          axis.text = element_text(size=16),\n",
        "          plot.title = element_text(hjust = 0.5, size = 20))"
      ],
      "execution_count": 60,
      "outputs": [
        {
          "output_type": "display_data",
          "data": {
            "image/png": "[encoded data removed]",
            "text/plain": [
              "plot without title"
            ]
          },
          "metadata": {
            "image/png": {
              "width": 480,
              "height": 360
            }
          }
        }
      ]
    },
    {
      "cell_type": "code",
      "metadata": {
        "colab": {
          "base_uri": "https://localhost:8080/",
          "height": 377
        },
        "id": "x-LgrrNKwQTN",
        "outputId": "cca1529e-8555-42ef-915d-acb2eda307ca"
      },
      "source": [
        "# plot a stacked bar chart to visualize the relationship between month and clicking on the ad\n",
        "ggplot(data, \n",
        "       aes(x = month, \n",
        "           fill = clicked.on.ad)) +  \n",
        "  geom_bar(position = \"fill\") +\n",
        "    labs(title = \"Clicking on Ad vs Month\", x = \"Month\", y = \"Proportion\") +\n",
        "    theme(axis.title = element_text(size = 20),\n",
        "          axis.text = element_text(size=16),\n",
        "          plot.title = element_text(hjust = 0.5, size = 20))"
      ],
      "execution_count": 61,
      "outputs": [
        {
          "output_type": "display_data",
          "data": {
            "image/png": "[encoded data removed]",
            "text/plain": [
              "plot without title"
            ]
          },
          "metadata": {
            "image/png": {
              "width": 480,
              "height": 360
            }
          }
        }
      ]
    },
    {
      "cell_type": "code",
      "metadata": {
        "colab": {
          "base_uri": "https://localhost:8080/",
          "height": 377
        },
        "id": "7Nhjab68AyCv",
        "outputId": "dcfb5812-1147-4305-adf2-0e0c9d0f8da6"
      },
      "source": [
        "# plot a stacked bar chart to visualize the relationship between time of month and clicking on the ad\n",
        "ggplot(data, \n",
        "       aes(x = time.of.month, \n",
        "           fill = clicked.on.ad)) + \n",
        "  geom_bar(position = \"fill\") +\n",
        "    labs(title = \"Clicking on Ad vs Time of Month\", x = \"Time of month\", y = \"Proportion\") +\n",
        "    theme(axis.title = element_text(size = 20),\n",
        "          axis.text = element_text(size=16),\n",
        "          plot.title = element_text(hjust = 0.5, size = 20))"
      ],
      "execution_count": 62,
      "outputs": [
        {
          "output_type": "display_data",
          "data": {
            "image/png": "[encoded data removed]",
            "text/plain": [
              "plot without title"
            ]
          },
          "metadata": {
            "image/png": {
              "width": 480,
              "height": 360
            }
          }
        }
      ]
    },
    {
      "cell_type": "code",
      "metadata": {
        "colab": {
          "base_uri": "https://localhost:8080/",
          "height": 377
        },
        "id": "xGOisbPXBxm1",
        "outputId": "19819066-8132-436d-d306-28e69eb314c2"
      },
      "source": [
        "# stacked bar chart to visualize the relationship between time of day and clicking on the ad\n",
        "ggplot(data, \n",
        "       aes(x = time.of.day, \n",
        "           fill = clicked.on.ad)) + \n",
        "  geom_bar(position = \"fill\") +\n",
        "    labs(title = \"Clicking on Ad vs Time of Day\", x = \"Time of day\", y = \"Proportion\") +\n",
        "    theme(axis.title = element_text(size = 20),\n",
        "          axis.text = element_text(size=16),\n",
        "          plot.title = element_text(hjust = 0.5, size = 20), \n",
        "          axis.text.x = element_text(angle = 90))"
      ],
      "execution_count": 63,
      "outputs": [
        {
          "output_type": "display_data",
          "data": {
            "image/png": "[encoded data removed]",
            "text/plain": [
              "plot without title"
            ]
          },
          "metadata": {
            "image/png": {
              "width": 480,
              "height": 360
            }
          }
        }
      ]
    },
    {
      "cell_type": "code",
      "metadata": {
        "colab": {
          "base_uri": "https://localhost:8080/",
          "height": 377
        },
        "id": "0-utCsuibsps",
        "outputId": "6081216c-1b9f-40f9-9ea1-015b852a3320"
      },
      "source": [
        "# stacked bar chart to visualize the relationship between time of month and clicking on the ad\n",
        "\n",
        "ggplot(data, \n",
        "       aes(x = time.of.month, \n",
        "           fill = clicked.on.ad)) + \n",
        "  geom_bar(position = \"fill\") +\n",
        "    labs(title = \"Clicking on Ad vs Time of Month\", x = \"Time of month\", y = \"Proportion\") +\n",
        "    theme(axis.title = element_text(size = 20),\n",
        "          axis.text = element_text(size=16),\n",
        "          plot.title = element_text(hjust = 0.5, size = 20))"
      ],
      "execution_count": 64,
      "outputs": [
        {
          "output_type": "display_data",
          "data": {
            "image/png": "[encoded data removed]",
            "text/plain": [
              "plot without title"
            ]
          },
          "metadata": {
            "image/png": {
              "width": 480,
              "height": 360
            }
          }
        }
      ]
    },
    {
      "cell_type": "markdown",
      "metadata": {
        "id": "FZRFL1O90-Ki"
      },
      "source": [
        "**Pearson Correlation**"
      ]
    },
    {
      "cell_type": "code",
      "metadata": {
        "colab": {
          "base_uri": "https://localhost:8080/",
          "height": 189
        },
        "id": "_LPwVkxQ082B",
        "outputId": "a1039eed-8ddb-46d4-a488-a9a8128d3607"
      },
      "source": [
        "# identify numerical variables in the dataframe\n",
        "num_col <- unlist(lapply(data, is.numeric))\n",
        "\n",
        "# select and subset the numerical variables\n",
        "data_num <- subset(data, select=num_col) \n",
        "\n",
        "# compute the correlations between the variables and display the correlation matrix\n",
        "cor(data_num)"
      ],
      "execution_count": 66,
      "outputs": [
        {
          "output_type": "display_data",
          "data": {
            "text/plain": [
              "                         daily.time.spent.on.site age        area.income\n",
              "daily.time.spent.on.site  1.0000000               -0.3315133  0.3109544 \n",
              "age                      -0.3315133                1.0000000 -0.1826050 \n",
              "area.income               0.3109544               -0.1826050  1.0000000 \n",
              "daily.internet.usage      0.5186585               -0.3672086  0.3374955 \n",
              "                         daily.internet.usage\n",
              "daily.time.spent.on.site  0.5186585          \n",
              "age                      -0.3672086          \n",
              "area.income               0.3374955          \n",
              "daily.internet.usage      1.0000000          "
            ],
            "text/latex": "A matrix: 4 × 4 of type dbl\n\\begin{tabular}{r|llll}\n  & daily.time.spent.on.site & age & area.income & daily.internet.usage\\\\\n\\hline\n\tdaily.time.spent.on.site &  1.0000000 & -0.3315133 &  0.3109544 &  0.5186585\\\\\n\tage & -0.3315133 &  1.0000000 & -0.1826050 & -0.3672086\\\\\n\tarea.income &  0.3109544 & -0.1826050 &  1.0000000 &  0.3374955\\\\\n\tdaily.internet.usage &  0.5186585 & -0.3672086 &  0.3374955 &  1.0000000\\\\\n\\end{tabular}\n",
            "text/markdown": "\nA matrix: 4 × 4 of type dbl\n\n| <!--/--> | daily.time.spent.on.site | age | area.income | daily.internet.usage |\n|---|---|---|---|---|\n| daily.time.spent.on.site |  1.0000000 | -0.3315133 |  0.3109544 |  0.5186585 |\n| age | -0.3315133 |  1.0000000 | -0.1826050 | -0.3672086 |\n| area.income |  0.3109544 | -0.1826050 |  1.0000000 |  0.3374955 |\n| daily.internet.usage |  0.5186585 | -0.3672086 |  0.3374955 |  1.0000000 |\n\n",
            "text/html": [
              "<table class=\"dataframe\">\n",
              "<caption>A matrix: 4 × 4 of type dbl</caption>\n",
              "<thead>\n",
              "\t<tr><th></th><th scope=col>daily.time.spent.on.site</th><th scope=col>age</th><th scope=col>area.income</th><th scope=col>daily.internet.usage</th></tr>\n",
              "</thead>\n",
              "<tbody>\n",
              "\t<tr><th scope=row>daily.time.spent.on.site</th><td> 1.0000000</td><td>-0.3315133</td><td> 0.3109544</td><td> 0.5186585</td></tr>\n",
              "\t<tr><th scope=row>age</th><td>-0.3315133</td><td> 1.0000000</td><td>-0.1826050</td><td>-0.3672086</td></tr>\n",
              "\t<tr><th scope=row>area.income</th><td> 0.3109544</td><td>-0.1826050</td><td> 1.0000000</td><td> 0.3374955</td></tr>\n",
              "\t<tr><th scope=row>daily.internet.usage</th><td> 0.5186585</td><td>-0.3672086</td><td> 0.3374955</td><td> 1.0000000</td></tr>\n",
              "</tbody>\n",
              "</table>\n"
            ]
          },
          "metadata": {}
        }
      ]
    },
    {
      "cell_type": "markdown",
      "metadata": {
        "id": "UEIiDP7msGQo"
      },
      "source": [
        "Other than 'daily.time.spent.on.site' and 'daily.internet.usage', which are moderately correlated, the other variables have low or no correlation."
      ]
    },
    {
      "cell_type": "markdown",
      "metadata": {
        "id": "eC7pvwPYtIY5"
      },
      "source": [
        "## Conclusions\n",
        "* The proportion of females clicking on the ads is higher than the males', meaning that the ads were more appealing to the females more to the males.\n",
        "* More than 50% of the individuals that visited the site in May and February clicked on the ads, while January and March had the fewest propotions of number of clicks.\n",
        "* Most of the individuals visiting the site in the late morning hours clicked on the ads. A little bit over 50% of the individuals visiting the site in the early morning, evening and late night hours clicked on the ads.\n",
        "* The median age of the individuals who did not click on the ads is 31.68 years while the median age of the individuals who clicked on the ads is 40.33 years; morever, the age of 50% of the individuals who clicked on the ads is between 34 years and 47 years while the age of 50% of the individuals who did not click on the ads is between 27 years and 36 years.\n",
        "\n",
        "\n"
      ]
    },
    {
      "cell_type": "markdown",
      "metadata": {
        "id": "aTJiIfr3erfg"
      },
      "source": [
        "## Recommendations\n",
        "* Since February recorded the highest views, the client should tailor more of the content in the other months of the year to be similar to the one she posted on February in order to increase views. \n",
        "* As much as the site is visited by more males than females, the ads are clicked on by more females than males. The client could create various ads that appeal to the genders differently so as to get more people click on the ads.\n",
        "* Most of the individuals interested in cryptography do not spend a lot of time on the site or online; therefore, the client should tailor her sessions to take between 45 minutes to 60 minutes per day in order to capture her targeted audience. \n",
        "* The course content should be appealing to the individuals within the older age group brackets since they are the ones most interested in cryptography. \n",
        "* Since the area income of the individuals who are interested in cryptography is quite low, the price of course should be considerably low.\n"
      ]
    },
    {
      "cell_type": "markdown",
      "metadata": {
        "id": "XPlBV5nGh1um"
      },
      "source": [
        "## Modelling"
      ]
    },
    {
      "cell_type": "code",
      "metadata": {
        "colab": {
          "base_uri": "https://localhost:8080/",
          "height": 158
        },
        "id": "DuT4_owco0s5",
        "outputId": "14f6e5f9-fbad-4ff4-a284-f34b89d2fe4e"
      },
      "source": [
        "head(data, 2)"
      ],
      "execution_count": 18,
      "outputs": [
        {
          "output_type": "display_data",
          "data": {
            "text/plain": [
              "  daily.time.spent.on.site age area.income daily.internet.usage gender country\n",
              "1 68.95                    35  61833.90    256.09               Female Tunisia\n",
              "2 80.23                    31  68441.85    193.77               Male   Nauru  \n",
              "  clicked.on.ad month time.of.month time.of.day\n",
              "1 0             03    Late          Late night \n",
              "2 0             04    Early         Late night "
            ],
            "text/latex": "A data.table: 2 × 10\n\\begin{tabular}{llllllllll}\n daily.time.spent.on.site & age & area.income & daily.internet.usage & gender & country & clicked.on.ad & month & time.of.month & time.of.day\\\\\n <dbl> & <int> & <dbl> & <dbl> & <chr> & <chr> & <int> & <chr> & <chr> & <chr>\\\\\n\\hline\n\t 68.95 & 35 & 61833.90 & 256.09 & Female & Tunisia & 0 & 03 & Late  & Late night\\\\\n\t 80.23 & 31 & 68441.85 & 193.77 & Male   & Nauru   & 0 & 04 & Early & Late night\\\\\n\\end{tabular}\n",
            "text/markdown": "\nA data.table: 2 × 10\n\n| daily.time.spent.on.site &lt;dbl&gt; | age &lt;int&gt; | area.income &lt;dbl&gt; | daily.internet.usage &lt;dbl&gt; | gender &lt;chr&gt; | country &lt;chr&gt; | clicked.on.ad &lt;int&gt; | month &lt;chr&gt; | time.of.month &lt;chr&gt; | time.of.day &lt;chr&gt; |\n|---|---|---|---|---|---|---|---|---|---|\n| 68.95 | 35 | 61833.90 | 256.09 | Female | Tunisia | 0 | 03 | Late  | Late night |\n| 80.23 | 31 | 68441.85 | 193.77 | Male   | Nauru   | 0 | 04 | Early | Late night |\n\n",
            "text/html": [
              "<table class=\"dataframe\">\n",
              "<caption>A data.table: 2 × 10</caption>\n",
              "<thead>\n",
              "\t<tr><th scope=col>daily.time.spent.on.site</th><th scope=col>age</th><th scope=col>area.income</th><th scope=col>daily.internet.usage</th><th scope=col>gender</th><th scope=col>country</th><th scope=col>clicked.on.ad</th><th scope=col>month</th><th scope=col>time.of.month</th><th scope=col>time.of.day</th></tr>\n",
              "\t<tr><th scope=col>&lt;dbl&gt;</th><th scope=col>&lt;int&gt;</th><th scope=col>&lt;dbl&gt;</th><th scope=col>&lt;dbl&gt;</th><th scope=col>&lt;chr&gt;</th><th scope=col>&lt;chr&gt;</th><th scope=col>&lt;int&gt;</th><th scope=col>&lt;chr&gt;</th><th scope=col>&lt;chr&gt;</th><th scope=col>&lt;chr&gt;</th></tr>\n",
              "</thead>\n",
              "<tbody>\n",
              "\t<tr><td>68.95</td><td>35</td><td>61833.90</td><td>256.09</td><td>Female</td><td>Tunisia</td><td>0</td><td>03</td><td>Late </td><td>Late night</td></tr>\n",
              "\t<tr><td>80.23</td><td>31</td><td>68441.85</td><td>193.77</td><td>Male  </td><td>Nauru  </td><td>0</td><td>04</td><td>Early</td><td>Late night</td></tr>\n",
              "</tbody>\n",
              "</table>\n"
            ]
          },
          "metadata": {}
        }
      ]
    },
    {
      "cell_type": "code",
      "metadata": {
        "colab": {
          "base_uri": "https://localhost:8080/",
          "height": 282
        },
        "id": "2NBU8v8Ph6oK",
        "outputId": "4c89f911-2a41-433f-b411-e4518eae4f76"
      },
      "source": [
        "# encoding\n",
        "data_model <- data \n",
        "data_model$time.of.month <- ifelse(data_model$time.of.month == \"Early\", 1,\n",
        "              ifelse(data_model$time.of.month == \"Mid\", 2, 3))\n",
        "\n",
        "# encode values in 'part_of_day' column\n",
        "data_model$time.of.day <- ifelse(data_model$time.of.day == \"Late night\", 1,\n",
        "              ifelse(data_model$time.of.day == \"Towards morning\", 2,\n",
        "              ifelse(data_model$time.of.day == \"Early morning\", 3,\n",
        "              ifelse(data_model$time.of.day == \"Late morning\", 4,\n",
        "              ifelse(data_model$time.of.day == \"Early afternoon\", 5,\n",
        "              ifelse(data_model$time.of.day == \"Late afternoon\", 6,\n",
        "              ifelse(data_model$time.of.day == \"Evening\", 7,8)))))))\n",
        "\n",
        "# change the data types of 'part_of_day' and 'part_of_month' columns to 'factor'\n",
        "data_model <- transform(data_model, time.of.day=as.factor(time.of.day), time.of.month=as.factor(time.of.month))\n",
        "\n",
        "# drop irrelevant columns\n",
        "data_model <-data_model %>% select(-c(country, month))\n",
        "\n",
        "# preview the first few records in the dataset\n",
        "head(data_model)"
      ],
      "execution_count": 38,
      "outputs": [
        {
          "output_type": "display_data",
          "data": {
            "text/plain": [
              "  daily.time.spent.on.site age area.income daily.internet.usage gender\n",
              "1 68.95                    35  61833.90    256.09               Female\n",
              "2 80.23                    31  68441.85    193.77               Male  \n",
              "3 69.47                    26  59785.94    236.50               Female\n",
              "4 74.15                    29  54806.18    245.89               Male  \n",
              "5 68.37                    35  73889.99    225.58               Female\n",
              "6 59.99                    23  59761.56    226.74               Male  \n",
              "  clicked.on.ad time.of.month time.of.day\n",
              "1 0             3             1          \n",
              "2 0             1             1          \n",
              "3 0             2             7          \n",
              "4 0             1             1          \n",
              "5 0             1             2          \n",
              "6 0             2             5          "
            ],
            "text/latex": "A data.table: 6 × 8\n\\begin{tabular}{llllllll}\n daily.time.spent.on.site & age & area.income & daily.internet.usage & gender & clicked.on.ad & time.of.month & time.of.day\\\\\n <dbl> & <int> & <dbl> & <dbl> & <chr> & <int> & <fct> & <fct>\\\\\n\\hline\n\t 68.95 & 35 & 61833.90 & 256.09 & Female & 0 & 3 & 1\\\\\n\t 80.23 & 31 & 68441.85 & 193.77 & Male   & 0 & 1 & 1\\\\\n\t 69.47 & 26 & 59785.94 & 236.50 & Female & 0 & 2 & 7\\\\\n\t 74.15 & 29 & 54806.18 & 245.89 & Male   & 0 & 1 & 1\\\\\n\t 68.37 & 35 & 73889.99 & 225.58 & Female & 0 & 1 & 2\\\\\n\t 59.99 & 23 & 59761.56 & 226.74 & Male   & 0 & 2 & 5\\\\\n\\end{tabular}\n",
            "text/markdown": "\nA data.table: 6 × 8\n\n| daily.time.spent.on.site &lt;dbl&gt; | age &lt;int&gt; | area.income &lt;dbl&gt; | daily.internet.usage &lt;dbl&gt; | gender &lt;chr&gt; | clicked.on.ad &lt;int&gt; | time.of.month &lt;fct&gt; | time.of.day &lt;fct&gt; |\n|---|---|---|---|---|---|---|---|\n| 68.95 | 35 | 61833.90 | 256.09 | Female | 0 | 3 | 1 |\n| 80.23 | 31 | 68441.85 | 193.77 | Male   | 0 | 1 | 1 |\n| 69.47 | 26 | 59785.94 | 236.50 | Female | 0 | 2 | 7 |\n| 74.15 | 29 | 54806.18 | 245.89 | Male   | 0 | 1 | 1 |\n| 68.37 | 35 | 73889.99 | 225.58 | Female | 0 | 1 | 2 |\n| 59.99 | 23 | 59761.56 | 226.74 | Male   | 0 | 2 | 5 |\n\n",
            "text/html": [
              "<table class=\"dataframe\">\n",
              "<caption>A data.table: 6 × 8</caption>\n",
              "<thead>\n",
              "\t<tr><th scope=col>daily.time.spent.on.site</th><th scope=col>age</th><th scope=col>area.income</th><th scope=col>daily.internet.usage</th><th scope=col>gender</th><th scope=col>clicked.on.ad</th><th scope=col>time.of.month</th><th scope=col>time.of.day</th></tr>\n",
              "\t<tr><th scope=col>&lt;dbl&gt;</th><th scope=col>&lt;int&gt;</th><th scope=col>&lt;dbl&gt;</th><th scope=col>&lt;dbl&gt;</th><th scope=col>&lt;chr&gt;</th><th scope=col>&lt;int&gt;</th><th scope=col>&lt;fct&gt;</th><th scope=col>&lt;fct&gt;</th></tr>\n",
              "</thead>\n",
              "<tbody>\n",
              "\t<tr><td>68.95</td><td>35</td><td>61833.90</td><td>256.09</td><td>Female</td><td>0</td><td>3</td><td>1</td></tr>\n",
              "\t<tr><td>80.23</td><td>31</td><td>68441.85</td><td>193.77</td><td>Male  </td><td>0</td><td>1</td><td>1</td></tr>\n",
              "\t<tr><td>69.47</td><td>26</td><td>59785.94</td><td>236.50</td><td>Female</td><td>0</td><td>2</td><td>7</td></tr>\n",
              "\t<tr><td>74.15</td><td>29</td><td>54806.18</td><td>245.89</td><td>Male  </td><td>0</td><td>1</td><td>1</td></tr>\n",
              "\t<tr><td>68.37</td><td>35</td><td>73889.99</td><td>225.58</td><td>Female</td><td>0</td><td>1</td><td>2</td></tr>\n",
              "\t<tr><td>59.99</td><td>23</td><td>59761.56</td><td>226.74</td><td>Male  </td><td>0</td><td>2</td><td>5</td></tr>\n",
              "</tbody>\n",
              "</table>\n"
            ]
          },
          "metadata": {}
        }
      ]
    },
    {
      "cell_type": "code",
      "metadata": {
        "colab": {
          "base_uri": "https://localhost:8080/"
        },
        "id": "ZJRzjHMgr3u-",
        "outputId": "e940ba59-8c38-4b20-9d92-5dc265ada58a"
      },
      "source": [
        "# Importing the needed libraries\n",
        "\n",
        "install.packages(\"caTools\")\n",
        "library(caTools)"
      ],
      "execution_count": 20,
      "outputs": [
        {
          "output_type": "stream",
          "name": "stderr",
          "text": [
            "Installing package into ‘/usr/local/lib/R/site-library’\n",
            "(as ‘lib’ is unspecified)\n",
            "\n",
            "also installing the dependency ‘bitops’\n",
            "\n",
            "\n"
          ]
        }
      ]
    },
    {
      "cell_type": "code",
      "metadata": {
        "id": "oYnFjljYpemF"
      },
      "source": [
        "# split the data into train and test sets\n",
        "set.seed(32)\n",
        "split = sample.split(data_model$clicked.on.ad, SplitRatio = .70) # the training set will contain 70% of the data and test set will contain the remaining 30%\n",
        "train = subset(data_model, split == TRUE)\n",
        "test  = subset(data_model, split == FALSE)\n"
      ],
      "execution_count": 39,
      "outputs": []
    },
    {
      "cell_type": "markdown",
      "metadata": {
        "id": "odyYG0TFsN7G"
      },
      "source": [
        "### Random Forest"
      ]
    },
    {
      "cell_type": "code",
      "metadata": {
        "colab": {
          "base_uri": "https://localhost:8080/"
        },
        "id": "1Gxgzk3QstZv",
        "outputId": "1b532f1f-e0b2-43a4-9564-88686442069d"
      },
      "source": [
        "install.packages('caret')\n",
        "library(caret)\n",
        "install.packages('e1071')\n",
        "library(e1071)\n",
        "install.packages('ranger')\n",
        "library(ranger)\n",
        "install.packages('kernlab')\n",
        "library(kernlab)"
      ],
      "execution_count": 22,
      "outputs": [
        {
          "output_type": "stream",
          "name": "stderr",
          "text": [
            "Installing package into ‘/usr/local/lib/R/site-library’\n",
            "(as ‘lib’ is unspecified)\n",
            "\n",
            "also installing the dependencies ‘listenv’, ‘parallelly’, ‘future’, ‘globals’, ‘future.apply’, ‘progressr’, ‘numDeriv’, ‘SQUAREM’, ‘lava’, ‘prodlim’, ‘proxy’, ‘iterators’, ‘gower’, ‘ipred’, ‘e1071’, ‘foreach’, ‘ModelMetrics’, ‘plyr’, ‘pROC’, ‘recipes’, ‘reshape2’\n",
            "\n",
            "\n",
            "Loading required package: lattice\n",
            "\n",
            "\n",
            "Attaching package: ‘caret’\n",
            "\n",
            "\n",
            "The following object is masked from ‘package:purrr’:\n",
            "\n",
            "    lift\n",
            "\n",
            "\n",
            "Installing package into ‘/usr/local/lib/R/site-library’\n",
            "(as ‘lib’ is unspecified)\n",
            "\n",
            "\n",
            "Attaching package: ‘e1071’\n",
            "\n",
            "\n",
            "The following objects are masked from ‘package:moments’:\n",
            "\n",
            "    kurtosis, moment, skewness\n",
            "\n",
            "\n",
            "The following object is masked from ‘package:modeest’:\n",
            "\n",
            "    skewness\n",
            "\n",
            "\n",
            "Installing package into ‘/usr/local/lib/R/site-library’\n",
            "(as ‘lib’ is unspecified)\n",
            "\n",
            "also installing the dependency ‘RcppEigen’\n",
            "\n",
            "\n",
            "Installing package into ‘/usr/local/lib/R/site-library’\n",
            "(as ‘lib’ is unspecified)\n",
            "\n",
            "\n",
            "Attaching package: ‘kernlab’\n",
            "\n",
            "\n",
            "The following object is masked from ‘package:purrr’:\n",
            "\n",
            "    cross\n",
            "\n",
            "\n",
            "The following object is masked from ‘package:ggplot2’:\n",
            "\n",
            "    alpha\n",
            "\n",
            "\n"
          ]
        }
      ]
    },
    {
      "cell_type": "code",
      "metadata": {
        "colab": {
          "base_uri": "https://localhost:8080/"
        },
        "id": "6MiOHzkasHYd",
        "outputId": "9a7c2ddc-b107-42d7-b129-7e3b8f4dab5f"
      },
      "source": [
        "# grid search for optimal parameters \n",
        "model <- train(clicked.on.ad ~., data = train, method = \"ranger\",\n",
        "                    trControl=trainControl(method = \"repeatedcv\", number = 10, repeats =5),\n",
        "                    preProcess = c(\"center\", \"scale\"),\n",
        "                    tuneLength = 10)"
      ],
      "execution_count": 40,
      "outputs": [
        {
          "output_type": "stream",
          "name": "stderr",
          "text": [
            "Warning message in train.default(x, y, weights = w, ...):\n",
            "“You are trying to do regression and your outcome only has two possible values Are you trying to do classification? If so, use a 2 level factor as your outcome column.”\n"
          ]
        }
      ]
    },
    {
      "cell_type": "code",
      "metadata": {
        "colab": {
          "base_uri": "https://localhost:8080/",
          "height": 622
        },
        "id": "20DbzRKzj0hz",
        "outputId": "a2b0a095-a266-4ddf-f134-9fe645667dd6"
      },
      "source": [
        "model"
      ],
      "execution_count": 43,
      "outputs": [
        {
          "output_type": "display_data",
          "data": {
            "text/plain": [
              "Random Forest \n",
              "\n",
              "700 samples\n",
              "  7 predictor\n",
              "\n",
              "Pre-processing: centered (14), scaled (14) \n",
              "Resampling: Cross-Validated (10 fold, repeated 5 times) \n",
              "Summary of sample sizes: 630, 630, 630, 630, 630, 630, ... \n",
              "Resampling results across tuning parameters:\n",
              "\n",
              "  mtry  splitrule   RMSE       Rsquared   MAE       \n",
              "   2    variance    0.2144209  0.8469063  0.15782277\n",
              "   2    extratrees  0.2564257  0.8410687  0.22717745\n",
              "   3    variance    0.1938623  0.8562946  0.11332947\n",
              "   3    extratrees  0.2089182  0.8562450  0.15386101\n",
              "   4    variance    0.1876183  0.8602267  0.09604820\n",
              "   4    extratrees  0.1941923  0.8621139  0.12403910\n",
              "   6    variance    0.1852808  0.8605188  0.08162643\n",
              "   6    extratrees  0.1847265  0.8667976  0.10104019\n",
              "   7    variance    0.1856835  0.8592652  0.07819059\n",
              "   7    extratrees  0.1827751  0.8679409  0.09539274\n",
              "   8    variance    0.1866108  0.8576080  0.07584231\n",
              "   8    extratrees  0.1818710  0.8682086  0.09156995\n",
              "  10    variance    0.1881687  0.8547428  0.07321951\n",
              "  10    extratrees  0.1819589  0.8666427  0.08679188\n",
              "  11    variance    0.1892536  0.8529684  0.07248451\n",
              "  11    extratrees  0.1819352  0.8660518  0.08497616\n",
              "  12    variance    0.1909095  0.8504580  0.07216408\n",
              "  12    extratrees  0.1821603  0.8656453  0.08380864\n",
              "  14    variance    0.1937140  0.8459392  0.07164833\n",
              "  14    extratrees  0.1834447  0.8631763  0.08192616\n",
              "\n",
              "Tuning parameter 'min.node.size' was held constant at a value of 5\n",
              "RMSE was used to select the optimal model using the smallest value.\n",
              "The final values used for the model were mtry = 8, splitrule = extratrees\n",
              " and min.node.size = 5."
            ]
          },
          "metadata": {}
        }
      ]
    },
    {
      "cell_type": "code",
      "metadata": {
        "id": "XmtLyYZswCke"
      },
      "source": [
        "# Making predictions using our test data\n",
        "\n",
        "pred <- predict(model, test, type=\"raw\")"
      ],
      "execution_count": 60,
      "outputs": []
    },
    {
      "cell_type": "markdown",
      "metadata": {
        "id": "zHYzOCiTqxhv"
      },
      "source": [
        "**Linear**"
      ]
    },
    {
      "cell_type": "code",
      "metadata": {
        "id": "26oLXYq0qvOD"
      },
      "source": [
        "# cross validate the optimal hyperparameter values and train the svm linear model \n",
        "model_linear <- train(clicked_on_ad ~., data = train, method = \"svmLinear\",\n",
        "                    trControl=trainControl(method = \"repeatedcv\", number = 10, repeats =5),\n",
        "                    preProcess = c(\"center\", \"scale\"),\n",
        "                    tuneLength = 10)"
      ],
      "execution_count": null,
      "outputs": []
    },
    {
      "cell_type": "code",
      "metadata": {
        "colab": {
          "base_uri": "https://localhost:8080/"
        },
        "id": "dmSyGZF8ySdF",
        "outputId": "26d7386a-e214-487a-b0b9-02ecee082d8e"
      },
      "source": [
        "# cross validate the optimal hyperparameter values and train the svm linear model \n",
        "model_linear <- train(clicked.on.ad ~., data = train, method = \"svmLinear\",\n",
        "                    trControl=trainControl(method = \"repeatedcv\", number = 10, repeats =5),\n",
        "                    preProcess = c(\"center\", \"scale\"),\n",
        "                    tuneLength = 10)"
      ],
      "execution_count": 34,
      "outputs": [
        {
          "output_type": "stream",
          "name": "stderr",
          "text": [
            "Warning message in train.default(x, y, weights = w, ...):\n",
            "“You are trying to do regression and your outcome only has two possible values Are you trying to do classification? If so, use a 2 level factor as your outcome column.”\n"
          ]
        }
      ]
    },
    {
      "cell_type": "code",
      "metadata": {
        "id": "LV2qei-_ygX7"
      },
      "source": [
        "# make predictions of the results of the test data using the trained svm linear model\n",
        "pred_linear = predict(model_linear, newdata=test)"
      ],
      "execution_count": 36,
      "outputs": []
    }
  ]
}